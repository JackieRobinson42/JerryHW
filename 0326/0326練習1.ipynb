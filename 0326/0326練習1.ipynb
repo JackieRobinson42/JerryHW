{
 "cells": [
  {
   "cell_type": "markdown",
   "metadata": {},
   "source": [
    "# 練習1(函式closure)"
   ]
  },
  {
   "cell_type": "code",
   "execution_count": 4,
   "metadata": {},
   "outputs": [],
   "source": [
    "def cosway(saying):\n",
    "    def inner():\n",
    "        return \"Cowsay: '%s'\" %saying\n",
    "    return inner"
   ]
  },
  {
   "cell_type": "code",
   "execution_count": 9,
   "metadata": {},
   "outputs": [
    {
     "data": {
      "text/plain": [
       "\"Cowsay: 'Yes'\""
      ]
     },
     "execution_count": 9,
     "metadata": {},
     "output_type": "execute_result"
    }
   ],
   "source": [
    "a = cosway('Yes')\n",
    "a()"
   ]
  },
  {
   "cell_type": "code",
   "execution_count": 2,
   "metadata": {},
   "outputs": [],
   "source": [
    "def gen_power(base):\n",
    "    def power(exp):\n",
    "        return base + exp\n",
    "    return power"
   ]
  },
  {
   "cell_type": "code",
   "execution_count": 3,
   "metadata": {},
   "outputs": [],
   "source": [
    "power2 = gen_power(10)\n",
    "power3 = gen_power(20)"
   ]
  },
  {
   "cell_type": "code",
   "execution_count": 15,
   "metadata": {},
   "outputs": [
    {
     "data": {
      "text/plain": [
       "13"
      ]
     },
     "execution_count": 15,
     "metadata": {},
     "output_type": "execute_result"
    }
   ],
   "source": [
    "power2(3)"
   ]
  },
  {
   "cell_type": "code",
   "execution_count": 16,
   "metadata": {},
   "outputs": [
    {
     "data": {
      "text/plain": [
       "22"
      ]
     },
     "execution_count": 16,
     "metadata": {},
     "output_type": "execute_result"
    }
   ],
   "source": [
    "power3(2)"
   ]
  },
  {
   "cell_type": "markdown",
   "metadata": {},
   "source": [
    "# 練習2(裝飾器Decorator)"
   ]
  },
  {
   "cell_type": "code",
   "execution_count": 59,
   "metadata": {},
   "outputs": [],
   "source": [
    "def document_it(func):\n",
    "    def newfunciton(*args,**kwargs):\n",
    "        print('執行函式1',func.__name__)\n",
    "        print('參數位置',args)\n",
    "        print('關鍵字參數',kwargs)\n",
    "        result = func(*args,**kwargs)\n",
    "        print('結果:',result)\n",
    "        return result\n",
    "    return newfunciton"
   ]
  },
  {
   "cell_type": "code",
   "execution_count": 36,
   "metadata": {},
   "outputs": [],
   "source": [
    "def add_ints(a,b):\n",
    "    return a+b"
   ]
  },
  {
   "cell_type": "code",
   "execution_count": 37,
   "metadata": {},
   "outputs": [
    {
     "data": {
      "text/plain": [
       "11"
      ]
     },
     "execution_count": 37,
     "metadata": {},
     "output_type": "execute_result"
    }
   ],
   "source": [
    "add_ints(5,6)"
   ]
  },
  {
   "cell_type": "code",
   "execution_count": 60,
   "metadata": {},
   "outputs": [],
   "source": [
    "@document_it\n",
    "def add_ints(a,b):\n",
    "    return a+b"
   ]
  },
  {
   "cell_type": "code",
   "execution_count": 46,
   "metadata": {},
   "outputs": [
    {
     "name": "stdout",
     "output_type": "stream",
     "text": [
      "執行函式 add_ints\n",
      "參數位置 (8, 7)\n",
      "關鍵字參數 {}\n",
      "結果: 15\n"
     ]
    },
    {
     "data": {
      "text/plain": [
       "15"
      ]
     },
     "execution_count": 46,
     "metadata": {},
     "output_type": "execute_result"
    }
   ],
   "source": [
    "add_ints(8,7)"
   ]
  },
  {
   "cell_type": "code",
   "execution_count": 66,
   "metadata": {},
   "outputs": [],
   "source": [
    "def square_it(func):\n",
    "    def square(*args,**kwargs):\n",
    "        print('執行函式2',func.__name__)\n",
    "        result = func(*args,**kwargs)\n",
    "        print('New結果:',result)\n",
    "        return result * result\n",
    "    return square"
   ]
  },
  {
   "cell_type": "code",
   "execution_count": 67,
   "metadata": {},
   "outputs": [],
   "source": [
    "@document_it\n",
    "@square_it\n",
    "def add_ints(a,b):\n",
    "    return a + b\n",
    "#1.進入document_it(func = square)\n",
    "#2.執行newfunction\n",
    "#3.newfunction中的func代入square執行\n",
    "#4.執行square(func = add_ints)\n",
    "#5.回傳square中的result至newfunction\n",
    "#6.newfunction輸出結果為square中平方後的答案"
   ]
  },
  {
   "cell_type": "code",
   "execution_count": 65,
   "metadata": {},
   "outputs": [
    {
     "name": "stdout",
     "output_type": "stream",
     "text": [
      "執行函式1 square\n",
      "參數位置 (10, 20)\n",
      "關鍵字參數 {}\n",
      "執行函式2 add_ints\n",
      "New結果: 30\n",
      "結果: 900\n"
     ]
    },
    {
     "data": {
      "text/plain": [
       "900"
      ]
     },
     "execution_count": 65,
     "metadata": {},
     "output_type": "execute_result"
    }
   ],
   "source": [
    "add_ints(10,20)"
   ]
  },
  {
   "cell_type": "markdown",
   "metadata": {},
   "source": [
    "### decorator範例"
   ]
  },
  {
   "cell_type": "markdown",
   "metadata": {},
   "source": [
    "#### 寫法1"
   ]
  },
  {
   "cell_type": "code",
   "execution_count": null,
   "metadata": {},
   "outputs": [],
   "source": [
    "def print_my_name(name):\n",
    "    print ('I am %s' %(name()))\n",
    "\n",
    "@print_my_name\n",
    "def my_name():\n",
    "    return'Hans'"
   ]
  },
  {
   "cell_type": "markdown",
   "metadata": {},
   "source": [
    "#### 寫法2"
   ]
  },
  {
   "cell_type": "code",
   "execution_count": 53,
   "metadata": {},
   "outputs": [
    {
     "name": "stdout",
     "output_type": "stream",
     "text": [
      "I am James\n"
     ]
    }
   ],
   "source": [
    "def print_my_name(name):\n",
    "    print ('I am %s' %(name()))\n",
    "\n",
    "def my_name():\n",
    "    return 'James'\n",
    "\n",
    "my_name = print_my_name(my_name)"
   ]
  },
  {
   "cell_type": "code",
   "execution_count": 51,
   "metadata": {},
   "outputs": [
    {
     "name": "stdout",
     "output_type": "stream",
     "text": [
      "I am James\n"
     ]
    }
   ],
   "source": [
    "def print_my_name(name):\n",
    "    print ('I am %s' %(name()))\n",
    "    return name\n",
    "def my_name():\n",
    "    return 'James'\n",
    "\n",
    "my_name = print_my_name(my_name)"
   ]
  },
  {
   "cell_type": "code",
   "execution_count": 52,
   "metadata": {},
   "outputs": [
    {
     "data": {
      "text/plain": [
       "'James'"
      ]
     },
     "execution_count": 52,
     "metadata": {},
     "output_type": "execute_result"
    }
   ],
   "source": [
    "my_name()"
   ]
  },
  {
   "cell_type": "markdown",
   "metadata": {},
   "source": [
    "### Decorator(square_it)"
   ]
  },
  {
   "cell_type": "code",
   "execution_count": 79,
   "metadata": {},
   "outputs": [],
   "source": [
    "def square_it(func):\n",
    "    def newfunction(*args,**kwargs):\n",
    "        result = func(*args,**kwargs)\n",
    "        print(\"add_ints 結果:\",result)\n",
    "        return ('square_it 結果：',result * result)\n",
    "    return newfunction"
   ]
  },
  {
   "cell_type": "code",
   "execution_count": 74,
   "metadata": {},
   "outputs": [],
   "source": [
    "def add_ints(a,b):\n",
    "    return ('add_ints 結果：',a + b)"
   ]
  },
  {
   "cell_type": "code",
   "execution_count": 73,
   "metadata": {},
   "outputs": [
    {
     "data": {
      "text/plain": [
       "('add_ints 結果：', 100)"
      ]
     },
     "execution_count": 73,
     "metadata": {},
     "output_type": "execute_result"
    }
   ],
   "source": [
    "add_ints(10,90)"
   ]
  },
  {
   "cell_type": "code",
   "execution_count": 81,
   "metadata": {},
   "outputs": [],
   "source": [
    "@square_it\n",
    "def add_ints(a,b):\n",
    "    return a + b"
   ]
  },
  {
   "cell_type": "code",
   "execution_count": 82,
   "metadata": {},
   "outputs": [
    {
     "name": "stdout",
     "output_type": "stream",
     "text": [
      "add_ints 結果: 100\n"
     ]
    },
    {
     "data": {
      "text/plain": [
       "('square_it 結果：', 10000)"
      ]
     },
     "execution_count": 82,
     "metadata": {},
     "output_type": "execute_result"
    }
   ],
   "source": [
    "add_ints(10,90)"
   ]
  },
  {
   "cell_type": "markdown",
   "metadata": {},
   "source": [
    "# 練習3(lambda, map)"
   ]
  },
  {
   "cell_type": "code",
   "execution_count": 17,
   "metadata": {},
   "outputs": [],
   "source": [
    "def edit_story(words,func):\n",
    "    for word in words:\n",
    "        print(func(word))\n",
    "A = ['hello','hi','hey','oops']"
   ]
  },
  {
   "cell_type": "code",
   "execution_count": 18,
   "metadata": {},
   "outputs": [],
   "source": [
    "def caps(word):\n",
    "    return word.capitalize() + '!'"
   ]
  },
  {
   "cell_type": "code",
   "execution_count": 19,
   "metadata": {},
   "outputs": [
    {
     "name": "stdout",
     "output_type": "stream",
     "text": [
      "Hello!\n",
      "Hi!\n",
      "Hey!\n",
      "Oops!\n"
     ]
    }
   ],
   "source": [
    "edit_story(A,caps)"
   ]
  },
  {
   "cell_type": "code",
   "execution_count": 20,
   "metadata": {},
   "outputs": [
    {
     "name": "stdout",
     "output_type": "stream",
     "text": [
      "Hello!\n",
      "Hi!\n",
      "Hey!\n",
      "Oops!\n"
     ]
    }
   ],
   "source": [
    "edit_story(A,lambda word: word.capitalize() + '!')"
   ]
  },
  {
   "cell_type": "code",
   "execution_count": 3,
   "metadata": {},
   "outputs": [],
   "source": [
    "def square(x):\n",
    "    return x**2"
   ]
  },
  {
   "cell_type": "code",
   "execution_count": 6,
   "metadata": {},
   "outputs": [
    {
     "data": {
      "text/plain": [
       "[1, 4, 9, 16, 25]"
      ]
     },
     "execution_count": 6,
     "metadata": {},
     "output_type": "execute_result"
    }
   ],
   "source": [
    "list(map(square,[1,2,3,4,5]))"
   ]
  },
  {
   "cell_type": "code",
   "execution_count": 7,
   "metadata": {},
   "outputs": [
    {
     "data": {
      "text/plain": [
       "[1, 4, 9, 16, 25]"
      ]
     },
     "execution_count": 7,
     "metadata": {},
     "output_type": "execute_result"
    }
   ],
   "source": [
    "list(map(lambda x:x **2,[1,2,3,4,5]))"
   ]
  },
  {
   "cell_type": "code",
   "execution_count": 2,
   "metadata": {},
   "outputs": [
    {
     "data": {
      "text/plain": [
       "[3, 7, 11, 15, 19]"
      ]
     },
     "execution_count": 2,
     "metadata": {},
     "output_type": "execute_result"
    }
   ],
   "source": [
    "list(map(lambda x,y:x + y,[1,3,5,7,9],[2,4,6,8,10]))"
   ]
  },
  {
   "cell_type": "code",
   "execution_count": 9,
   "metadata": {},
   "outputs": [
    {
     "name": "stdout",
     "output_type": "stream",
     "text": [
      "未輸入按enter可退出5\n",
      "[5]\n",
      "未輸入按enter可退出6\n",
      "[5, 6]\n",
      "未輸入按enter可退出10\n",
      "[5, 6, 10]\n",
      "未輸入按enter可退出30\n",
      "[5, 6, 10, 30]\n",
      "未輸入按enter可退出\n"
     ]
    },
    {
     "data": {
      "text/plain": [
       "[105, 106, 110, 130]"
      ]
     },
     "execution_count": 9,
     "metadata": {},
     "output_type": "execute_result"
    }
   ],
   "source": [
    "x = input(\"未輸入按enter可退出\")\n",
    "y = []\n",
    "while True:\n",
    "    \n",
    "    if x == '':\n",
    "        break\n",
    "    else:\n",
    "        temp = int(x)\n",
    "        y.append(temp)\n",
    "        print(y)\n",
    "        x = input('未輸入按enter可退出')\n",
    "list(map(lambda i: i +100,y))"
   ]
  },
  {
   "cell_type": "markdown",
   "metadata": {},
   "source": [
    "# 練習4(命名空間與範圍)"
   ]
  },
  {
   "cell_type": "code",
   "execution_count": 84,
   "metadata": {},
   "outputs": [],
   "source": [
    "animal = 'pig'\n",
    "def print_global():\n",
    "    print('動物為全域變數',animal)"
   ]
  },
  {
   "cell_type": "code",
   "execution_count": 85,
   "metadata": {},
   "outputs": [
    {
     "name": "stdout",
     "output_type": "stream",
     "text": [
      "最高等級 pig\n"
     ]
    }
   ],
   "source": [
    "print('最高等級',animal)"
   ]
  },
  {
   "cell_type": "code",
   "execution_count": 86,
   "metadata": {},
   "outputs": [
    {
     "name": "stdout",
     "output_type": "stream",
     "text": [
      "動物為全域變數 pig\n"
     ]
    }
   ],
   "source": [
    "print_global()"
   ]
  },
  {
   "cell_type": "code",
   "execution_count": 87,
   "metadata": {},
   "outputs": [
    {
     "data": {
      "text/plain": [
       "'pig'"
      ]
     },
     "execution_count": 87,
     "metadata": {},
     "output_type": "execute_result"
    }
   ],
   "source": [
    "animal"
   ]
  },
  {
   "cell_type": "code",
   "execution_count": 88,
   "metadata": {},
   "outputs": [],
   "source": [
    "def change_local():\n",
    "    animal = 'dog'\n",
    "    print(animal)"
   ]
  },
  {
   "cell_type": "code",
   "execution_count": 89,
   "metadata": {},
   "outputs": [
    {
     "name": "stdout",
     "output_type": "stream",
     "text": [
      "dog\n"
     ]
    }
   ],
   "source": [
    "change_local()\n",
    "#區域中的animal"
   ]
  },
  {
   "cell_type": "code",
   "execution_count": 90,
   "metadata": {},
   "outputs": [
    {
     "data": {
      "text/plain": [
       "'pig'"
      ]
     },
     "execution_count": 90,
     "metadata": {},
     "output_type": "execute_result"
    }
   ],
   "source": [
    "animal\n",
    "#全域中的animal"
   ]
  },
  {
   "cell_type": "code",
   "execution_count": 91,
   "metadata": {},
   "outputs": [],
   "source": [
    "def change_local():\n",
    "    animal = 'dog'\n",
    "    print('最高等級',animal,id(animal))"
   ]
  },
  {
   "cell_type": "code",
   "execution_count": 92,
   "metadata": {},
   "outputs": [
    {
     "name": "stdout",
     "output_type": "stream",
     "text": [
      "最高等級 dog 3100808343880\n"
     ]
    }
   ],
   "source": [
    "change_local()"
   ]
  },
  {
   "cell_type": "code",
   "execution_count": 93,
   "metadata": {},
   "outputs": [
    {
     "data": {
      "text/plain": [
       "3100756674072"
      ]
     },
     "execution_count": 93,
     "metadata": {},
     "output_type": "execute_result"
    }
   ],
   "source": [
    "id(animal)"
   ]
  },
  {
   "cell_type": "code",
   "execution_count": 94,
   "metadata": {},
   "outputs": [],
   "source": [
    "def change_and_print_global():\n",
    "    global animal\n",
    "    animal = '貓'\n",
    "    print('動物:',animal)"
   ]
  },
  {
   "cell_type": "code",
   "execution_count": 95,
   "metadata": {},
   "outputs": [
    {
     "data": {
      "text/plain": [
       "'pig'"
      ]
     },
     "execution_count": 95,
     "metadata": {},
     "output_type": "execute_result"
    }
   ],
   "source": [
    "animal"
   ]
  },
  {
   "cell_type": "code",
   "execution_count": 96,
   "metadata": {},
   "outputs": [
    {
     "name": "stdout",
     "output_type": "stream",
     "text": [
      "動物: 貓\n"
     ]
    }
   ],
   "source": [
    "change_and_print_global()"
   ]
  },
  {
   "cell_type": "code",
   "execution_count": 97,
   "metadata": {},
   "outputs": [
    {
     "data": {
      "text/plain": [
       "'貓'"
      ]
     },
     "execution_count": 97,
     "metadata": {},
     "output_type": "execute_result"
    }
   ],
   "source": [
    "animal"
   ]
  },
  {
   "cell_type": "code",
   "execution_count": 98,
   "metadata": {},
   "outputs": [],
   "source": [
    "animal = '狗'"
   ]
  },
  {
   "cell_type": "code",
   "execution_count": 99,
   "metadata": {},
   "outputs": [],
   "source": [
    "def change_local():\n",
    "    animal = '貓'\n",
    "    print('區域變數:',locals())"
   ]
  },
  {
   "cell_type": "code",
   "execution_count": 103,
   "metadata": {},
   "outputs": [
    {
     "name": "stdout",
     "output_type": "stream",
     "text": [
      "區域變數: {'animal': '貓'}\n",
      "全域變數: {'__name__': '__main__', '__doc__': 'Automatically created module for IPython interactive environment', '__package__': None, '__loader__': None, '__spec__': None, '__builtin__': <module 'builtins' (built-in)>, '__builtins__': <module 'builtins' (built-in)>, '_ih': ['', \"def square_it(func):\\n    def newfunction(*args,**kwargs):\\n        result = func(*args,**kwargs)\\n        print('New結果:',result)\\n        return result * result\\n    return newfunction\", '@document_it\\n@square_it\\ndef add_ints(a,b):\\n    return a + b', \"def document_it(func):\\n    def newfunciton(*args,**kwargs):\\n        print('執行函式',func.__name__)\\n        print('參數位置',args)\\n        print('關鍵字參數',kwargs)\\n        result = func(*args,**kwargs)\\n        print('結果:',result)\\n        return result\\n    return newfunciton\", '@document_it\\n@square_it\\ndef add_ints(a,b):\\n    return a + b', 'add_ints(10,20)', \"def square_it(func):\\n    def newfunction(c,d):\\n        result = func(c,d)\\n        print('New結果:',result)\\n        return result * result\\n    return newfunction\", '@document_it\\n@square_it\\ndef add_ints(a,b):\\n    return a + b', 'add_ints(10,20)', \"def square_it(func):\\n    def newfunction(*c,**d):\\n        result = func(*c,**d)\\n        print('New結果:',result)\\n        return result * result\\n    return newfunction\", '@document_it\\n@square_it\\ndef add_ints(a,b):\\n    return a + b', 'add_ints(10,20)', \"def square_it(func):\\n    def squre(*args,**kwargs):\\n        result = func(*args,**kwargs)\\n        print('New結果:',result)\\n        return result * result\\n    return newfunction\", '@document_it\\n@square_it\\ndef add_ints(a,b):\\n    return a + b', \"def square_it(func):\\n    def squre(*args,**kwargs):\\n        result = func(*args,**kwargs)\\n        print('New結果:',result)\\n        return result * result\\n    return squre\", '@document_it\\n@square_it\\ndef add_ints(a,b):\\n    return a + b', 'add_ints(10,20)', '@square_it\\n@document_it\\ndef add_ints(a,b):\\n    return a + b', 'add_ints(10,20)', \"def document_it(func):\\n    def newfunciton(*args,**kwargs):\\n        print('執行函式1',func.__name__)\\n        print('參數位置',args)\\n        print('關鍵字參數',kwargs)\\n        result = func(*args,**kwargs)\\n        print('結果:',result)\\n        return result\\n    return newfunciton\", \"def square_it(func):\\n    def squre(*args,**kwargs):\\n         print('執行函式2',func.__name__)\\n        result = func(*args,**kwargs)\\n        print('New結果:',result)\\n        return result * result\\n    return squre\", \"def square_it(func):\\n    def squre(*args,**kwargs):\\n        print('執行函式2',func.__name__)\\n        result = func(*args,**kwargs)\\n        print('New結果:',result)\\n        return result * result\\n    return squre\", '@square_it\\n@document_it\\ndef add_ints(a,b):\\n    return a + b', 'add_ints(10,20)', 'def print_my_name(name):\\nprint “I am %s” %(name())\\n\\n@print_my_name\\ndef my_name():\\nreturn “Hans”', 'def print_my_name(name):\\nprint (“I am %s” %(name()))\\n\\n@print_my_name\\ndef my_name():\\nreturn “Hans”', 'def print_my_name(name):\\nprint “I am %s,name())\\n\\n@print_my_name\\ndef my_name():\\nreturn “Hans”', 'def print_my_name(name):\\n    print “I am %s,name())\\n\\n@print_my_name\\ndef my_name():\\nreturn “Hans”', 'def print_my_name(name):\\n    print “I am %s” %(name())\\n\\n@print_my_name\\ndef my_name():\\n    return “Hans”', \"def print_my_name(name):\\n    print ('I am %s' %(name()))\\n\\n@print_my_name\\ndef my_name():\\n    return “Hans”\", \"def print_my_name(name):\\n    print ('I am %s' %(name()))\\n\\n@print_my_name\\ndef my_name():\\n    return'Hans'\", 'def print_my_name(name):\\n    print “I am %s” %(name())\\n\\ndef my_name():\\n    return “Hans”\\n\\nmy_name = print_my_name(my_name)', \"def print_my_name(name):\\n    print 'I am %s' %(name())\\n\\ndef my_name():\\n    return 'Hans'\\n\\nmy_name = print_my_name(my_name)\", \"def print_my_name(name):\\n    print ('I am %s' %(name()))\\n\\ndef my_name():\\n    return 'Hans'\\n\\nmy_name = print_my_name(my_name)\", \"def print_my_name(name):\\n    print ('I am %s',name())\\n\\ndef my_name():\\n    return 'Hans'\\n\\nmy_name = print_my_name(my_name)\", \"def print_my_name(name):\\n    print ('I am %s',%(name())\\n\\ndef my_name():\\n    return 'Hans'\\n\\nmy_name = print_my_name(my_name)\", \"def print_my_name(name):\\n    print ('I am %s',%(name()))\\n\\ndef my_name():\\n    return 'Hans'\\n\\nmy_name = print_my_name(my_name)\", \"def print_my_name(name):\\n    print ('I am %s' %(name()))\\n\\ndef my_name():\\n    return 'Hans'\\n\\nmy_name = print_my_name(my_name)\", \"def print_my_name(name):\\n    print ('I am %s' %(name()))\\n\\ndef my_name():\\n    return 'Hans'\\n\\nprint_my_name(my_name)\", \"def print_my_name(name):\\n    print ('I am %s' %(name()))\\n\\ndef my_name():\\n    return 'James'\\n\\nprint_my_name(my_name)\", \"def print_my_name(name):\\n    print ('I am %s' %(name()))\\n\\n@print_my_name\\ndef my_name():\\n    return'Hans'\", 'my_name', 'print(my_name)', \"def print_my_name(name):\\n    print ('I am %s' %(name()))\\n\\ndef my_name():\\n    return 'James'\\n\\nmy_name = print_my_name(my_name)\", 'print(my_name)', 'my_name', 'print_my_name', 'return print_my_name', 'my_name()', 'print_my_name()', \"def print_my_name(name):\\n    print ('I am %s' %(name()))\\n\\ndef my_name():\\n    return 'James'\\n\\nmy_name = print_my_name(my_name)\\nmy_name()\", \"def print_my_name(name):\\n    print ('I am %s' %(name()))\\n    return name\\ndef my_name():\\n    return 'James'\\n\\nmy_name = print_my_name(my_name)\", 'my_name()', \"def print_my_name(name):\\n    print ('I am %s' %(name()))\\n\\ndef my_name():\\n    return 'James'\\n\\nmy_name = print_my_name(my_name)\", '@square_it\\n@document_it\\ndef add_ints(a,b):\\n    return a + b', \"def square_it(func):\\n    def square(*args,**kwargs):\\n        print('執行函式2',func.__name__)\\n        result = func(*args,**kwargs)\\n        print('New結果:',result)\\n        return result * result\\n    return square\", '@square_it\\n@document_it\\ndef add_ints(a,b):\\n    return a + b\\n#1.進入document_it(func = square_it)\\n#2.進入square_it(func = newfunction)\\n#3.square中的', \"def document_it(func):\\n    print('執行函式1',func.__name__)\\n    def newfunciton(*args,**kwargs):\\n        print('執行函式1',func.__name__)\\n        print('參數位置',args)\\n        print('關鍵字參數',kwargs)\\n        result = func(*args,**kwargs)\\n        print('結果:',result)\\n        return result\\n    return newfunciton\", '@document_it\\ndef add_ints(a,b):\\n    return a+b', \"def document_it(func):\\n    def newfunciton(*args,**kwargs):\\n        print('執行函式1',func.__name__)\\n        print('參數位置',args)\\n        print('關鍵字參數',kwargs)\\n        result = func(*args,**kwargs)\\n        print('結果:',result)\\n        return result\\n    return newfunciton\", '@document_it\\ndef add_ints(a,b):\\n    return a+b', '@document_it\\n@square_it\\ndef add_ints(a,b):\\n    return a + b\\n#1.進入document_it(func = square_it)\\n#2.進入square_it(func = newfunction)\\n#3.square中的func代入newfunction執行\\n#4.', 'add_ints(10,20)', \"def square_it(func):\\n    print('執行函式3',func.__name__)\\n    def square(*args,**kwargs):\\n        print('執行函式2',func.__name__)\\n        result = func(*args,**kwargs)\\n        print('New結果:',result)\\n        return result * result\\n    return square\", '@document_it\\n@square_it\\ndef add_ints(a,b):\\n    return a + b\\n#1.進入document_it(func = square)\\n#2.執行newfunction\\n#3.newfunction中的func代入square執行\\n#4.執行square(func = add_ints)\\n#5.回傳square中的result至newfunction\\n#6.newfunction輸出結果為square中平方後的答案', 'add_ints(10,20)', \"def square_it(func):\\n    def square(*args,**kwargs):\\n        print('執行函式2',func.__name__)\\n        result = func(*args,**kwargs)\\n        print('New結果:',result)\\n        return result * result\\n    return square\", '@document_it\\n@square_it\\ndef add_ints(a,b):\\n    return a + b\\n#1.進入document_it(func = square)\\n#2.執行newfunction\\n#3.newfunction中的func代入square執行\\n#4.執行square(func = add_ints)\\n#5.回傳square中的result至newfunction\\n#6.newfunction輸出結果為square中平方後的答案', 'type(square)', 'type(square_it)', 'def square_it(func):\\n    def newfunction(*args,*kwargs):\\n        result = func(*args,**kwargs)\\n        print(\"New 結果:\",result)\\n        return (\\'square_it 結果：\\',result * result)\\n    return newfunction', 'def square_it(func):\\n    def newfunction(*args,**kwargs):\\n        result = func(*args,**kwargs)\\n        print(\"New 結果:\",result)\\n        return (\\'square_it 結果：\\',result * result)\\n    return newfunction', \"def add_ints(a,b):\\n    return ('add_ints 結果：',a + b)\", 'add_ints(10,90)', \"def add_ints(a,b):\\n    return ('add_ints 結果：',a + b)\", \"@square_it\\ndef add_ints(a,b):\\n    return ('add_ints 結果：',a + b)\", 'add_ints(10,90)', '@square_it\\ndef add_ints(a,b):\\n    return a + b', 'add_ints(10,90)', 'def square_it(func):\\n    def newfunction(*args,**kwargs):\\n        result = func(*args,**kwargs)\\n        print(\"add_ints 結果:\",result)\\n        return (\\'square_it 結果：\\',result * result)\\n    return newfunction', 'add_ints(10,90)', '@square_it\\ndef add_ints(a,b):\\n    return a + b', 'add_ints(10,90)', \"animal = 'pig'\", \"animal = 'pig'\\ndef print_global():\\n    print('動物為全域變數',animal)\", \"print('最高等級',animal)\", 'print_global()', 'animal', \"def change_local():\\n    animal = 'dog'\\n    print(animal)\", 'change_local()', 'animal', \"def change_local():\\n    animal = 'dog'\\n    print('最高等級',animal,id(animal))\", 'change_local()', 'id(animal)', \"def change_and_print_global():\\n    global animal\\n    animal = '貓'\\n    print('動物:',animal)\", 'animal', 'change_and_print_global()', 'animal', \"animal = '狗'\", \"def change_local():\\n    animal = '貓'\\n    print('區域變數:',locals())\", 'change_local()', \"change_local()\\nprint('全域變數:',globals())\", \"change_local()\\nprint('全域變數:',global())\", \"change_local()\\nprint('全域變數:',globals())\"], '_oh': {5: 900, 8: 900, 11: 900, 16: 900, 18: 900, 23: 900, 46: <function print_my_name at 0x000002D1F6A5A8C8>, 52: 'James', 62: 900, 65: 900, 69: <class 'function'>, 73: ('add_ints 結果：', 100), 78: ('square_it 結果：', 10000), 80: ('square_it 結果：', 10000), 82: ('square_it 結果：', 10000), 87: 'pig', 90: 'pig', 93: 3100756674072, 95: 'pig', 97: '貓'}, '_dh': ['C:\\\\Users\\\\8706j\\\\Desktop\\\\網頁製作\\\\0326'], 'In': ['', \"def square_it(func):\\n    def newfunction(*args,**kwargs):\\n        result = func(*args,**kwargs)\\n        print('New結果:',result)\\n        return result * result\\n    return newfunction\", '@document_it\\n@square_it\\ndef add_ints(a,b):\\n    return a + b', \"def document_it(func):\\n    def newfunciton(*args,**kwargs):\\n        print('執行函式',func.__name__)\\n        print('參數位置',args)\\n        print('關鍵字參數',kwargs)\\n        result = func(*args,**kwargs)\\n        print('結果:',result)\\n        return result\\n    return newfunciton\", '@document_it\\n@square_it\\ndef add_ints(a,b):\\n    return a + b', 'add_ints(10,20)', \"def square_it(func):\\n    def newfunction(c,d):\\n        result = func(c,d)\\n        print('New結果:',result)\\n        return result * result\\n    return newfunction\", '@document_it\\n@square_it\\ndef add_ints(a,b):\\n    return a + b', 'add_ints(10,20)', \"def square_it(func):\\n    def newfunction(*c,**d):\\n        result = func(*c,**d)\\n        print('New結果:',result)\\n        return result * result\\n    return newfunction\", '@document_it\\n@square_it\\ndef add_ints(a,b):\\n    return a + b', 'add_ints(10,20)', \"def square_it(func):\\n    def squre(*args,**kwargs):\\n        result = func(*args,**kwargs)\\n        print('New結果:',result)\\n        return result * result\\n    return newfunction\", '@document_it\\n@square_it\\ndef add_ints(a,b):\\n    return a + b', \"def square_it(func):\\n    def squre(*args,**kwargs):\\n        result = func(*args,**kwargs)\\n        print('New結果:',result)\\n        return result * result\\n    return squre\", '@document_it\\n@square_it\\ndef add_ints(a,b):\\n    return a + b', 'add_ints(10,20)', '@square_it\\n@document_it\\ndef add_ints(a,b):\\n    return a + b', 'add_ints(10,20)', \"def document_it(func):\\n    def newfunciton(*args,**kwargs):\\n        print('執行函式1',func.__name__)\\n        print('參數位置',args)\\n        print('關鍵字參數',kwargs)\\n        result = func(*args,**kwargs)\\n        print('結果:',result)\\n        return result\\n    return newfunciton\", \"def square_it(func):\\n    def squre(*args,**kwargs):\\n         print('執行函式2',func.__name__)\\n        result = func(*args,**kwargs)\\n        print('New結果:',result)\\n        return result * result\\n    return squre\", \"def square_it(func):\\n    def squre(*args,**kwargs):\\n        print('執行函式2',func.__name__)\\n        result = func(*args,**kwargs)\\n        print('New結果:',result)\\n        return result * result\\n    return squre\", '@square_it\\n@document_it\\ndef add_ints(a,b):\\n    return a + b', 'add_ints(10,20)', 'def print_my_name(name):\\nprint “I am %s” %(name())\\n\\n@print_my_name\\ndef my_name():\\nreturn “Hans”', 'def print_my_name(name):\\nprint (“I am %s” %(name()))\\n\\n@print_my_name\\ndef my_name():\\nreturn “Hans”', 'def print_my_name(name):\\nprint “I am %s,name())\\n\\n@print_my_name\\ndef my_name():\\nreturn “Hans”', 'def print_my_name(name):\\n    print “I am %s,name())\\n\\n@print_my_name\\ndef my_name():\\nreturn “Hans”', 'def print_my_name(name):\\n    print “I am %s” %(name())\\n\\n@print_my_name\\ndef my_name():\\n    return “Hans”', \"def print_my_name(name):\\n    print ('I am %s' %(name()))\\n\\n@print_my_name\\ndef my_name():\\n    return “Hans”\", \"def print_my_name(name):\\n    print ('I am %s' %(name()))\\n\\n@print_my_name\\ndef my_name():\\n    return'Hans'\", 'def print_my_name(name):\\n    print “I am %s” %(name())\\n\\ndef my_name():\\n    return “Hans”\\n\\nmy_name = print_my_name(my_name)', \"def print_my_name(name):\\n    print 'I am %s' %(name())\\n\\ndef my_name():\\n    return 'Hans'\\n\\nmy_name = print_my_name(my_name)\", \"def print_my_name(name):\\n    print ('I am %s' %(name()))\\n\\ndef my_name():\\n    return 'Hans'\\n\\nmy_name = print_my_name(my_name)\", \"def print_my_name(name):\\n    print ('I am %s',name())\\n\\ndef my_name():\\n    return 'Hans'\\n\\nmy_name = print_my_name(my_name)\", \"def print_my_name(name):\\n    print ('I am %s',%(name())\\n\\ndef my_name():\\n    return 'Hans'\\n\\nmy_name = print_my_name(my_name)\", \"def print_my_name(name):\\n    print ('I am %s',%(name()))\\n\\ndef my_name():\\n    return 'Hans'\\n\\nmy_name = print_my_name(my_name)\", \"def print_my_name(name):\\n    print ('I am %s' %(name()))\\n\\ndef my_name():\\n    return 'Hans'\\n\\nmy_name = print_my_name(my_name)\", \"def print_my_name(name):\\n    print ('I am %s' %(name()))\\n\\ndef my_name():\\n    return 'Hans'\\n\\nprint_my_name(my_name)\", \"def print_my_name(name):\\n    print ('I am %s' %(name()))\\n\\ndef my_name():\\n    return 'James'\\n\\nprint_my_name(my_name)\", \"def print_my_name(name):\\n    print ('I am %s' %(name()))\\n\\n@print_my_name\\ndef my_name():\\n    return'Hans'\", 'my_name', 'print(my_name)', \"def print_my_name(name):\\n    print ('I am %s' %(name()))\\n\\ndef my_name():\\n    return 'James'\\n\\nmy_name = print_my_name(my_name)\", 'print(my_name)', 'my_name', 'print_my_name', 'return print_my_name', 'my_name()', 'print_my_name()', \"def print_my_name(name):\\n    print ('I am %s' %(name()))\\n\\ndef my_name():\\n    return 'James'\\n\\nmy_name = print_my_name(my_name)\\nmy_name()\", \"def print_my_name(name):\\n    print ('I am %s' %(name()))\\n    return name\\ndef my_name():\\n    return 'James'\\n\\nmy_name = print_my_name(my_name)\", 'my_name()', \"def print_my_name(name):\\n    print ('I am %s' %(name()))\\n\\ndef my_name():\\n    return 'James'\\n\\nmy_name = print_my_name(my_name)\", '@square_it\\n@document_it\\ndef add_ints(a,b):\\n    return a + b', \"def square_it(func):\\n    def square(*args,**kwargs):\\n        print('執行函式2',func.__name__)\\n        result = func(*args,**kwargs)\\n        print('New結果:',result)\\n        return result * result\\n    return square\", '@square_it\\n@document_it\\ndef add_ints(a,b):\\n    return a + b\\n#1.進入document_it(func = square_it)\\n#2.進入square_it(func = newfunction)\\n#3.square中的', \"def document_it(func):\\n    print('執行函式1',func.__name__)\\n    def newfunciton(*args,**kwargs):\\n        print('執行函式1',func.__name__)\\n        print('參數位置',args)\\n        print('關鍵字參數',kwargs)\\n        result = func(*args,**kwargs)\\n        print('結果:',result)\\n        return result\\n    return newfunciton\", '@document_it\\ndef add_ints(a,b):\\n    return a+b', \"def document_it(func):\\n    def newfunciton(*args,**kwargs):\\n        print('執行函式1',func.__name__)\\n        print('參數位置',args)\\n        print('關鍵字參數',kwargs)\\n        result = func(*args,**kwargs)\\n        print('結果:',result)\\n        return result\\n    return newfunciton\", '@document_it\\ndef add_ints(a,b):\\n    return a+b', '@document_it\\n@square_it\\ndef add_ints(a,b):\\n    return a + b\\n#1.進入document_it(func = square_it)\\n#2.進入square_it(func = newfunction)\\n#3.square中的func代入newfunction執行\\n#4.', 'add_ints(10,20)', \"def square_it(func):\\n    print('執行函式3',func.__name__)\\n    def square(*args,**kwargs):\\n        print('執行函式2',func.__name__)\\n        result = func(*args,**kwargs)\\n        print('New結果:',result)\\n        return result * result\\n    return square\", '@document_it\\n@square_it\\ndef add_ints(a,b):\\n    return a + b\\n#1.進入document_it(func = square)\\n#2.執行newfunction\\n#3.newfunction中的func代入square執行\\n#4.執行square(func = add_ints)\\n#5.回傳square中的result至newfunction\\n#6.newfunction輸出結果為square中平方後的答案', 'add_ints(10,20)', \"def square_it(func):\\n    def square(*args,**kwargs):\\n        print('執行函式2',func.__name__)\\n        result = func(*args,**kwargs)\\n        print('New結果:',result)\\n        return result * result\\n    return square\", '@document_it\\n@square_it\\ndef add_ints(a,b):\\n    return a + b\\n#1.進入document_it(func = square)\\n#2.執行newfunction\\n#3.newfunction中的func代入square執行\\n#4.執行square(func = add_ints)\\n#5.回傳square中的result至newfunction\\n#6.newfunction輸出結果為square中平方後的答案', 'type(square)', 'type(square_it)', 'def square_it(func):\\n    def newfunction(*args,*kwargs):\\n        result = func(*args,**kwargs)\\n        print(\"New 結果:\",result)\\n        return (\\'square_it 結果：\\',result * result)\\n    return newfunction', 'def square_it(func):\\n    def newfunction(*args,**kwargs):\\n        result = func(*args,**kwargs)\\n        print(\"New 結果:\",result)\\n        return (\\'square_it 結果：\\',result * result)\\n    return newfunction', \"def add_ints(a,b):\\n    return ('add_ints 結果：',a + b)\", 'add_ints(10,90)', \"def add_ints(a,b):\\n    return ('add_ints 結果：',a + b)\", \"@square_it\\ndef add_ints(a,b):\\n    return ('add_ints 結果：',a + b)\", 'add_ints(10,90)', '@square_it\\ndef add_ints(a,b):\\n    return a + b', 'add_ints(10,90)', 'def square_it(func):\\n    def newfunction(*args,**kwargs):\\n        result = func(*args,**kwargs)\\n        print(\"add_ints 結果:\",result)\\n        return (\\'square_it 結果：\\',result * result)\\n    return newfunction', 'add_ints(10,90)', '@square_it\\ndef add_ints(a,b):\\n    return a + b', 'add_ints(10,90)', \"animal = 'pig'\", \"animal = 'pig'\\ndef print_global():\\n    print('動物為全域變數',animal)\", \"print('最高等級',animal)\", 'print_global()', 'animal', \"def change_local():\\n    animal = 'dog'\\n    print(animal)\", 'change_local()', 'animal', \"def change_local():\\n    animal = 'dog'\\n    print('最高等級',animal,id(animal))\", 'change_local()', 'id(animal)', \"def change_and_print_global():\\n    global animal\\n    animal = '貓'\\n    print('動物:',animal)\", 'animal', 'change_and_print_global()', 'animal', \"animal = '狗'\", \"def change_local():\\n    animal = '貓'\\n    print('區域變數:',locals())\", 'change_local()', \"change_local()\\nprint('全域變數:',globals())\", \"change_local()\\nprint('全域變數:',global())\", \"change_local()\\nprint('全域變數:',globals())\"], 'Out': {5: 900, 8: 900, 11: 900, 16: 900, 18: 900, 23: 900, 46: <function print_my_name at 0x000002D1F6A5A8C8>, 52: 'James', 62: 900, 65: 900, 69: <class 'function'>, 73: ('add_ints 結果：', 100), 78: ('square_it 結果：', 10000), 80: ('square_it 結果：', 10000), 82: ('square_it 結果：', 10000), 87: 'pig', 90: 'pig', 93: 3100756674072, 95: 'pig', 97: '貓'}, 'get_ipython': <bound method InteractiveShell.get_ipython of <ipykernel.zmqshell.ZMQInteractiveShell object at 0x000002D1F5842198>>, 'exit': <IPython.core.autocall.ZMQExitAutocall object at 0x000002D1F585E6A0>, 'quit': <IPython.core.autocall.ZMQExitAutocall object at 0x000002D1F585E6A0>, '_': '貓', '__': 'pig', '___': 3100756674072, '_i': \"change_local()\\nprint('全域變數:',global())\", '_ii': \"change_local()\\nprint('全域變數:',globals())\", '_iii': 'change_local()', '_i1': \"def square_it(func):\\n    def newfunction(*args,**kwargs):\\n        result = func(*args,**kwargs)\\n        print('New結果:',result)\\n        return result * result\\n    return newfunction\", 'square_it': <function square_it at 0x000002D1F6A9D268>, '_i2': '@document_it\\n@square_it\\ndef add_ints(a,b):\\n    return a + b', '_i3': \"def document_it(func):\\n    def newfunciton(*args,**kwargs):\\n        print('執行函式',func.__name__)\\n        print('參數位置',args)\\n        print('關鍵字參數',kwargs)\\n        result = func(*args,**kwargs)\\n        print('結果:',result)\\n        return result\\n    return newfunciton\", 'document_it': <function document_it at 0x000002D1F6A752F0>, '_i4': '@document_it\\n@square_it\\ndef add_ints(a,b):\\n    return a + b', 'add_ints': <function square_it.<locals>.newfunction at 0x000002D1F6A52AE8>, '_i5': 'add_ints(10,20)', '_5': 900, '_i6': \"def square_it(func):\\n    def newfunction(c,d):\\n        result = func(c,d)\\n        print('New結果:',result)\\n        return result * result\\n    return newfunction\", '_i7': '@document_it\\n@square_it\\ndef add_ints(a,b):\\n    return a + b', '_i8': 'add_ints(10,20)', '_8': 900, '_i9': \"def square_it(func):\\n    def newfunction(*c,**d):\\n        result = func(*c,**d)\\n        print('New結果:',result)\\n        return result * result\\n    return newfunction\", '_i10': '@document_it\\n@square_it\\ndef add_ints(a,b):\\n    return a + b', '_i11': 'add_ints(10,20)', '_11': 900, '_i12': \"def square_it(func):\\n    def squre(*args,**kwargs):\\n        result = func(*args,**kwargs)\\n        print('New結果:',result)\\n        return result * result\\n    return newfunction\", '_i13': '@document_it\\n@square_it\\ndef add_ints(a,b):\\n    return a + b', '_i14': \"def square_it(func):\\n    def squre(*args,**kwargs):\\n        result = func(*args,**kwargs)\\n        print('New結果:',result)\\n        return result * result\\n    return squre\", '_i15': '@document_it\\n@square_it\\ndef add_ints(a,b):\\n    return a + b', '_i16': 'add_ints(10,20)', '_16': 900, '_i17': '@square_it\\n@document_it\\ndef add_ints(a,b):\\n    return a + b', '_i18': 'add_ints(10,20)', '_18': 900, '_i19': \"def document_it(func):\\n    def newfunciton(*args,**kwargs):\\n        print('執行函式1',func.__name__)\\n        print('參數位置',args)\\n        print('關鍵字參數',kwargs)\\n        result = func(*args,**kwargs)\\n        print('結果:',result)\\n        return result\\n    return newfunciton\", '_i20': \"def square_it(func):\\n    def squre(*args,**kwargs):\\n         print('執行函式2',func.__name__)\\n        result = func(*args,**kwargs)\\n        print('New結果:',result)\\n        return result * result\\n    return squre\", '_i21': \"def square_it(func):\\n    def squre(*args,**kwargs):\\n        print('執行函式2',func.__name__)\\n        result = func(*args,**kwargs)\\n        print('New結果:',result)\\n        return result * result\\n    return squre\", '_i22': '@square_it\\n@document_it\\ndef add_ints(a,b):\\n    return a + b', '_i23': 'add_ints(10,20)', '_23': 900, '_i24': 'def print_my_name(name):\\nprint “I am %s” %(name())\\n\\n@print_my_name\\ndef my_name():\\nreturn “Hans”', '_i25': 'def print_my_name(name):\\nprint (“I am %s” %(name()))\\n\\n@print_my_name\\ndef my_name():\\nreturn “Hans”', '_i26': 'def print_my_name(name):\\nprint “I am %s,name())\\n\\n@print_my_name\\ndef my_name():\\nreturn “Hans”', '_i27': 'def print_my_name(name):\\n    print “I am %s,name())\\n\\n@print_my_name\\ndef my_name():\\nreturn “Hans”', '_i28': 'def print_my_name(name):\\n    print “I am %s” %(name())\\n\\n@print_my_name\\ndef my_name():\\n    return “Hans”', '_i29': \"def print_my_name(name):\\n    print ('I am %s' %(name()))\\n\\n@print_my_name\\ndef my_name():\\n    return “Hans”\", '_i30': \"def print_my_name(name):\\n    print ('I am %s' %(name()))\\n\\n@print_my_name\\ndef my_name():\\n    return'Hans'\", 'print_my_name': <function print_my_name at 0x000002D1F6A75730>, 'my_name': None, '_i31': 'def print_my_name(name):\\n    print “I am %s” %(name())\\n\\ndef my_name():\\n    return “Hans”\\n\\nmy_name = print_my_name(my_name)', '_i32': \"def print_my_name(name):\\n    print 'I am %s' %(name())\\n\\ndef my_name():\\n    return 'Hans'\\n\\nmy_name = print_my_name(my_name)\", '_i33': \"def print_my_name(name):\\n    print ('I am %s' %(name()))\\n\\ndef my_name():\\n    return 'Hans'\\n\\nmy_name = print_my_name(my_name)\", '_i34': \"def print_my_name(name):\\n    print ('I am %s',name())\\n\\ndef my_name():\\n    return 'Hans'\\n\\nmy_name = print_my_name(my_name)\", '_i35': \"def print_my_name(name):\\n    print ('I am %s',%(name())\\n\\ndef my_name():\\n    return 'Hans'\\n\\nmy_name = print_my_name(my_name)\", '_i36': \"def print_my_name(name):\\n    print ('I am %s',%(name()))\\n\\ndef my_name():\\n    return 'Hans'\\n\\nmy_name = print_my_name(my_name)\", '_i37': \"def print_my_name(name):\\n    print ('I am %s' %(name()))\\n\\ndef my_name():\\n    return 'Hans'\\n\\nmy_name = print_my_name(my_name)\", '_i38': \"def print_my_name(name):\\n    print ('I am %s' %(name()))\\n\\ndef my_name():\\n    return 'Hans'\\n\\nprint_my_name(my_name)\", '_i39': \"def print_my_name(name):\\n    print ('I am %s' %(name()))\\n\\ndef my_name():\\n    return 'James'\\n\\nprint_my_name(my_name)\", '_i40': \"def print_my_name(name):\\n    print ('I am %s' %(name()))\\n\\n@print_my_name\\ndef my_name():\\n    return'Hans'\", '_i41': 'my_name', '_i42': 'print(my_name)', '_i43': \"def print_my_name(name):\\n    print ('I am %s' %(name()))\\n\\ndef my_name():\\n    return 'James'\\n\\nmy_name = print_my_name(my_name)\", '_i44': 'print(my_name)', '_i45': 'my_name', '_i46': 'print_my_name', '_46': <function print_my_name at 0x000002D1F6A5A8C8>, '_i47': 'return print_my_name', '_i48': 'my_name()', '_i49': 'print_my_name()', '_i50': \"def print_my_name(name):\\n    print ('I am %s' %(name()))\\n\\ndef my_name():\\n    return 'James'\\n\\nmy_name = print_my_name(my_name)\\nmy_name()\", '_i51': \"def print_my_name(name):\\n    print ('I am %s' %(name()))\\n    return name\\ndef my_name():\\n    return 'James'\\n\\nmy_name = print_my_name(my_name)\", '_i52': 'my_name()', '_52': 'James', '_i53': \"def print_my_name(name):\\n    print ('I am %s' %(name()))\\n\\ndef my_name():\\n    return 'James'\\n\\nmy_name = print_my_name(my_name)\", '_i54': '@square_it\\n@document_it\\ndef add_ints(a,b):\\n    return a + b', '_i55': \"def square_it(func):\\n    def square(*args,**kwargs):\\n        print('執行函式2',func.__name__)\\n        result = func(*args,**kwargs)\\n        print('New結果:',result)\\n        return result * result\\n    return square\", '_i56': '@square_it\\n@document_it\\ndef add_ints(a,b):\\n    return a + b\\n#1.進入document_it(func = square_it)\\n#2.進入square_it(func = newfunction)\\n#3.square中的', '_i57': \"def document_it(func):\\n    print('執行函式1',func.__name__)\\n    def newfunciton(*args,**kwargs):\\n        print('執行函式1',func.__name__)\\n        print('參數位置',args)\\n        print('關鍵字參數',kwargs)\\n        result = func(*args,**kwargs)\\n        print('結果:',result)\\n        return result\\n    return newfunciton\", '_i58': '@document_it\\ndef add_ints(a,b):\\n    return a+b', '_i59': \"def document_it(func):\\n    def newfunciton(*args,**kwargs):\\n        print('執行函式1',func.__name__)\\n        print('參數位置',args)\\n        print('關鍵字參數',kwargs)\\n        result = func(*args,**kwargs)\\n        print('結果:',result)\\n        return result\\n    return newfunciton\", '_i60': '@document_it\\ndef add_ints(a,b):\\n    return a+b', '_i61': '@document_it\\n@square_it\\ndef add_ints(a,b):\\n    return a + b\\n#1.進入document_it(func = square_it)\\n#2.進入square_it(func = newfunction)\\n#3.square中的func代入newfunction執行\\n#4.', '_i62': 'add_ints(10,20)', '_62': 900, '_i63': \"def square_it(func):\\n    print('執行函式3',func.__name__)\\n    def square(*args,**kwargs):\\n        print('執行函式2',func.__name__)\\n        result = func(*args,**kwargs)\\n        print('New結果:',result)\\n        return result * result\\n    return square\", '_i64': '@document_it\\n@square_it\\ndef add_ints(a,b):\\n    return a + b\\n#1.進入document_it(func = square)\\n#2.執行newfunction\\n#3.newfunction中的func代入square執行\\n#4.執行square(func = add_ints)\\n#5.回傳square中的result至newfunction\\n#6.newfunction輸出結果為square中平方後的答案', '_i65': 'add_ints(10,20)', '_65': 900, '_i66': \"def square_it(func):\\n    def square(*args,**kwargs):\\n        print('執行函式2',func.__name__)\\n        result = func(*args,**kwargs)\\n        print('New結果:',result)\\n        return result * result\\n    return square\", '_i67': '@document_it\\n@square_it\\ndef add_ints(a,b):\\n    return a + b\\n#1.進入document_it(func = square)\\n#2.執行newfunction\\n#3.newfunction中的func代入square執行\\n#4.執行square(func = add_ints)\\n#5.回傳square中的result至newfunction\\n#6.newfunction輸出結果為square中平方後的答案', '_i68': 'type(square)', '_i69': 'type(square_it)', '_69': <class 'function'>, '_i70': 'def square_it(func):\\n    def newfunction(*args,*kwargs):\\n        result = func(*args,**kwargs)\\n        print(\"New 結果:\",result)\\n        return (\\'square_it 結果：\\',result * result)\\n    return newfunction', '_i71': 'def square_it(func):\\n    def newfunction(*args,**kwargs):\\n        result = func(*args,**kwargs)\\n        print(\"New 結果:\",result)\\n        return (\\'square_it 結果：\\',result * result)\\n    return newfunction', '_i72': \"def add_ints(a,b):\\n    return ('add_ints 結果：',a + b)\", '_i73': 'add_ints(10,90)', '_73': ('add_ints 結果：', 100), '_i74': \"def add_ints(a,b):\\n    return ('add_ints 結果：',a + b)\", '_i75': \"@square_it\\ndef add_ints(a,b):\\n    return ('add_ints 結果：',a + b)\", '_i76': 'add_ints(10,90)', '_i77': '@square_it\\ndef add_ints(a,b):\\n    return a + b', '_i78': 'add_ints(10,90)', '_78': ('square_it 結果：', 10000), '_i79': 'def square_it(func):\\n    def newfunction(*args,**kwargs):\\n        result = func(*args,**kwargs)\\n        print(\"add_ints 結果:\",result)\\n        return (\\'square_it 結果：\\',result * result)\\n    return newfunction', '_i80': 'add_ints(10,90)', '_80': ('square_it 結果：', 10000), '_i81': '@square_it\\ndef add_ints(a,b):\\n    return a + b', '_i82': 'add_ints(10,90)', '_82': ('square_it 結果：', 10000), '_i83': \"animal = 'pig'\", 'animal': '狗', '_i84': \"animal = 'pig'\\ndef print_global():\\n    print('動物為全域變數',animal)\", 'print_global': <function print_global at 0x000002D1F6A52D08>, '_i85': \"print('最高等級',animal)\", '_i86': 'print_global()', '_i87': 'animal', '_87': 'pig', '_i88': \"def change_local():\\n    animal = 'dog'\\n    print(animal)\", 'change_local': <function change_local at 0x000002D1F6A9DBF8>, '_i89': 'change_local()', '_i90': 'animal', '_90': 'pig', '_i91': \"def change_local():\\n    animal = 'dog'\\n    print('最高等級',animal,id(animal))\", '_i92': 'change_local()', '_i93': 'id(animal)', '_93': 3100756674072, '_i94': \"def change_and_print_global():\\n    global animal\\n    animal = '貓'\\n    print('動物:',animal)\", 'change_and_print_global': <function change_and_print_global at 0x000002D1F6A9D730>, '_i95': 'animal', '_95': 'pig', '_i96': 'change_and_print_global()', '_i97': 'animal', '_97': '貓', '_i98': \"animal = '狗'\", '_i99': \"def change_local():\\n    animal = '貓'\\n    print('區域變數:',locals())\", '_i100': 'change_local()', '_i101': \"change_local()\\nprint('全域變數:',globals())\", '_i102': \"change_local()\\nprint('全域變數:',global())\", '_i103': \"change_local()\\nprint('全域變數:',globals())\"}\n"
     ]
    }
   ],
   "source": [
    "change_local()\n",
    "print('全域變數:',globals())"
   ]
  },
  {
   "cell_type": "code",
   "execution_count": 104,
   "metadata": {},
   "outputs": [
    {
     "name": "stdout",
     "output_type": "stream",
     "text": [
      "全域變數: {'__name__': '__main__', '__doc__': 'Automatically created module for IPython interactive environment', '__package__': None, '__loader__': None, '__spec__': None, '__builtin__': <module 'builtins' (built-in)>, '__builtins__': <module 'builtins' (built-in)>, '_ih': ['', \"def square_it(func):\\n    def newfunction(*args,**kwargs):\\n        result = func(*args,**kwargs)\\n        print('New結果:',result)\\n        return result * result\\n    return newfunction\", '@document_it\\n@square_it\\ndef add_ints(a,b):\\n    return a + b', \"def document_it(func):\\n    def newfunciton(*args,**kwargs):\\n        print('執行函式',func.__name__)\\n        print('參數位置',args)\\n        print('關鍵字參數',kwargs)\\n        result = func(*args,**kwargs)\\n        print('結果:',result)\\n        return result\\n    return newfunciton\", '@document_it\\n@square_it\\ndef add_ints(a,b):\\n    return a + b', 'add_ints(10,20)', \"def square_it(func):\\n    def newfunction(c,d):\\n        result = func(c,d)\\n        print('New結果:',result)\\n        return result * result\\n    return newfunction\", '@document_it\\n@square_it\\ndef add_ints(a,b):\\n    return a + b', 'add_ints(10,20)', \"def square_it(func):\\n    def newfunction(*c,**d):\\n        result = func(*c,**d)\\n        print('New結果:',result)\\n        return result * result\\n    return newfunction\", '@document_it\\n@square_it\\ndef add_ints(a,b):\\n    return a + b', 'add_ints(10,20)', \"def square_it(func):\\n    def squre(*args,**kwargs):\\n        result = func(*args,**kwargs)\\n        print('New結果:',result)\\n        return result * result\\n    return newfunction\", '@document_it\\n@square_it\\ndef add_ints(a,b):\\n    return a + b', \"def square_it(func):\\n    def squre(*args,**kwargs):\\n        result = func(*args,**kwargs)\\n        print('New結果:',result)\\n        return result * result\\n    return squre\", '@document_it\\n@square_it\\ndef add_ints(a,b):\\n    return a + b', 'add_ints(10,20)', '@square_it\\n@document_it\\ndef add_ints(a,b):\\n    return a + b', 'add_ints(10,20)', \"def document_it(func):\\n    def newfunciton(*args,**kwargs):\\n        print('執行函式1',func.__name__)\\n        print('參數位置',args)\\n        print('關鍵字參數',kwargs)\\n        result = func(*args,**kwargs)\\n        print('結果:',result)\\n        return result\\n    return newfunciton\", \"def square_it(func):\\n    def squre(*args,**kwargs):\\n         print('執行函式2',func.__name__)\\n        result = func(*args,**kwargs)\\n        print('New結果:',result)\\n        return result * result\\n    return squre\", \"def square_it(func):\\n    def squre(*args,**kwargs):\\n        print('執行函式2',func.__name__)\\n        result = func(*args,**kwargs)\\n        print('New結果:',result)\\n        return result * result\\n    return squre\", '@square_it\\n@document_it\\ndef add_ints(a,b):\\n    return a + b', 'add_ints(10,20)', 'def print_my_name(name):\\nprint “I am %s” %(name())\\n\\n@print_my_name\\ndef my_name():\\nreturn “Hans”', 'def print_my_name(name):\\nprint (“I am %s” %(name()))\\n\\n@print_my_name\\ndef my_name():\\nreturn “Hans”', 'def print_my_name(name):\\nprint “I am %s,name())\\n\\n@print_my_name\\ndef my_name():\\nreturn “Hans”', 'def print_my_name(name):\\n    print “I am %s,name())\\n\\n@print_my_name\\ndef my_name():\\nreturn “Hans”', 'def print_my_name(name):\\n    print “I am %s” %(name())\\n\\n@print_my_name\\ndef my_name():\\n    return “Hans”', \"def print_my_name(name):\\n    print ('I am %s' %(name()))\\n\\n@print_my_name\\ndef my_name():\\n    return “Hans”\", \"def print_my_name(name):\\n    print ('I am %s' %(name()))\\n\\n@print_my_name\\ndef my_name():\\n    return'Hans'\", 'def print_my_name(name):\\n    print “I am %s” %(name())\\n\\ndef my_name():\\n    return “Hans”\\n\\nmy_name = print_my_name(my_name)', \"def print_my_name(name):\\n    print 'I am %s' %(name())\\n\\ndef my_name():\\n    return 'Hans'\\n\\nmy_name = print_my_name(my_name)\", \"def print_my_name(name):\\n    print ('I am %s' %(name()))\\n\\ndef my_name():\\n    return 'Hans'\\n\\nmy_name = print_my_name(my_name)\", \"def print_my_name(name):\\n    print ('I am %s',name())\\n\\ndef my_name():\\n    return 'Hans'\\n\\nmy_name = print_my_name(my_name)\", \"def print_my_name(name):\\n    print ('I am %s',%(name())\\n\\ndef my_name():\\n    return 'Hans'\\n\\nmy_name = print_my_name(my_name)\", \"def print_my_name(name):\\n    print ('I am %s',%(name()))\\n\\ndef my_name():\\n    return 'Hans'\\n\\nmy_name = print_my_name(my_name)\", \"def print_my_name(name):\\n    print ('I am %s' %(name()))\\n\\ndef my_name():\\n    return 'Hans'\\n\\nmy_name = print_my_name(my_name)\", \"def print_my_name(name):\\n    print ('I am %s' %(name()))\\n\\ndef my_name():\\n    return 'Hans'\\n\\nprint_my_name(my_name)\", \"def print_my_name(name):\\n    print ('I am %s' %(name()))\\n\\ndef my_name():\\n    return 'James'\\n\\nprint_my_name(my_name)\", \"def print_my_name(name):\\n    print ('I am %s' %(name()))\\n\\n@print_my_name\\ndef my_name():\\n    return'Hans'\", 'my_name', 'print(my_name)', \"def print_my_name(name):\\n    print ('I am %s' %(name()))\\n\\ndef my_name():\\n    return 'James'\\n\\nmy_name = print_my_name(my_name)\", 'print(my_name)', 'my_name', 'print_my_name', 'return print_my_name', 'my_name()', 'print_my_name()', \"def print_my_name(name):\\n    print ('I am %s' %(name()))\\n\\ndef my_name():\\n    return 'James'\\n\\nmy_name = print_my_name(my_name)\\nmy_name()\", \"def print_my_name(name):\\n    print ('I am %s' %(name()))\\n    return name\\ndef my_name():\\n    return 'James'\\n\\nmy_name = print_my_name(my_name)\", 'my_name()', \"def print_my_name(name):\\n    print ('I am %s' %(name()))\\n\\ndef my_name():\\n    return 'James'\\n\\nmy_name = print_my_name(my_name)\", '@square_it\\n@document_it\\ndef add_ints(a,b):\\n    return a + b', \"def square_it(func):\\n    def square(*args,**kwargs):\\n        print('執行函式2',func.__name__)\\n        result = func(*args,**kwargs)\\n        print('New結果:',result)\\n        return result * result\\n    return square\", '@square_it\\n@document_it\\ndef add_ints(a,b):\\n    return a + b\\n#1.進入document_it(func = square_it)\\n#2.進入square_it(func = newfunction)\\n#3.square中的', \"def document_it(func):\\n    print('執行函式1',func.__name__)\\n    def newfunciton(*args,**kwargs):\\n        print('執行函式1',func.__name__)\\n        print('參數位置',args)\\n        print('關鍵字參數',kwargs)\\n        result = func(*args,**kwargs)\\n        print('結果:',result)\\n        return result\\n    return newfunciton\", '@document_it\\ndef add_ints(a,b):\\n    return a+b', \"def document_it(func):\\n    def newfunciton(*args,**kwargs):\\n        print('執行函式1',func.__name__)\\n        print('參數位置',args)\\n        print('關鍵字參數',kwargs)\\n        result = func(*args,**kwargs)\\n        print('結果:',result)\\n        return result\\n    return newfunciton\", '@document_it\\ndef add_ints(a,b):\\n    return a+b', '@document_it\\n@square_it\\ndef add_ints(a,b):\\n    return a + b\\n#1.進入document_it(func = square_it)\\n#2.進入square_it(func = newfunction)\\n#3.square中的func代入newfunction執行\\n#4.', 'add_ints(10,20)', \"def square_it(func):\\n    print('執行函式3',func.__name__)\\n    def square(*args,**kwargs):\\n        print('執行函式2',func.__name__)\\n        result = func(*args,**kwargs)\\n        print('New結果:',result)\\n        return result * result\\n    return square\", '@document_it\\n@square_it\\ndef add_ints(a,b):\\n    return a + b\\n#1.進入document_it(func = square)\\n#2.執行newfunction\\n#3.newfunction中的func代入square執行\\n#4.執行square(func = add_ints)\\n#5.回傳square中的result至newfunction\\n#6.newfunction輸出結果為square中平方後的答案', 'add_ints(10,20)', \"def square_it(func):\\n    def square(*args,**kwargs):\\n        print('執行函式2',func.__name__)\\n        result = func(*args,**kwargs)\\n        print('New結果:',result)\\n        return result * result\\n    return square\", '@document_it\\n@square_it\\ndef add_ints(a,b):\\n    return a + b\\n#1.進入document_it(func = square)\\n#2.執行newfunction\\n#3.newfunction中的func代入square執行\\n#4.執行square(func = add_ints)\\n#5.回傳square中的result至newfunction\\n#6.newfunction輸出結果為square中平方後的答案', 'type(square)', 'type(square_it)', 'def square_it(func):\\n    def newfunction(*args,*kwargs):\\n        result = func(*args,**kwargs)\\n        print(\"New 結果:\",result)\\n        return (\\'square_it 結果：\\',result * result)\\n    return newfunction', 'def square_it(func):\\n    def newfunction(*args,**kwargs):\\n        result = func(*args,**kwargs)\\n        print(\"New 結果:\",result)\\n        return (\\'square_it 結果：\\',result * result)\\n    return newfunction', \"def add_ints(a,b):\\n    return ('add_ints 結果：',a + b)\", 'add_ints(10,90)', \"def add_ints(a,b):\\n    return ('add_ints 結果：',a + b)\", \"@square_it\\ndef add_ints(a,b):\\n    return ('add_ints 結果：',a + b)\", 'add_ints(10,90)', '@square_it\\ndef add_ints(a,b):\\n    return a + b', 'add_ints(10,90)', 'def square_it(func):\\n    def newfunction(*args,**kwargs):\\n        result = func(*args,**kwargs)\\n        print(\"add_ints 結果:\",result)\\n        return (\\'square_it 結果：\\',result * result)\\n    return newfunction', 'add_ints(10,90)', '@square_it\\ndef add_ints(a,b):\\n    return a + b', 'add_ints(10,90)', \"animal = 'pig'\", \"animal = 'pig'\\ndef print_global():\\n    print('動物為全域變數',animal)\", \"print('最高等級',animal)\", 'print_global()', 'animal', \"def change_local():\\n    animal = 'dog'\\n    print(animal)\", 'change_local()', 'animal', \"def change_local():\\n    animal = 'dog'\\n    print('最高等級',animal,id(animal))\", 'change_local()', 'id(animal)', \"def change_and_print_global():\\n    global animal\\n    animal = '貓'\\n    print('動物:',animal)\", 'animal', 'change_and_print_global()', 'animal', \"animal = '狗'\", \"def change_local():\\n    animal = '貓'\\n    print('區域變數:',locals())\", 'change_local()', \"change_local()\\nprint('全域變數:',globals())\", \"change_local()\\nprint('全域變數:',global())\", \"change_local()\\nprint('全域變數:',globals())\", \"del animal\\nprint('全域變數:',globals())\"], '_oh': {5: 900, 8: 900, 11: 900, 16: 900, 18: 900, 23: 900, 46: <function print_my_name at 0x000002D1F6A5A8C8>, 52: 'James', 62: 900, 65: 900, 69: <class 'function'>, 73: ('add_ints 結果：', 100), 78: ('square_it 結果：', 10000), 80: ('square_it 結果：', 10000), 82: ('square_it 結果：', 10000), 87: 'pig', 90: 'pig', 93: 3100756674072, 95: 'pig', 97: '貓'}, '_dh': ['C:\\\\Users\\\\8706j\\\\Desktop\\\\網頁製作\\\\0326'], 'In': ['', \"def square_it(func):\\n    def newfunction(*args,**kwargs):\\n        result = func(*args,**kwargs)\\n        print('New結果:',result)\\n        return result * result\\n    return newfunction\", '@document_it\\n@square_it\\ndef add_ints(a,b):\\n    return a + b', \"def document_it(func):\\n    def newfunciton(*args,**kwargs):\\n        print('執行函式',func.__name__)\\n        print('參數位置',args)\\n        print('關鍵字參數',kwargs)\\n        result = func(*args,**kwargs)\\n        print('結果:',result)\\n        return result\\n    return newfunciton\", '@document_it\\n@square_it\\ndef add_ints(a,b):\\n    return a + b', 'add_ints(10,20)', \"def square_it(func):\\n    def newfunction(c,d):\\n        result = func(c,d)\\n        print('New結果:',result)\\n        return result * result\\n    return newfunction\", '@document_it\\n@square_it\\ndef add_ints(a,b):\\n    return a + b', 'add_ints(10,20)', \"def square_it(func):\\n    def newfunction(*c,**d):\\n        result = func(*c,**d)\\n        print('New結果:',result)\\n        return result * result\\n    return newfunction\", '@document_it\\n@square_it\\ndef add_ints(a,b):\\n    return a + b', 'add_ints(10,20)', \"def square_it(func):\\n    def squre(*args,**kwargs):\\n        result = func(*args,**kwargs)\\n        print('New結果:',result)\\n        return result * result\\n    return newfunction\", '@document_it\\n@square_it\\ndef add_ints(a,b):\\n    return a + b', \"def square_it(func):\\n    def squre(*args,**kwargs):\\n        result = func(*args,**kwargs)\\n        print('New結果:',result)\\n        return result * result\\n    return squre\", '@document_it\\n@square_it\\ndef add_ints(a,b):\\n    return a + b', 'add_ints(10,20)', '@square_it\\n@document_it\\ndef add_ints(a,b):\\n    return a + b', 'add_ints(10,20)', \"def document_it(func):\\n    def newfunciton(*args,**kwargs):\\n        print('執行函式1',func.__name__)\\n        print('參數位置',args)\\n        print('關鍵字參數',kwargs)\\n        result = func(*args,**kwargs)\\n        print('結果:',result)\\n        return result\\n    return newfunciton\", \"def square_it(func):\\n    def squre(*args,**kwargs):\\n         print('執行函式2',func.__name__)\\n        result = func(*args,**kwargs)\\n        print('New結果:',result)\\n        return result * result\\n    return squre\", \"def square_it(func):\\n    def squre(*args,**kwargs):\\n        print('執行函式2',func.__name__)\\n        result = func(*args,**kwargs)\\n        print('New結果:',result)\\n        return result * result\\n    return squre\", '@square_it\\n@document_it\\ndef add_ints(a,b):\\n    return a + b', 'add_ints(10,20)', 'def print_my_name(name):\\nprint “I am %s” %(name())\\n\\n@print_my_name\\ndef my_name():\\nreturn “Hans”', 'def print_my_name(name):\\nprint (“I am %s” %(name()))\\n\\n@print_my_name\\ndef my_name():\\nreturn “Hans”', 'def print_my_name(name):\\nprint “I am %s,name())\\n\\n@print_my_name\\ndef my_name():\\nreturn “Hans”', 'def print_my_name(name):\\n    print “I am %s,name())\\n\\n@print_my_name\\ndef my_name():\\nreturn “Hans”', 'def print_my_name(name):\\n    print “I am %s” %(name())\\n\\n@print_my_name\\ndef my_name():\\n    return “Hans”', \"def print_my_name(name):\\n    print ('I am %s' %(name()))\\n\\n@print_my_name\\ndef my_name():\\n    return “Hans”\", \"def print_my_name(name):\\n    print ('I am %s' %(name()))\\n\\n@print_my_name\\ndef my_name():\\n    return'Hans'\", 'def print_my_name(name):\\n    print “I am %s” %(name())\\n\\ndef my_name():\\n    return “Hans”\\n\\nmy_name = print_my_name(my_name)', \"def print_my_name(name):\\n    print 'I am %s' %(name())\\n\\ndef my_name():\\n    return 'Hans'\\n\\nmy_name = print_my_name(my_name)\", \"def print_my_name(name):\\n    print ('I am %s' %(name()))\\n\\ndef my_name():\\n    return 'Hans'\\n\\nmy_name = print_my_name(my_name)\", \"def print_my_name(name):\\n    print ('I am %s',name())\\n\\ndef my_name():\\n    return 'Hans'\\n\\nmy_name = print_my_name(my_name)\", \"def print_my_name(name):\\n    print ('I am %s',%(name())\\n\\ndef my_name():\\n    return 'Hans'\\n\\nmy_name = print_my_name(my_name)\", \"def print_my_name(name):\\n    print ('I am %s',%(name()))\\n\\ndef my_name():\\n    return 'Hans'\\n\\nmy_name = print_my_name(my_name)\", \"def print_my_name(name):\\n    print ('I am %s' %(name()))\\n\\ndef my_name():\\n    return 'Hans'\\n\\nmy_name = print_my_name(my_name)\", \"def print_my_name(name):\\n    print ('I am %s' %(name()))\\n\\ndef my_name():\\n    return 'Hans'\\n\\nprint_my_name(my_name)\", \"def print_my_name(name):\\n    print ('I am %s' %(name()))\\n\\ndef my_name():\\n    return 'James'\\n\\nprint_my_name(my_name)\", \"def print_my_name(name):\\n    print ('I am %s' %(name()))\\n\\n@print_my_name\\ndef my_name():\\n    return'Hans'\", 'my_name', 'print(my_name)', \"def print_my_name(name):\\n    print ('I am %s' %(name()))\\n\\ndef my_name():\\n    return 'James'\\n\\nmy_name = print_my_name(my_name)\", 'print(my_name)', 'my_name', 'print_my_name', 'return print_my_name', 'my_name()', 'print_my_name()', \"def print_my_name(name):\\n    print ('I am %s' %(name()))\\n\\ndef my_name():\\n    return 'James'\\n\\nmy_name = print_my_name(my_name)\\nmy_name()\", \"def print_my_name(name):\\n    print ('I am %s' %(name()))\\n    return name\\ndef my_name():\\n    return 'James'\\n\\nmy_name = print_my_name(my_name)\", 'my_name()', \"def print_my_name(name):\\n    print ('I am %s' %(name()))\\n\\ndef my_name():\\n    return 'James'\\n\\nmy_name = print_my_name(my_name)\", '@square_it\\n@document_it\\ndef add_ints(a,b):\\n    return a + b', \"def square_it(func):\\n    def square(*args,**kwargs):\\n        print('執行函式2',func.__name__)\\n        result = func(*args,**kwargs)\\n        print('New結果:',result)\\n        return result * result\\n    return square\", '@square_it\\n@document_it\\ndef add_ints(a,b):\\n    return a + b\\n#1.進入document_it(func = square_it)\\n#2.進入square_it(func = newfunction)\\n#3.square中的', \"def document_it(func):\\n    print('執行函式1',func.__name__)\\n    def newfunciton(*args,**kwargs):\\n        print('執行函式1',func.__name__)\\n        print('參數位置',args)\\n        print('關鍵字參數',kwargs)\\n        result = func(*args,**kwargs)\\n        print('結果:',result)\\n        return result\\n    return newfunciton\", '@document_it\\ndef add_ints(a,b):\\n    return a+b', \"def document_it(func):\\n    def newfunciton(*args,**kwargs):\\n        print('執行函式1',func.__name__)\\n        print('參數位置',args)\\n        print('關鍵字參數',kwargs)\\n        result = func(*args,**kwargs)\\n        print('結果:',result)\\n        return result\\n    return newfunciton\", '@document_it\\ndef add_ints(a,b):\\n    return a+b', '@document_it\\n@square_it\\ndef add_ints(a,b):\\n    return a + b\\n#1.進入document_it(func = square_it)\\n#2.進入square_it(func = newfunction)\\n#3.square中的func代入newfunction執行\\n#4.', 'add_ints(10,20)', \"def square_it(func):\\n    print('執行函式3',func.__name__)\\n    def square(*args,**kwargs):\\n        print('執行函式2',func.__name__)\\n        result = func(*args,**kwargs)\\n        print('New結果:',result)\\n        return result * result\\n    return square\", '@document_it\\n@square_it\\ndef add_ints(a,b):\\n    return a + b\\n#1.進入document_it(func = square)\\n#2.執行newfunction\\n#3.newfunction中的func代入square執行\\n#4.執行square(func = add_ints)\\n#5.回傳square中的result至newfunction\\n#6.newfunction輸出結果為square中平方後的答案', 'add_ints(10,20)', \"def square_it(func):\\n    def square(*args,**kwargs):\\n        print('執行函式2',func.__name__)\\n        result = func(*args,**kwargs)\\n        print('New結果:',result)\\n        return result * result\\n    return square\", '@document_it\\n@square_it\\ndef add_ints(a,b):\\n    return a + b\\n#1.進入document_it(func = square)\\n#2.執行newfunction\\n#3.newfunction中的func代入square執行\\n#4.執行square(func = add_ints)\\n#5.回傳square中的result至newfunction\\n#6.newfunction輸出結果為square中平方後的答案', 'type(square)', 'type(square_it)', 'def square_it(func):\\n    def newfunction(*args,*kwargs):\\n        result = func(*args,**kwargs)\\n        print(\"New 結果:\",result)\\n        return (\\'square_it 結果：\\',result * result)\\n    return newfunction', 'def square_it(func):\\n    def newfunction(*args,**kwargs):\\n        result = func(*args,**kwargs)\\n        print(\"New 結果:\",result)\\n        return (\\'square_it 結果：\\',result * result)\\n    return newfunction', \"def add_ints(a,b):\\n    return ('add_ints 結果：',a + b)\", 'add_ints(10,90)', \"def add_ints(a,b):\\n    return ('add_ints 結果：',a + b)\", \"@square_it\\ndef add_ints(a,b):\\n    return ('add_ints 結果：',a + b)\", 'add_ints(10,90)', '@square_it\\ndef add_ints(a,b):\\n    return a + b', 'add_ints(10,90)', 'def square_it(func):\\n    def newfunction(*args,**kwargs):\\n        result = func(*args,**kwargs)\\n        print(\"add_ints 結果:\",result)\\n        return (\\'square_it 結果：\\',result * result)\\n    return newfunction', 'add_ints(10,90)', '@square_it\\ndef add_ints(a,b):\\n    return a + b', 'add_ints(10,90)', \"animal = 'pig'\", \"animal = 'pig'\\ndef print_global():\\n    print('動物為全域變數',animal)\", \"print('最高等級',animal)\", 'print_global()', 'animal', \"def change_local():\\n    animal = 'dog'\\n    print(animal)\", 'change_local()', 'animal', \"def change_local():\\n    animal = 'dog'\\n    print('最高等級',animal,id(animal))\", 'change_local()', 'id(animal)', \"def change_and_print_global():\\n    global animal\\n    animal = '貓'\\n    print('動物:',animal)\", 'animal', 'change_and_print_global()', 'animal', \"animal = '狗'\", \"def change_local():\\n    animal = '貓'\\n    print('區域變數:',locals())\", 'change_local()', \"change_local()\\nprint('全域變數:',globals())\", \"change_local()\\nprint('全域變數:',global())\", \"change_local()\\nprint('全域變數:',globals())\", \"del animal\\nprint('全域變數:',globals())\"], 'Out': {5: 900, 8: 900, 11: 900, 16: 900, 18: 900, 23: 900, 46: <function print_my_name at 0x000002D1F6A5A8C8>, 52: 'James', 62: 900, 65: 900, 69: <class 'function'>, 73: ('add_ints 結果：', 100), 78: ('square_it 結果：', 10000), 80: ('square_it 結果：', 10000), 82: ('square_it 結果：', 10000), 87: 'pig', 90: 'pig', 93: 3100756674072, 95: 'pig', 97: '貓'}, 'get_ipython': <bound method InteractiveShell.get_ipython of <ipykernel.zmqshell.ZMQInteractiveShell object at 0x000002D1F5842198>>, 'exit': <IPython.core.autocall.ZMQExitAutocall object at 0x000002D1F585E6A0>, 'quit': <IPython.core.autocall.ZMQExitAutocall object at 0x000002D1F585E6A0>, '_': '貓', '__': 'pig', '___': 3100756674072, '_i': \"change_local()\\nprint('全域變數:',globals())\", '_ii': \"change_local()\\nprint('全域變數:',global())\", '_iii': \"change_local()\\nprint('全域變數:',globals())\", '_i1': \"def square_it(func):\\n    def newfunction(*args,**kwargs):\\n        result = func(*args,**kwargs)\\n        print('New結果:',result)\\n        return result * result\\n    return newfunction\", 'square_it': <function square_it at 0x000002D1F6A9D268>, '_i2': '@document_it\\n@square_it\\ndef add_ints(a,b):\\n    return a + b', '_i3': \"def document_it(func):\\n    def newfunciton(*args,**kwargs):\\n        print('執行函式',func.__name__)\\n        print('參數位置',args)\\n        print('關鍵字參數',kwargs)\\n        result = func(*args,**kwargs)\\n        print('結果:',result)\\n        return result\\n    return newfunciton\", 'document_it': <function document_it at 0x000002D1F6A752F0>, '_i4': '@document_it\\n@square_it\\ndef add_ints(a,b):\\n    return a + b', 'add_ints': <function square_it.<locals>.newfunction at 0x000002D1F6A52AE8>, '_i5': 'add_ints(10,20)', '_5': 900, '_i6': \"def square_it(func):\\n    def newfunction(c,d):\\n        result = func(c,d)\\n        print('New結果:',result)\\n        return result * result\\n    return newfunction\", '_i7': '@document_it\\n@square_it\\ndef add_ints(a,b):\\n    return a + b', '_i8': 'add_ints(10,20)', '_8': 900, '_i9': \"def square_it(func):\\n    def newfunction(*c,**d):\\n        result = func(*c,**d)\\n        print('New結果:',result)\\n        return result * result\\n    return newfunction\", '_i10': '@document_it\\n@square_it\\ndef add_ints(a,b):\\n    return a + b', '_i11': 'add_ints(10,20)', '_11': 900, '_i12': \"def square_it(func):\\n    def squre(*args,**kwargs):\\n        result = func(*args,**kwargs)\\n        print('New結果:',result)\\n        return result * result\\n    return newfunction\", '_i13': '@document_it\\n@square_it\\ndef add_ints(a,b):\\n    return a + b', '_i14': \"def square_it(func):\\n    def squre(*args,**kwargs):\\n        result = func(*args,**kwargs)\\n        print('New結果:',result)\\n        return result * result\\n    return squre\", '_i15': '@document_it\\n@square_it\\ndef add_ints(a,b):\\n    return a + b', '_i16': 'add_ints(10,20)', '_16': 900, '_i17': '@square_it\\n@document_it\\ndef add_ints(a,b):\\n    return a + b', '_i18': 'add_ints(10,20)', '_18': 900, '_i19': \"def document_it(func):\\n    def newfunciton(*args,**kwargs):\\n        print('執行函式1',func.__name__)\\n        print('參數位置',args)\\n        print('關鍵字參數',kwargs)\\n        result = func(*args,**kwargs)\\n        print('結果:',result)\\n        return result\\n    return newfunciton\", '_i20': \"def square_it(func):\\n    def squre(*args,**kwargs):\\n         print('執行函式2',func.__name__)\\n        result = func(*args,**kwargs)\\n        print('New結果:',result)\\n        return result * result\\n    return squre\", '_i21': \"def square_it(func):\\n    def squre(*args,**kwargs):\\n        print('執行函式2',func.__name__)\\n        result = func(*args,**kwargs)\\n        print('New結果:',result)\\n        return result * result\\n    return squre\", '_i22': '@square_it\\n@document_it\\ndef add_ints(a,b):\\n    return a + b', '_i23': 'add_ints(10,20)', '_23': 900, '_i24': 'def print_my_name(name):\\nprint “I am %s” %(name())\\n\\n@print_my_name\\ndef my_name():\\nreturn “Hans”', '_i25': 'def print_my_name(name):\\nprint (“I am %s” %(name()))\\n\\n@print_my_name\\ndef my_name():\\nreturn “Hans”', '_i26': 'def print_my_name(name):\\nprint “I am %s,name())\\n\\n@print_my_name\\ndef my_name():\\nreturn “Hans”', '_i27': 'def print_my_name(name):\\n    print “I am %s,name())\\n\\n@print_my_name\\ndef my_name():\\nreturn “Hans”', '_i28': 'def print_my_name(name):\\n    print “I am %s” %(name())\\n\\n@print_my_name\\ndef my_name():\\n    return “Hans”', '_i29': \"def print_my_name(name):\\n    print ('I am %s' %(name()))\\n\\n@print_my_name\\ndef my_name():\\n    return “Hans”\", '_i30': \"def print_my_name(name):\\n    print ('I am %s' %(name()))\\n\\n@print_my_name\\ndef my_name():\\n    return'Hans'\", 'print_my_name': <function print_my_name at 0x000002D1F6A75730>, 'my_name': None, '_i31': 'def print_my_name(name):\\n    print “I am %s” %(name())\\n\\ndef my_name():\\n    return “Hans”\\n\\nmy_name = print_my_name(my_name)', '_i32': \"def print_my_name(name):\\n    print 'I am %s' %(name())\\n\\ndef my_name():\\n    return 'Hans'\\n\\nmy_name = print_my_name(my_name)\", '_i33': \"def print_my_name(name):\\n    print ('I am %s' %(name()))\\n\\ndef my_name():\\n    return 'Hans'\\n\\nmy_name = print_my_name(my_name)\", '_i34': \"def print_my_name(name):\\n    print ('I am %s',name())\\n\\ndef my_name():\\n    return 'Hans'\\n\\nmy_name = print_my_name(my_name)\", '_i35': \"def print_my_name(name):\\n    print ('I am %s',%(name())\\n\\ndef my_name():\\n    return 'Hans'\\n\\nmy_name = print_my_name(my_name)\", '_i36': \"def print_my_name(name):\\n    print ('I am %s',%(name()))\\n\\ndef my_name():\\n    return 'Hans'\\n\\nmy_name = print_my_name(my_name)\", '_i37': \"def print_my_name(name):\\n    print ('I am %s' %(name()))\\n\\ndef my_name():\\n    return 'Hans'\\n\\nmy_name = print_my_name(my_name)\", '_i38': \"def print_my_name(name):\\n    print ('I am %s' %(name()))\\n\\ndef my_name():\\n    return 'Hans'\\n\\nprint_my_name(my_name)\", '_i39': \"def print_my_name(name):\\n    print ('I am %s' %(name()))\\n\\ndef my_name():\\n    return 'James'\\n\\nprint_my_name(my_name)\", '_i40': \"def print_my_name(name):\\n    print ('I am %s' %(name()))\\n\\n@print_my_name\\ndef my_name():\\n    return'Hans'\", '_i41': 'my_name', '_i42': 'print(my_name)', '_i43': \"def print_my_name(name):\\n    print ('I am %s' %(name()))\\n\\ndef my_name():\\n    return 'James'\\n\\nmy_name = print_my_name(my_name)\", '_i44': 'print(my_name)', '_i45': 'my_name', '_i46': 'print_my_name', '_46': <function print_my_name at 0x000002D1F6A5A8C8>, '_i47': 'return print_my_name', '_i48': 'my_name()', '_i49': 'print_my_name()', '_i50': \"def print_my_name(name):\\n    print ('I am %s' %(name()))\\n\\ndef my_name():\\n    return 'James'\\n\\nmy_name = print_my_name(my_name)\\nmy_name()\", '_i51': \"def print_my_name(name):\\n    print ('I am %s' %(name()))\\n    return name\\ndef my_name():\\n    return 'James'\\n\\nmy_name = print_my_name(my_name)\", '_i52': 'my_name()', '_52': 'James', '_i53': \"def print_my_name(name):\\n    print ('I am %s' %(name()))\\n\\ndef my_name():\\n    return 'James'\\n\\nmy_name = print_my_name(my_name)\", '_i54': '@square_it\\n@document_it\\ndef add_ints(a,b):\\n    return a + b', '_i55': \"def square_it(func):\\n    def square(*args,**kwargs):\\n        print('執行函式2',func.__name__)\\n        result = func(*args,**kwargs)\\n        print('New結果:',result)\\n        return result * result\\n    return square\", '_i56': '@square_it\\n@document_it\\ndef add_ints(a,b):\\n    return a + b\\n#1.進入document_it(func = square_it)\\n#2.進入square_it(func = newfunction)\\n#3.square中的', '_i57': \"def document_it(func):\\n    print('執行函式1',func.__name__)\\n    def newfunciton(*args,**kwargs):\\n        print('執行函式1',func.__name__)\\n        print('參數位置',args)\\n        print('關鍵字參數',kwargs)\\n        result = func(*args,**kwargs)\\n        print('結果:',result)\\n        return result\\n    return newfunciton\", '_i58': '@document_it\\ndef add_ints(a,b):\\n    return a+b', '_i59': \"def document_it(func):\\n    def newfunciton(*args,**kwargs):\\n        print('執行函式1',func.__name__)\\n        print('參數位置',args)\\n        print('關鍵字參數',kwargs)\\n        result = func(*args,**kwargs)\\n        print('結果:',result)\\n        return result\\n    return newfunciton\", '_i60': '@document_it\\ndef add_ints(a,b):\\n    return a+b', '_i61': '@document_it\\n@square_it\\ndef add_ints(a,b):\\n    return a + b\\n#1.進入document_it(func = square_it)\\n#2.進入square_it(func = newfunction)\\n#3.square中的func代入newfunction執行\\n#4.', '_i62': 'add_ints(10,20)', '_62': 900, '_i63': \"def square_it(func):\\n    print('執行函式3',func.__name__)\\n    def square(*args,**kwargs):\\n        print('執行函式2',func.__name__)\\n        result = func(*args,**kwargs)\\n        print('New結果:',result)\\n        return result * result\\n    return square\", '_i64': '@document_it\\n@square_it\\ndef add_ints(a,b):\\n    return a + b\\n#1.進入document_it(func = square)\\n#2.執行newfunction\\n#3.newfunction中的func代入square執行\\n#4.執行square(func = add_ints)\\n#5.回傳square中的result至newfunction\\n#6.newfunction輸出結果為square中平方後的答案', '_i65': 'add_ints(10,20)', '_65': 900, '_i66': \"def square_it(func):\\n    def square(*args,**kwargs):\\n        print('執行函式2',func.__name__)\\n        result = func(*args,**kwargs)\\n        print('New結果:',result)\\n        return result * result\\n    return square\", '_i67': '@document_it\\n@square_it\\ndef add_ints(a,b):\\n    return a + b\\n#1.進入document_it(func = square)\\n#2.執行newfunction\\n#3.newfunction中的func代入square執行\\n#4.執行square(func = add_ints)\\n#5.回傳square中的result至newfunction\\n#6.newfunction輸出結果為square中平方後的答案', '_i68': 'type(square)', '_i69': 'type(square_it)', '_69': <class 'function'>, '_i70': 'def square_it(func):\\n    def newfunction(*args,*kwargs):\\n        result = func(*args,**kwargs)\\n        print(\"New 結果:\",result)\\n        return (\\'square_it 結果：\\',result * result)\\n    return newfunction', '_i71': 'def square_it(func):\\n    def newfunction(*args,**kwargs):\\n        result = func(*args,**kwargs)\\n        print(\"New 結果:\",result)\\n        return (\\'square_it 結果：\\',result * result)\\n    return newfunction', '_i72': \"def add_ints(a,b):\\n    return ('add_ints 結果：',a + b)\", '_i73': 'add_ints(10,90)', '_73': ('add_ints 結果：', 100), '_i74': \"def add_ints(a,b):\\n    return ('add_ints 結果：',a + b)\", '_i75': \"@square_it\\ndef add_ints(a,b):\\n    return ('add_ints 結果：',a + b)\", '_i76': 'add_ints(10,90)', '_i77': '@square_it\\ndef add_ints(a,b):\\n    return a + b', '_i78': 'add_ints(10,90)', '_78': ('square_it 結果：', 10000), '_i79': 'def square_it(func):\\n    def newfunction(*args,**kwargs):\\n        result = func(*args,**kwargs)\\n        print(\"add_ints 結果:\",result)\\n        return (\\'square_it 結果：\\',result * result)\\n    return newfunction', '_i80': 'add_ints(10,90)', '_80': ('square_it 結果：', 10000), '_i81': '@square_it\\ndef add_ints(a,b):\\n    return a + b', '_i82': 'add_ints(10,90)', '_82': ('square_it 結果：', 10000), '_i83': \"animal = 'pig'\", '_i84': \"animal = 'pig'\\ndef print_global():\\n    print('動物為全域變數',animal)\", 'print_global': <function print_global at 0x000002D1F6A52D08>, '_i85': \"print('最高等級',animal)\", '_i86': 'print_global()', '_i87': 'animal', '_87': 'pig', '_i88': \"def change_local():\\n    animal = 'dog'\\n    print(animal)\", 'change_local': <function change_local at 0x000002D1F6A9DBF8>, '_i89': 'change_local()', '_i90': 'animal', '_90': 'pig', '_i91': \"def change_local():\\n    animal = 'dog'\\n    print('最高等級',animal,id(animal))\", '_i92': 'change_local()', '_i93': 'id(animal)', '_93': 3100756674072, '_i94': \"def change_and_print_global():\\n    global animal\\n    animal = '貓'\\n    print('動物:',animal)\", 'change_and_print_global': <function change_and_print_global at 0x000002D1F6A9D730>, '_i95': 'animal', '_95': 'pig', '_i96': 'change_and_print_global()', '_i97': 'animal', '_97': '貓', '_i98': \"animal = '狗'\", '_i99': \"def change_local():\\n    animal = '貓'\\n    print('區域變數:',locals())\", '_i100': 'change_local()', '_i101': \"change_local()\\nprint('全域變數:',globals())\", '_i102': \"change_local()\\nprint('全域變數:',global())\", '_i103': \"change_local()\\nprint('全域變數:',globals())\", '_i104': \"del animal\\nprint('全域變數:',globals())\"}\n"
     ]
    }
   ],
   "source": [
    "del animal\n",
    "print('全域變數:',globals())"
   ]
  },
  {
   "cell_type": "markdown",
   "metadata": {},
   "source": [
    "# 練習5(例外處理)"
   ]
  },
  {
   "cell_type": "code",
   "execution_count": 106,
   "metadata": {},
   "outputs": [
    {
     "ename": "IndexError",
     "evalue": "list index out of range",
     "output_type": "error",
     "traceback": [
      "\u001b[1;31m---------------------------------------------------------------------------\u001b[0m",
      "\u001b[1;31mIndexError\u001b[0m                                Traceback (most recent call last)",
      "\u001b[1;32m<ipython-input-106-f1a6e55285d0>\u001b[0m in \u001b[0;36m<module>\u001b[1;34m()\u001b[0m\n\u001b[0;32m      1\u001b[0m \u001b[0mAvengers\u001b[0m \u001b[1;33m=\u001b[0m \u001b[1;33m[\u001b[0m\u001b[1;34m'Iron Man'\u001b[0m\u001b[1;33m,\u001b[0m\u001b[1;34m'Captain America'\u001b[0m\u001b[1;33m,\u001b[0m\u001b[1;34m'Doctor Strange'\u001b[0m\u001b[1;33m]\u001b[0m\u001b[1;33m\u001b[0m\u001b[0m\n\u001b[0;32m      2\u001b[0m \u001b[0mposition\u001b[0m \u001b[1;33m=\u001b[0m \u001b[1;36m5\u001b[0m\u001b[1;33m\u001b[0m\u001b[0m\n\u001b[1;32m----> 3\u001b[1;33m \u001b[0mAvengers\u001b[0m\u001b[1;33m[\u001b[0m\u001b[0mposition\u001b[0m\u001b[1;33m]\u001b[0m\u001b[1;33m\u001b[0m\u001b[0m\n\u001b[0m",
      "\u001b[1;31mIndexError\u001b[0m: list index out of range"
     ]
    }
   ],
   "source": [
    "Avengers = ['Iron Man','Captain America','Doctor Strange']\n",
    "position = 5\n",
    "Avengers[position]"
   ]
  },
  {
   "cell_type": "code",
   "execution_count": 110,
   "metadata": {},
   "outputs": [
    {
     "name": "stdout",
     "output_type": "stream",
     "text": [
      "Iron Man\n"
     ]
    }
   ],
   "source": [
    "position = 0\n",
    "try:\n",
    "    print(Avengers[position])\n",
    "except:\n",
    "    print(\"Over the length\")"
   ]
  },
  {
   "cell_type": "code",
   "execution_count": 111,
   "metadata": {},
   "outputs": [
    {
     "name": "stdout",
     "output_type": "stream",
     "text": [
      "Over the length\n"
     ]
    }
   ],
   "source": [
    "position = 5\n",
    "try:\n",
    "    print(Avengers[position])\n",
    "except:\n",
    "    print(\"Over the length\")"
   ]
  },
  {
   "cell_type": "code",
   "execution_count": 121,
   "metadata": {},
   "outputs": [],
   "source": [
    "def f():\n",
    "    try:\n",
    "        raise Exception\n",
    "    except:\n",
    "        print('return Hi')\n",
    "        return True\n",
    "    else:\n",
    "        print('return True')\n",
    "        return True\n",
    "    finally:\n",
    "        print('return False')\n",
    "        return False\n",
    "    \n",
    "def main():\n",
    "    re = f()\n",
    "    print(re)\n",
    "    print(type(re))"
   ]
  },
  {
   "cell_type": "code",
   "execution_count": 122,
   "metadata": {},
   "outputs": [
    {
     "name": "stdout",
     "output_type": "stream",
     "text": [
      "return Hi\n",
      "return False\n",
      "False\n",
      "<class 'bool'>\n"
     ]
    }
   ],
   "source": [
    "main()"
   ]
  }
 ],
 "metadata": {
  "kernelspec": {
   "display_name": "Python 3",
   "language": "python",
   "name": "python3"
  },
  "language_info": {
   "codemirror_mode": {
    "name": "ipython",
    "version": 3
   },
   "file_extension": ".py",
   "mimetype": "text/x-python",
   "name": "python",
   "nbconvert_exporter": "python",
   "pygments_lexer": "ipython3",
   "version": "3.6.4"
  }
 },
 "nbformat": 4,
 "nbformat_minor": 2
}
