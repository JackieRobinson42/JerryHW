{
 "cells": [
  {
   "cell_type": "markdown",
   "metadata": {},
   "source": [
    "# 作業1"
   ]
  },
  {
   "cell_type": "markdown",
   "metadata": {},
   "source": [
    "### 版本一"
   ]
  },
  {
   "cell_type": "code",
   "execution_count": 6,
   "metadata": {},
   "outputs": [
    {
     "name": "stdout",
     "output_type": "stream",
     "text": [
      "5 6 10 33 78\n"
     ]
    },
    {
     "data": {
      "text/plain": [
       "[105, 106, 110, 133, 178]"
      ]
     },
     "execution_count": 6,
     "metadata": {},
     "output_type": "execute_result"
    }
   ],
   "source": [
    "num = list(map(int,input().split( )))\n",
    "num\n",
    "list(map(lambda i: i+100,num))"
   ]
  },
  {
   "cell_type": "markdown",
   "metadata": {},
   "source": [
    "### 版本二"
   ]
  },
  {
   "cell_type": "code",
   "execution_count": 8,
   "metadata": {},
   "outputs": [
    {
     "name": "stdout",
     "output_type": "stream",
     "text": [
      "請輸入一個數字:(未輸入按enter可退出)5\n",
      "[5]\n",
      "請輸入一個數字:(未輸入按enter可退出)10\n",
      "[5, 10]\n",
      "請輸入一個數字:(未輸入按enter可退出)30\n",
      "[5, 10, 30]\n",
      "請輸入一個數字:(未輸入按enter可退出)\n"
     ]
    },
    {
     "data": {
      "text/plain": [
       "[105, 110, 130]"
      ]
     },
     "execution_count": 8,
     "metadata": {},
     "output_type": "execute_result"
    }
   ],
   "source": [
    "x = input(\"請輸入一個數字:(未輸入按enter可退出)\")\n",
    "y = []\n",
    "while True:\n",
    "    \n",
    "    if x == '':\n",
    "        break\n",
    "    else:\n",
    "        temp = int(x)\n",
    "        y.append(temp)\n",
    "        print(y)\n",
    "        x = input(\"請輸入一個數字:(未輸入按enter可退出)\")\n",
    "list(map(lambda i: i +100,y))"
   ]
  },
  {
   "cell_type": "markdown",
   "metadata": {},
   "source": [
    "# 作業2"
   ]
  },
  {
   "cell_type": "code",
   "execution_count": 12,
   "metadata": {},
   "outputs": [],
   "source": [
    "def decorator(func):\n",
    "    def new_function(*args,**kwargs):\n",
    "        print('執行程式：',func.__name__)\n",
    "        result = func(*args,**kwargs)\n",
    "        print('結果：',result)\n",
    "        return ('multiply_ints:',args[0] * args[1])\n",
    "    return new_function"
   ]
  },
  {
   "cell_type": "code",
   "execution_count": 13,
   "metadata": {},
   "outputs": [],
   "source": [
    "@decorator\n",
    "def add(a,b):\n",
    "    return a + b"
   ]
  },
  {
   "cell_type": "code",
   "execution_count": 14,
   "metadata": {},
   "outputs": [
    {
     "name": "stdout",
     "output_type": "stream",
     "text": [
      "執行程式： add\n",
      "結果： 12\n"
     ]
    },
    {
     "data": {
      "text/plain": [
       "('multiply_ints:', 20)"
      ]
     },
     "execution_count": 14,
     "metadata": {},
     "output_type": "execute_result"
    }
   ],
   "source": [
    "add(2,10)"
   ]
  },
  {
   "cell_type": "code",
   "execution_count": 15,
   "metadata": {},
   "outputs": [
    {
     "name": "stdout",
     "output_type": "stream",
     "text": [
      "執行程式： add\n",
      "結果： 36\n"
     ]
    },
    {
     "data": {
      "text/plain": [
       "('multiply_ints:', 99)"
      ]
     },
     "execution_count": 15,
     "metadata": {},
     "output_type": "execute_result"
    }
   ],
   "source": [
    "add(3,33)"
   ]
  },
  {
   "cell_type": "markdown",
   "metadata": {},
   "source": [
    "# 作業3"
   ]
  },
  {
   "cell_type": "code",
   "execution_count": 19,
   "metadata": {},
   "outputs": [
    {
     "name": "stdout",
     "output_type": "stream",
     "text": [
      "請輸入數字ss\n",
      "出錯，請重新輸入\n"
     ]
    }
   ],
   "source": [
    "try:\n",
    "    x = int(input('請輸入數字'))\n",
    "    print(x)\n",
    "except:\n",
    "    print(\"出錯，請重新輸入\")"
   ]
  },
  {
   "cell_type": "code",
   "execution_count": 20,
   "metadata": {},
   "outputs": [
    {
     "name": "stdout",
     "output_type": "stream",
     "text": [
      "請輸入數字5\n",
      "5\n"
     ]
    }
   ],
   "source": [
    "try:\n",
    "    x = int(input('請輸入數字'))\n",
    "    print(x)\n",
    "except:\n",
    "    print(\"出錯，請重新輸入\")"
   ]
  },
  {
   "cell_type": "code",
   "execution_count": null,
   "metadata": {},
   "outputs": [],
   "source": []
  }
 ],
 "metadata": {
  "kernelspec": {
   "display_name": "Python 3",
   "language": "python",
   "name": "python3"
  },
  "language_info": {
   "codemirror_mode": {
    "name": "ipython",
    "version": 3
   },
   "file_extension": ".py",
   "mimetype": "text/x-python",
   "name": "python",
   "nbconvert_exporter": "python",
   "pygments_lexer": "ipython3",
   "version": "3.6.4"
  }
 },
 "nbformat": 4,
 "nbformat_minor": 2
}
