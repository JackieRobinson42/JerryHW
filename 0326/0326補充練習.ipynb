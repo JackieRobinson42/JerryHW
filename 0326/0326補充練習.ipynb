{
 "cells": [
  {
   "cell_type": "markdown",
   "metadata": {},
   "source": [
    "# 練習1"
   ]
  },
  {
   "cell_type": "code",
   "execution_count": 1,
   "metadata": {},
   "outputs": [],
   "source": [
    "def add_ints(a,b):\n",
    "    return a+b"
   ]
  },
  {
   "cell_type": "code",
   "execution_count": 3,
   "metadata": {},
   "outputs": [
    {
     "data": {
      "text/plain": [
       "3"
      ]
     },
     "execution_count": 3,
     "metadata": {},
     "output_type": "execute_result"
    }
   ],
   "source": [
    "add_ints(1,2)"
   ]
  },
  {
   "cell_type": "code",
   "execution_count": null,
   "metadata": {},
   "outputs": [],
   "source": [
    "def document_it(func):\n",
    "    def new_function(*args,**kwargs):\n",
    "    print('執行函式')"
   ]
  },
  {
   "cell_type": "code",
   "execution_count": 5,
   "metadata": {},
   "outputs": [],
   "source": [
    "def square_it(func):\n",
    "    def new_function(*args,**kwargs):\n",
    "        result = func(*args,**kwargs)\n",
    "        print(\"New結果:\",result)\n",
    "        return result * result\n",
    "    return new_function"
   ]
  },
  {
   "cell_type": "code",
   "execution_count": 6,
   "metadata": {},
   "outputs": [],
   "source": [
    "@square_it\n",
    "def add_ints(a,b):\n",
    "    return a+b"
   ]
  },
  {
   "cell_type": "code",
   "execution_count": 7,
   "metadata": {},
   "outputs": [
    {
     "name": "stdout",
     "output_type": "stream",
     "text": [
      "New結果: 21\n"
     ]
    },
    {
     "data": {
      "text/plain": [
       "441"
      ]
     },
     "execution_count": 7,
     "metadata": {},
     "output_type": "execute_result"
    }
   ],
   "source": [
    "add_ints(1,20)"
   ]
  },
  {
   "cell_type": "markdown",
   "metadata": {},
   "source": [
    "# 練習2"
   ]
  },
  {
   "cell_type": "code",
   "execution_count": 8,
   "metadata": {},
   "outputs": [],
   "source": [
    "a = 'pig'\n",
    "def print_global():\n",
    "    print('全域變數',a)"
   ]
  },
  {
   "cell_type": "code",
   "execution_count": 9,
   "metadata": {},
   "outputs": [
    {
     "name": "stdout",
     "output_type": "stream",
     "text": [
      "最高等級 pig\n"
     ]
    }
   ],
   "source": [
    "print('最高等級',a)"
   ]
  },
  {
   "cell_type": "code",
   "execution_count": 10,
   "metadata": {},
   "outputs": [
    {
     "name": "stdout",
     "output_type": "stream",
     "text": [
      "全域變數 pig\n"
     ]
    }
   ],
   "source": [
    "print_global()"
   ]
  },
  {
   "cell_type": "code",
   "execution_count": 11,
   "metadata": {},
   "outputs": [],
   "source": [
    "a = 'pig'"
   ]
  },
  {
   "cell_type": "code",
   "execution_count": 12,
   "metadata": {},
   "outputs": [],
   "source": [
    "def change_local():\n",
    "    a=  'dog'\n",
    "    print(a)"
   ]
  },
  {
   "cell_type": "code",
   "execution_count": 14,
   "metadata": {},
   "outputs": [
    {
     "name": "stdout",
     "output_type": "stream",
     "text": [
      "dog\n"
     ]
    }
   ],
   "source": [
    "change_local()"
   ]
  },
  {
   "cell_type": "code",
   "execution_count": 15,
   "metadata": {},
   "outputs": [],
   "source": [
    "a = '狗'\n",
    "def change_and_print_global():\n",
    "    global a\n",
    "    a = '貓'\n",
    "    print('動物:',a)"
   ]
  },
  {
   "cell_type": "code",
   "execution_count": 16,
   "metadata": {},
   "outputs": [
    {
     "name": "stdout",
     "output_type": "stream",
     "text": [
      "動物: 貓\n"
     ]
    }
   ],
   "source": [
    "change_and_print_global()"
   ]
  },
  {
   "cell_type": "code",
   "execution_count": 17,
   "metadata": {},
   "outputs": [
    {
     "data": {
      "text/plain": [
       "'貓'"
      ]
     },
     "execution_count": 17,
     "metadata": {},
     "output_type": "execute_result"
    }
   ],
   "source": [
    "a"
   ]
  },
  {
   "cell_type": "code",
   "execution_count": 18,
   "metadata": {},
   "outputs": [
    {
     "name": "stdout",
     "output_type": "stream",
     "text": [
      "全域變數 {'__name__': '__main__', '__doc__': 'Automatically created module for IPython interactive environment', '__package__': None, '__loader__': None, '__spec__': None, '__builtin__': <module 'builtins' (built-in)>, '__builtins__': <module 'builtins' (built-in)>, '_ih': ['', 'def add_ints(a,b):\\n    return a+b', 'addints(1,2)', 'add_ints(1,2)', 'def square_it(func):\\n    def new_function(*args,**kwargs):\\n        result = func(*args,**kwargs)\\n        print(\"New結果:\",result)\\n        return result = result\\n    return new_function', 'def square_it(func):\\n    def new_function(*args,**kwargs):\\n        result = func(*args,**kwargs)\\n        print(\"New結果:\",result)\\n        return result * result\\n    return new_function', '@square_it\\ndef add_ints(a,b):\\n    return a+b', 'add_ints(1,20)', \"a = 'pig'\\ndef print_global():\\n    print('全域變數',a)\", \"print('最高等級',a)\", 'print_global()', \"a = 'pig'\", \"def change_local():\\n    a=  'dog'\\n    print(a)\", 'change_local', 'change_local()', \"a = '狗'\\ndef change_and_print_global():\\n    global a\\n    a = '貓'\\n    print('動物:',a)\", 'change_and_print_global()', 'a', \"print('全域變數',globals())\"], '_oh': {3: 3, 7: 441, 13: <function change_local at 0x000001196E07D400>, 17: '貓'}, '_dh': ['C:\\\\Users\\\\8706j\\\\Desktop\\\\網頁製作\\\\0326'], 'In': ['', 'def add_ints(a,b):\\n    return a+b', 'addints(1,2)', 'add_ints(1,2)', 'def square_it(func):\\n    def new_function(*args,**kwargs):\\n        result = func(*args,**kwargs)\\n        print(\"New結果:\",result)\\n        return result = result\\n    return new_function', 'def square_it(func):\\n    def new_function(*args,**kwargs):\\n        result = func(*args,**kwargs)\\n        print(\"New結果:\",result)\\n        return result * result\\n    return new_function', '@square_it\\ndef add_ints(a,b):\\n    return a+b', 'add_ints(1,20)', \"a = 'pig'\\ndef print_global():\\n    print('全域變數',a)\", \"print('最高等級',a)\", 'print_global()', \"a = 'pig'\", \"def change_local():\\n    a=  'dog'\\n    print(a)\", 'change_local', 'change_local()', \"a = '狗'\\ndef change_and_print_global():\\n    global a\\n    a = '貓'\\n    print('動物:',a)\", 'change_and_print_global()', 'a', \"print('全域變數',globals())\"], 'Out': {3: 3, 7: 441, 13: <function change_local at 0x000001196E07D400>, 17: '貓'}, 'get_ipython': <bound method InteractiveShell.get_ipython of <ipykernel.zmqshell.ZMQInteractiveShell object at 0x000001196CF00160>>, 'exit': <IPython.core.autocall.ZMQExitAutocall object at 0x000001196CF1E630>, 'quit': <IPython.core.autocall.ZMQExitAutocall object at 0x000001196CF1E630>, '_': '貓', '__': <function change_local at 0x000001196E07D400>, '___': 441, '_i': 'a', '_ii': 'change_and_print_global()', '_iii': \"a = '狗'\\ndef change_and_print_global():\\n    global a\\n    a = '貓'\\n    print('動物:',a)\", '_i1': 'def add_ints(a,b):\\n    return a+b', 'add_ints': <function square_it.<locals>.new_function at 0x000001196EB16840>, '_i2': 'addints(1,2)', '_i3': 'add_ints(1,2)', '_3': 3, '_i4': 'def square_it(func):\\n    def new_function(*args,**kwargs):\\n        result = func(*args,**kwargs)\\n        print(\"New結果:\",result)\\n        return result = result\\n    return new_function', '_i5': 'def square_it(func):\\n    def new_function(*args,**kwargs):\\n        result = func(*args,**kwargs)\\n        print(\"New結果:\",result)\\n        return result * result\\n    return new_function', 'square_it': <function square_it at 0x000001196E07D158>, '_i6': '@square_it\\ndef add_ints(a,b):\\n    return a+b', '_i7': 'add_ints(1,20)', '_7': 441, '_i8': \"a = 'pig'\\ndef print_global():\\n    print('全域變數',a)\", 'a': '貓', 'print_global': <function print_global at 0x000001196E0608C8>, '_i9': \"print('最高等級',a)\", '_i10': 'print_global()', '_i11': \"a = 'pig'\", '_i12': \"def change_local():\\n    a=  'dog'\\n    print(a)\", 'change_local': <function change_local at 0x000001196E07D400>, '_i13': 'change_local', '_13': <function change_local at 0x000001196E07D400>, '_i14': 'change_local()', '_i15': \"a = '狗'\\ndef change_and_print_global():\\n    global a\\n    a = '貓'\\n    print('動物:',a)\", 'change_and_print_global': <function change_and_print_global at 0x000001196EB16B70>, '_i16': 'change_and_print_global()', '_i17': 'a', '_17': '貓', '_i18': \"print('全域變數',globals())\"}\n"
     ]
    }
   ],
   "source": [
    "print('全域變數',globals())"
   ]
  },
  {
   "cell_type": "markdown",
   "metadata": {},
   "source": [
    "# 練習3"
   ]
  },
  {
   "cell_type": "code",
   "execution_count": 21,
   "metadata": {},
   "outputs": [],
   "source": [
    "def f():\n",
    "    try:\n",
    "        raise Exception\n",
    "    except:\n",
    "        print ('return True')\n",
    "        return True\n",
    "    else:\n",
    "        print ('return True')\n",
    "        return True\n",
    "    finally:\n",
    "        print ('return False')\n",
    "        return False"
   ]
  },
  {
   "cell_type": "code",
   "execution_count": 22,
   "metadata": {},
   "outputs": [
    {
     "name": "stdout",
     "output_type": "stream",
     "text": [
      "return True\n",
      "return False\n"
     ]
    },
    {
     "data": {
      "text/plain": [
       "False"
      ]
     },
     "execution_count": 22,
     "metadata": {},
     "output_type": "execute_result"
    }
   ],
   "source": [
    "f()"
   ]
  }
 ],
 "metadata": {
  "kernelspec": {
   "display_name": "Python 3",
   "language": "python",
   "name": "python3"
  },
  "language_info": {
   "codemirror_mode": {
    "name": "ipython",
    "version": 3
   },
   "file_extension": ".py",
   "mimetype": "text/x-python",
   "name": "python",
   "nbconvert_exporter": "python",
   "pygments_lexer": "ipython3",
   "version": "3.6.4"
  }
 },
 "nbformat": 4,
 "nbformat_minor": 2
}
