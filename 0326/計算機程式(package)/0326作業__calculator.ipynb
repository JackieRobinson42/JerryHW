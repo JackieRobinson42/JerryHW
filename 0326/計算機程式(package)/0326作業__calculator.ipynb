{
 "cells": [
  {
   "cell_type": "markdown",
   "metadata": {},
   "source": [
    "# 作業4"
   ]
  },
  {
   "cell_type": "code",
   "execution_count": 1,
   "metadata": {},
   "outputs": [],
   "source": [
    "#計算機程式(package)/0326作業__calculator.py"
   ]
  },
  {
   "cell_type": "code",
   "execution_count": 3,
   "metadata": {},
   "outputs": [
    {
     "name": "stdout",
     "output_type": "stream",
     "text": [
      "請輸入第一個數字:5\n",
      "請輸入第二個數字:2\n",
      "請輸入運算子:+\n",
      "7\n"
     ]
    }
   ],
   "source": [
    "arg1 = input(\"請輸入第一個數字:\")\n",
    "arg2 = input(\"請輸入第二個數字:\")\n",
    "operator = input(\"請輸入運算子:\")\n",
    "\n",
    "from source import calculator\n",
    "calculator.Calculator(arg1,arg2,operator)"
   ]
  },
  {
   "cell_type": "code",
   "execution_count": 4,
   "metadata": {},
   "outputs": [
    {
     "name": "stdout",
     "output_type": "stream",
     "text": [
      "請輸入第一個數字:6\n",
      "請輸入第二個數字:2\n",
      "請輸入運算子:/\n",
      "3.0\n"
     ]
    }
   ],
   "source": [
    "arg1 = input(\"請輸入第一個數字:\")\n",
    "arg2 = input(\"請輸入第二個數字:\")\n",
    "operator = input(\"請輸入運算子:\")\n",
    "\n",
    "from source import calculator\n",
    "calculator.Calculator(arg1,arg2,operator)"
   ]
  },
  {
   "cell_type": "code",
   "execution_count": 5,
   "metadata": {},
   "outputs": [
    {
     "name": "stdout",
     "output_type": "stream",
     "text": [
      "請輸入第一個數字:9\n",
      "請輸入第二個數字:10\n",
      "請輸入運算子:*\n",
      "90\n"
     ]
    }
   ],
   "source": [
    "arg1 = input(\"請輸入第一個數字:\")\n",
    "arg2 = input(\"請輸入第二個數字:\")\n",
    "operator = input(\"請輸入運算子:\")\n",
    "\n",
    "from source import calculator\n",
    "calculator.Calculator(arg1,arg2,operator)"
   ]
  },
  {
   "cell_type": "code",
   "execution_count": 6,
   "metadata": {},
   "outputs": [
    {
     "name": "stdout",
     "output_type": "stream",
     "text": [
      "請輸入第一個數字:6\n",
      "請輸入第二個數字:9\n",
      "請輸入運算子:-\n",
      "-3\n"
     ]
    }
   ],
   "source": [
    "arg1 = input(\"請輸入第一個數字:\")\n",
    "arg2 = input(\"請輸入第二個數字:\")\n",
    "operator = input(\"請輸入運算子:\")\n",
    "\n",
    "from source import calculator\n",
    "calculator.Calculator(arg1,arg2,operator)"
   ]
  }
 ],
 "metadata": {
  "kernelspec": {
   "display_name": "Python 3",
   "language": "python",
   "name": "python3"
  },
  "language_info": {
   "codemirror_mode": {
    "name": "ipython",
    "version": 3
   },
   "file_extension": ".py",
   "mimetype": "text/x-python",
   "name": "python",
   "nbconvert_exporter": "python",
   "pygments_lexer": "ipython3",
   "version": "3.6.4"
  }
 },
 "nbformat": 4,
 "nbformat_minor": 2
}
