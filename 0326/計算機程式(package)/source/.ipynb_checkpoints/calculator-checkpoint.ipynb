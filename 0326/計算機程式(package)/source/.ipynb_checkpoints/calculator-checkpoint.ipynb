{
 "cells": [
  {
   "cell_type": "code",
   "execution_count": 1,
   "metadata": {},
   "outputs": [],
   "source": [
    "#計算機程式(package)/source/calculator.py"
   ]
  },
  {
   "cell_type": "code",
   "execution_count": 2,
   "metadata": {},
   "outputs": [],
   "source": [
    "def Calculator(arg1,arg2,operator):\n",
    "    if operator == '+':\n",
    "        print (int(arg1) + int(arg2))\n",
    "    if operator == '-':\n",
    "        print (int(arg1) - int(arg2))\n",
    "    if operator == '*':\n",
    "        print (int(arg1) * int(arg2))\n",
    "    if operator == '/':\n",
    "        print (int(arg1) / int(arg2))"
   ]
  }
 ],
 "metadata": {
  "kernelspec": {
   "display_name": "Python 3",
   "language": "python",
   "name": "python3"
  },
  "language_info": {
   "codemirror_mode": {
    "name": "ipython",
    "version": 3
   },
   "file_extension": ".py",
   "mimetype": "text/x-python",
   "name": "python",
   "nbconvert_exporter": "python",
   "pygments_lexer": "ipython3",
   "version": "3.6.4"
  }
 },
 "nbformat": 4,
 "nbformat_minor": 2
}
