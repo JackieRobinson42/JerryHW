{
 "cells": [
  {
   "cell_type": "markdown",
   "metadata": {},
   "source": [
    "# 練習1、練習2"
   ]
  },
  {
   "cell_type": "code",
   "execution_count": 5,
   "metadata": {},
   "outputs": [
    {
     "name": "stdout",
     "output_type": "stream",
     "text": [
      "Rock_n_Roll\n",
      "\n",
      "Rock_n_Roll\n",
      "Rock_n_Roll\n",
      "Rock_n_Roll\n",
      "\n"
     ]
    }
   ],
   "source": [
    "a = 'Rock_n_Roll\\n'\n",
    "print(a)\n",
    "\n",
    "print(a*3)"
   ]
  },
  {
   "cell_type": "code",
   "execution_count": 6,
   "metadata": {},
   "outputs": [],
   "source": [
    "name = \"James\""
   ]
  },
  {
   "cell_type": "code",
   "execution_count": 7,
   "metadata": {},
   "outputs": [
    {
     "data": {
      "text/plain": [
       "'James'"
      ]
     },
     "execution_count": 7,
     "metadata": {},
     "output_type": "execute_result"
    }
   ],
   "source": [
    "name[:]"
   ]
  },
  {
   "cell_type": "code",
   "execution_count": 9,
   "metadata": {},
   "outputs": [
    {
     "data": {
      "text/plain": [
       "''"
      ]
     },
     "execution_count": 9,
     "metadata": {},
     "output_type": "execute_result"
    }
   ],
   "source": [
    "name[:0]"
   ]
  },
  {
   "cell_type": "code",
   "execution_count": 10,
   "metadata": {},
   "outputs": [
    {
     "data": {
      "text/plain": [
       "'Jam'"
      ]
     },
     "execution_count": 10,
     "metadata": {},
     "output_type": "execute_result"
    }
   ],
   "source": [
    "name[:3]"
   ]
  },
  {
   "cell_type": "code",
   "execution_count": 11,
   "metadata": {},
   "outputs": [
    {
     "data": {
      "text/plain": [
       "'mes'"
      ]
     },
     "execution_count": 11,
     "metadata": {},
     "output_type": "execute_result"
    }
   ],
   "source": [
    "name[2:]"
   ]
  },
  {
   "cell_type": "code",
   "execution_count": 12,
   "metadata": {},
   "outputs": [
    {
     "data": {
      "text/plain": [
       "'James'"
      ]
     },
     "execution_count": 12,
     "metadata": {},
     "output_type": "execute_result"
    }
   ],
   "source": [
    "name[0:]"
   ]
  },
  {
   "cell_type": "code",
   "execution_count": 14,
   "metadata": {},
   "outputs": [
    {
     "data": {
      "text/plain": [
       "'ame'"
      ]
     },
     "execution_count": 14,
     "metadata": {},
     "output_type": "execute_result"
    }
   ],
   "source": [
    "name[1:4]"
   ]
  },
  {
   "cell_type": "code",
   "execution_count": 15,
   "metadata": {},
   "outputs": [
    {
     "data": {
      "text/plain": [
       "'Jame'"
      ]
     },
     "execution_count": 15,
     "metadata": {},
     "output_type": "execute_result"
    }
   ],
   "source": [
    "name[0:4:1]"
   ]
  },
  {
   "cell_type": "code",
   "execution_count": 16,
   "metadata": {},
   "outputs": [
    {
     "data": {
      "text/plain": [
       "'Jm'"
      ]
     },
     "execution_count": 16,
     "metadata": {},
     "output_type": "execute_result"
    }
   ],
   "source": [
    "name[0:4:2]"
   ]
  },
  {
   "cell_type": "code",
   "execution_count": 17,
   "metadata": {},
   "outputs": [
    {
     "data": {
      "text/plain": [
       "'Jms'"
      ]
     },
     "execution_count": 17,
     "metadata": {},
     "output_type": "execute_result"
    }
   ],
   "source": [
    "name[0:5:2]"
   ]
  },
  {
   "cell_type": "code",
   "execution_count": 18,
   "metadata": {},
   "outputs": [
    {
     "data": {
      "text/plain": [
       "'Je'"
      ]
     },
     "execution_count": 18,
     "metadata": {},
     "output_type": "execute_result"
    }
   ],
   "source": [
    "name[0:6:3]"
   ]
  },
  {
   "cell_type": "markdown",
   "metadata": {},
   "source": [
    "# 補充練習"
   ]
  },
  {
   "cell_type": "code",
   "execution_count": 19,
   "metadata": {},
   "outputs": [],
   "source": [
    "x= 'abcdefgjames'"
   ]
  },
  {
   "cell_type": "code",
   "execution_count": 20,
   "metadata": {},
   "outputs": [
    {
     "data": {
      "text/plain": [
       "'acegae'"
      ]
     },
     "execution_count": 20,
     "metadata": {},
     "output_type": "execute_result"
    }
   ],
   "source": [
    "x[:12:2]"
   ]
  },
  {
   "cell_type": "code",
   "execution_count": 23,
   "metadata": {},
   "outputs": [
    {
     "data": {
      "text/plain": [
       "'acegae'"
      ]
     },
     "execution_count": 23,
     "metadata": {},
     "output_type": "execute_result"
    }
   ],
   "source": [
    "x[0::2]"
   ]
  },
  {
   "cell_type": "code",
   "execution_count": 24,
   "metadata": {},
   "outputs": [
    {
     "data": {
      "text/plain": [
       "'acegae'"
      ]
     },
     "execution_count": 24,
     "metadata": {},
     "output_type": "execute_result"
    }
   ],
   "source": [
    "x[::2]"
   ]
  },
  {
   "cell_type": "code",
   "execution_count": 25,
   "metadata": {},
   "outputs": [
    {
     "data": {
      "text/plain": [
       "12"
      ]
     },
     "execution_count": 25,
     "metadata": {},
     "output_type": "execute_result"
    }
   ],
   "source": [
    "len(x)"
   ]
  },
  {
   "cell_type": "code",
   "execution_count": 26,
   "metadata": {},
   "outputs": [],
   "source": [
    "y = 'google, samsung, windows, apple'"
   ]
  },
  {
   "cell_type": "code",
   "execution_count": 27,
   "metadata": {},
   "outputs": [
    {
     "data": {
      "text/plain": [
       "['google', ' samsung', ' windows', ' apple']"
      ]
     },
     "execution_count": 27,
     "metadata": {},
     "output_type": "execute_result"
    }
   ],
   "source": [
    "y.split(',')"
   ]
  },
  {
   "cell_type": "code",
   "execution_count": 28,
   "metadata": {},
   "outputs": [],
   "source": [
    "y1 = y.split(',')"
   ]
  },
  {
   "cell_type": "code",
   "execution_count": 29,
   "metadata": {},
   "outputs": [
    {
     "data": {
      "text/plain": [
       "'g'"
      ]
     },
     "execution_count": 29,
     "metadata": {},
     "output_type": "execute_result"
    }
   ],
   "source": [
    "y[0]"
   ]
  },
  {
   "cell_type": "code",
   "execution_count": 30,
   "metadata": {},
   "outputs": [
    {
     "data": {
      "text/plain": [
       "'google'"
      ]
     },
     "execution_count": 30,
     "metadata": {},
     "output_type": "execute_result"
    }
   ],
   "source": [
    "y1[0]"
   ]
  },
  {
   "cell_type": "code",
   "execution_count": 31,
   "metadata": {},
   "outputs": [
    {
     "data": {
      "text/plain": [
       "' samsung'"
      ]
     },
     "execution_count": 31,
     "metadata": {},
     "output_type": "execute_result"
    }
   ],
   "source": [
    "y1[1]"
   ]
  },
  {
   "cell_type": "code",
   "execution_count": 32,
   "metadata": {},
   "outputs": [],
   "source": [
    "s = '*'"
   ]
  },
  {
   "cell_type": "code",
   "execution_count": 33,
   "metadata": {},
   "outputs": [],
   "source": [
    "joined = s.join(y)"
   ]
  },
  {
   "cell_type": "code",
   "execution_count": 34,
   "metadata": {},
   "outputs": [
    {
     "data": {
      "text/plain": [
       "'g*o*o*g*l*e*,* *s*a*m*s*u*n*g*,* *w*i*n*d*o*w*s*,* *a*p*p*l*e'"
      ]
     },
     "execution_count": 34,
     "metadata": {},
     "output_type": "execute_result"
    }
   ],
   "source": [
    "joined"
   ]
  },
  {
   "cell_type": "code",
   "execution_count": 35,
   "metadata": {},
   "outputs": [
    {
     "data": {
      "text/plain": [
       "'google, samsung, windows, apple'"
      ]
     },
     "execution_count": 35,
     "metadata": {},
     "output_type": "execute_result"
    }
   ],
   "source": [
    "y"
   ]
  },
  {
   "cell_type": "code",
   "execution_count": 36,
   "metadata": {},
   "outputs": [],
   "source": [
    "setup = 'a duck goes into a bar...'"
   ]
  },
  {
   "cell_type": "code",
   "execution_count": 37,
   "metadata": {},
   "outputs": [
    {
     "data": {
      "text/plain": [
       "'a duck goes into a bar'"
      ]
     },
     "execution_count": 37,
     "metadata": {},
     "output_type": "execute_result"
    }
   ],
   "source": [
    "setup.strip('.')"
   ]
  },
  {
   "cell_type": "code",
   "execution_count": 38,
   "metadata": {},
   "outputs": [
    {
     "data": {
      "text/plain": [
       "'A duck goes into a bar...'"
      ]
     },
     "execution_count": 38,
     "metadata": {},
     "output_type": "execute_result"
    }
   ],
   "source": [
    "setup.capitalize()"
   ]
  },
  {
   "cell_type": "code",
   "execution_count": 39,
   "metadata": {},
   "outputs": [
    {
     "data": {
      "text/plain": [
       "'A Duck Goes Into A Bar...'"
      ]
     },
     "execution_count": 39,
     "metadata": {},
     "output_type": "execute_result"
    }
   ],
   "source": [
    "setup.title()"
   ]
  },
  {
   "cell_type": "markdown",
   "metadata": {},
   "source": [
    "# 練習3"
   ]
  },
  {
   "cell_type": "code",
   "execution_count": 19,
   "metadata": {},
   "outputs": [],
   "source": [
    "import requests"
   ]
  },
  {
   "cell_type": "code",
   "execution_count": 20,
   "metadata": {},
   "outputs": [],
   "source": [
    "response = requests.get(\"http://www.novelscape.net/wxxs/j/jingyong/ffwz/001.htm\")"
   ]
  },
  {
   "cell_type": "code",
   "execution_count": 30,
   "metadata": {},
   "outputs": [],
   "source": [
    "response.endcoding = \"Unicode\""
   ]
  },
  {
   "cell_type": "code",
   "execution_count": 31,
   "metadata": {},
   "outputs": [],
   "source": [
    "book1 = response.text"
   ]
  },
  {
   "cell_type": "code",
   "execution_count": 32,
   "metadata": {},
   "outputs": [
    {
     "name": "stdout",
     "output_type": "stream",
     "text": [
      "<HTML><HEAD><meta http-equiv=\"Content-Type\" content=\"text/html; charset=big5\"><TITLE>ª÷±e-->­¸ª°¥~¶Ç-->²Ä¤@³¹¡@¤j«B°Ó®a³ù</TITLE>\r\n",
      "<META NAME=\"keywords\" CONTENT=\"ª÷±e ­¸ª°¥~¶Ç ²Ä¤@³¹¡@¤j«B°Ó®a³ù\">\r\n",
      "<META NAME=\"description\" CONTENT=\"ª÷±e - ­¸ª°¥~¶Ç - ²Ä¤@³¹¡@¤j«B°Ó®a³ù\">\r\n",
      "\r\n",
      "<style>\r\n",
      "<!--\r\n",
      "#page {position:absolute; z-index:0; left:0px; top:0px}\r\n",
      ".tt3 {font: 9pt/12pt \"§ºÊ^\"}\r\n",
      ".tt2 {font: 12pt/15pt \"§ºÊ^\"}\r\n",
      "a {text-decoration:none}\r\n",
      "a:hover {color: blue;text-decoration:underline}\r\n",
      "-->\r\n",
      "</style>\r\n",
      "</HEAD>\r\n",
      "<body text=\"#000000\" link=\"#0000EE\" vlink=\"#0000EE\" alink=\"#FF0000\" bgcolor=\"#F1F1F3\" leftmargin=\"3\" topmargin=\"3\" marginheight=\"3\" marginwidth=\"3\">\r\n",
      "<center><table WIDTH=\"720\" >\r\n",
      "<tr ALIGN=CENTER>\r\n",
      "<td WIDTH=\"100%\">\r\n",
      "<center><table BORDER=0 CELLSPACING=0 CELLPADDING=0 >\r\n",
      "<tr>\r\n",
      "<td><script src=\"../../../../ad/text01.js\"></script>\r\n",
      "</td>\r\n",
      "</tr>\r\n",
      "</table></center>\r\n",
      "</td>\r\n",
      "</tr>\r\n",
      "</table></center>\r\n",
      "<TABLE WIDTH=\"100%\" CELLPADDING=10 CELLSPACING=0 BORDER=0>\r\n",
      "<TR>\r\n",
      "<TD CLASS=\"tt3\" VALIGN=\"top\" width=\"8%\"  bgcolor=\"#F1F1F3\"><strong><A HREF=\"002.htm\" >¦Z¤@­¶</A><BR>\r\n",
      "<A HREF=\"index.html\" >«e¤@­¶</A><BR><A HREF=\"index.html\" >¦^¥Ø¿ý</A><BR>\r\n",
      "</strong>\r\n",
      "</TD>\r\n",
      "<TD class=\"tt2\" bgcolor=\"#F1F1F3\" width=\"84%\"><center><B><FONT style=\"FONT-SIZE: 12pt\" COLOR=\"#FF5555\">²Ä¤@³¹¡@¤j«B°Ó®a³ù</B></center></FONT>\r\n",
      "<hr color=\"#EE9B73\" size=\"1\" width=\"94%\">\r\n",
      "<BR>\r\n",
      "¡@¡@¡§­J¤@¤M¡A¦±¦À¡A¤Ñ¼Ï¡I¡¨\r\n",
      "<BR>\r\n",
      "¡@¡@¡§­]¤H»ñ¡A¦a­Ü¡A¦X¨¦¡I¡¨\r\n",
      "<BR>\r\n",
      "¡@¡@¤@­Ó¼R°×ªº¶Ú¤l§C¨I¦a¥sµÛ¡C¥sÁn¤¤¥Rº¡µÛ«è¬r©M¼««ã¡A»yÁn±q¤ú¾¦Á_¤¤°n¥X¨Ó¡A¦ü¬O¤d¦~ÉE¦~¡B¥ÃùÚªº©G¶A¡A¨C¤@­Ó¦r­µ¤WÒ\\µÛ¦å©M¤³«ë¡C\r\n",
      "<BR>\r\n",
      "¡@¡@¬ð¬ð¬ð¬ð¥|ÁnÅT¡A¥|¹Dª÷¥ú°{°Ê¡A¥|ªKª÷Ãð³s¯]µo¥X¡A®g¦V¨â¶ô¤ìµP¡C\r\n",
      "<BR>\r\n",
      "¡@¡@¨C¶ô¤ìµPªº¥¿­±¤Ï­±³£Ã¸µÛ¤@­Ó¥þ¨­¤H§Î¡A¤@¶ô¤WÃ¸ªº¬O­Ó¿@¾w²Ê»¨ªº¤jº~¡A®Çª`¡§­J¤@¤M¡¨¤T¦r¡F¥t¤@¶ô¤WÃ¸ªº¬O­Ó½Gªøº~¤l¡A®Çª`¡§­]¤H»ñ¡¨¤T¦r¡A¤H§Î¤W®Ñ©ú¤HÊ^©P¨­¥Þ¹D¡C¤ìµP¤U­±±µ¦³¤@¬`¡A¨â­Ó¨­¤âÁB±¶ªº§§º~¦U«ù¤@µP¡A¦b½mªZÆU¤¤º¡ÆU´å¨«¡C\r\n",
      "<BR>\r\n",
      "¡@¡@¤jÆUªF¥_¨¤¤@±i´È¤l¤¤§¤µÛ¤@­Ó¤­¤Q¨Ó·³ªº¥Õµo±C±C¡A¤f¤¤³ÛµÛ­J¤@¤M©Î­]¤H»ñ¥Þ¹Dªº¦WºÙ¡C¤@­Ó¤G¤Q¨Ó·³ªº­^«T¤Ö¦~«l¸Ëµ²§ô¡AÃðÅn¤¤±aµÛ¤Q¤LªKª÷Ãð¡A§v±o¨º±C±C³Û¥X¥Þ¹D¦WºÙ¡A¥k¤â¤@´­¡A´N¬O¤@¹Dª÷¥ú®g¥X¡A°v¦V¤ìµP¡C¨â­Ó«ùµP§§º~ÀYÀ¹¿ûµ·¸n¤l¡A¤W¨­¬ï¤F«p´ÖÃÍ¦A¸n¤û¥Ö­I¤ß¡A°ß®£¤Ö¦~¥¢¤F­ãÀY¡Aª÷Ãð©Û©I¨ì¥L­Ì¨­¤W¡C¨â¤HÂ«°ª¥ñ§C¡A·nÂ\\¤ìµP¡A­nÅý¥L¤£©ö¥´¤¤¡C\r\n",
      "<BR>\r\n",
      "¡@¡@¤jÆU¥~ªºµ¡¤f¡A¥ñµÛ¤@­Ó¤Ö¤k¡B¤@­Ó«C¦~º~¤l¡C¨â¤H¦bµ¡¯È¤W«õ¯}¤F¨â­Ó¤p¤Õ¡A¦U¥Î¥k²´´êµÛ¦V¨½°½¿s¡C¨â¤H¨£¨º¤Ö¦~¨­¤â¤£¤Z¡AµoÃð¬Æ­ã¡A¤£¥Ñ±o¤¬¬Û¹ï±æ¤F¤@²´¡AÁy¤W³£ÅS¥X³YÉÝªº¯«¦â¡C\r\n",
      "<BR>\r\n",
      "¡@¡@¤ÑªÅ¶Â¨I¨Iªº°ïº¡¤F¯Q¤ª¡C¤j«B¶É¬Ö¦Ó¤U¡A§¨µÛ¤@°}°}ªº¹q°{¹pÅF¡A¶Õ¹DÀ~¤H¡C¶À¨§¤jªº«BÂI¥´¦b¦a¤U¡Aª½Âq¨ìµ¡¥~¨â­Ó¤Ö¦~¨k¤kªº¨­¤W¡C\r\n",
      "<BR>\r\n",
      "¡@¡@¥L­Ì³£¨­©Üªo¥¬«B¦ç¡A¹ïÆU¤Wªº¨Æ«Ü·P¦n©_¡A¤S¦A´ê²´¨ìµ¡¬}¤W¥h¬Ý®É¡A¥u§v±o¨º±C±C»¡¹D¡G¡§­ãÀYÁÙ¥i±N´N¡A´N¬O¨S«l¤I¡A¤µ¤é´N½m¨ì³o¨½¡C¡¨»¡µÛºCºC¯¸°_¨­¨Ó¡C\r\n",
      "<BR>\r\n",
      "¡@¡@¤Ö¤k©Ô¤F¨ºº~¤l¤@§â¡A«æ¦£Âà¨­¡A¦V¥~°|¨«¥h¡C¨ºº~¤l§CÁn¹D¡G¡§³o¬O¤°¤\\ª±·N¨£¡H¡¨¨º¤Ö¤k¹D¡G¡§¤°¤\\ª±·N¤I¡H¦ÛµM¬O½mÃð¤F¡C³o¤Hªº­ãÀYºâ¬O«Ü¤£¿ùªº¤F¡C¡¨¨ºº~¤l¹D¡G¡§Ãø¹D½mÃð§Ú¤]¤£À´¡H¥i¬O¤ìµP¤W¤z¶Ü¼g¤F¤°¤\\­J¤@¤M¡B­]¤H»ñ¡H¡¨¨º¤Ö¤k¹D¡G¡§³o´N¦³ÂI¨¸ªù¡C§A¤£À´¡A§Ú«ç¤\\´NÀ´¤F¡H«¥­Ì°Ý¯R¯R¥h¡C¡¨\r\n",
      "<BR>\r\n",
      "¡@¡@³o¤Ö¤k¤Q¤K¤E·³¦~¬ö¡A¤@±i¶ê¶êªºÃZ³JÁy¡A²´¯]¤l¶Âº£º£ªº¡A¨âÀU·w¬õ¡A©P¨­³zµÛ¤@ªÑ«C¬K¬¡¼âªºÉa®§¡C¨ºº~¤l¿@¬Ü¤j²´¡A¤ñ¨º¤Ö¤k¤jµÛ¤»¤C·³¡A¯«±¡²Ê»¨¡AÁy¤W¥Íº¡µµ¦â¤p½H¡A¬Û»ªÁöµM¦³ÂI¤¡­®¡A¦ý¨B¼i»´°·¡Aºë¯«¹¡º¡¡A«o¤]­^Éa«k«k¡C\r\n",
      "<BR>\r\n",
      "¡@¡@¨â¤H¬ï¹L°|¤l¡A«B¶V¤U¶V¤j¡A¼â±o¨â¤HÁy¤W³£¬O¤ô¯]¡C¤Ö¤k¨ú¥X¤â©¬©Ù¥hÁy¤W¤ôºw¡A¬õ¬õ¥Õ¥ÕªºÁy¸g¤ô¤@¬~¡A§ó¬OÅã±o¼b¹à¡C¨ºº~¤l§b§b¦a±æµÛ¦o¡A¤£¥Ñ±o§b¤F¡C¤Ö¤k°¼¹LÀY¨Ó¡A¬G·N¬n¤F«B²Á¡AÅý¦Ë²Á¤Wªº«B¤ô³£¬y¤J¤F¥L¦ç»â¡C¨ºº~¤l¬Ý±o¥X¤F¯«¡A³º¦Û¤£Ä±¡C¨º¤Ö¤k¼PÐô¤@¯º¡A»´»´¥s¤FÁn¡G¡§¶Ì¥Ê¡I¡¨¨«¶iªáÆU¡C\r\n",
      "<BR>\r\n",
      "¡@¡@ÆU¤¤ªF­º¥Í¤F¦n¤j¤@°ï¤õ¡A¤G¤Q¦h­Ó¤H¹Î¹Î³òµÛ¡A¦b¤õ®Ç¯M¯Nµ¹«B²OÀã¤Fªº¦çª«¡C³o¸s¤H¨­¬ï¥È¦â©ÎÂÅ¦âµu¦ç¡A¦³ªº¨­¤W±aµÛ§L¤b¡A¬O¤@¸sÃð«È¡B½ë¤l¤â©M¸}¤Ò¡CÆU¤W¯¸µÛ¤T­ÓªZ©x¥´§êªºº~¤l¡C³o¤T¤H­è¶i¨ÓÁ×«B¡A¥¿¦b¸Ñ¥hÀã¦ç¡A¤æµM¨£¨ì³o©úÆA·Ó¤Hªº¤Ö¤k¡A¤£¥Ñ±o²´·ú³£¬O¤@«G¡C\r\n",
      "<BR>\r\n",
      "¡@¡@¨º¤Ö¤k¨«¨ì¯N¤õªº¤H¸s¤¤¶¡¡A§â¤@­Óºë°®½G«dªº¦Ñ¤H©Ô¦b¤@®Ç¡A±NÓì¤~¦b¦ZÆU¨£¨ìªº¨Æ®¨Án»¡¤F¡C¨º¦Ñ¤H¬ù²ö¤­¤Q¨Ó·³¡Aºë¯«°·©ô¡AÀY¤W·L¨£ªá¥Õ¡A¨­°ª¤£¹L¤­¤Ø¡A¦ý¥Ø¥ú¬³¬³¡A»þµM¦³«Â¡C¥L§v¤F¨º¤Ö¤kªº¸Ü¡A¬ÜÀY¤@½K¡A§CÁn¨þ³d¹D¡G¡§¤S¥h·S¨Æ¥Í«D¡I­Y¬OÅý¤H®aª¾Ä±¤F¡A°Z¤£¬O¦Û°Q¨S½ì¡H¡¨¨º¤Ö¤k¦ù¦ù¦ÞÀY¡A¯º¹D¡G¡§¯R¡A³o½ë³­§A¦Ñ¤H®a¥X¨Ó¨«Ãð¡A³o¥i¬O²Ä¤Q¤K¦^®Á½|°Õ¡C¡¨¨º¦Ñ¤H¹D¡G¡§§Ú±Ð§A½m¥\\¤Ò®É¡A®Ç¤H¨Ó°½Á@¡A¨º«ç¤\\°Õ¡H¡¨\r\n",
      "<BR>\r\n",
      "¡@¡@¨º¤Ö¤k¥»¨Ó¼^¥Ö¯ºÁy¡A§v¤÷¿Ë»¡¤F³o¥y¸Ü¡A¤£¸T¤ßÀY¤@¨I¡C¦o·Q°_¥h¦~¦³¤H®¨®¨¦b³õ¥~°½Á@¦o¤÷¿ËºtªZ¡A¤÷¿Ë©ú©úª¾¹D¡A«o¤£»¡¯}¡A¦b¸Õµo³S½b¤§®É¡A¬ðµM¤@½b¡A±N¨º¤H¥´½M¤F¤@¥u²´·ú¡CÁ`ºâ¥L¤â¤U®e±¡¡A«l¹D¨S¨Ï¨¬¡A§_«h³S½b¬ï¸£¦Ó¹L¡A¨º¨½ÁÙ¦³©R¦b¡H¤÷¿Ë¦Z¨Ó»¡¡A°½®vÅÑÃÀ¡A¤D¬OªZªL¤¤ªº¤j§Ò¡A¤ñ°½ÅÑ°]ª«§ó¬°¤Hµh«ë¦Ê­¿¡C\r\n",
      "<BR>\r\n",
      "¡@¡@¨º¤Ö¤k¤@·Q¡A­Ë¦³¨Ç¦Z®¬¡AÓì¤~¤£¸Ó°½¬Ý®Ç¤H½mªZ¡A¦ý©h®QªºµÊÉa­n±j¦nÐ`¡A¼L¤W¤£ªÖªA¿é¡A»¡¹D¡G¡§¯R¡A¨º¤HªºÃðªk¤]¥­±`±oºò¡A«OºÞ¨S¤H°½¾Ç¤F¡C¡¨¦ÑªÌÁy¤@¨I¡A¥¸¹D¡G¡§§A³o¤XÀY¡A«ç¤\\¶}¤f´N»¡®Ç¤Hªºª±·N¤I¤£¦¨¡H¡¨¨º¤Ö¤k¤@¯º¡A¹D¡G¡§½Ö¥s§Ú¬O¦ÊÐ`¯«®±°¨¦ÑÃðÀYªº¤k¤I©O¡H¡¨\r\n",
      "<BR>\r\n",
      "¡@¡@¤T­ÓªZ©x¯N¤õ¡A¤£®É±×²´¿g¦V¨º¬ü»ª¤Ö¤k¡A¥u¬O¥L¤÷¤k­Ç¸ÜÁn«Ü§C¡A§v¤£¨ì»¡¨Ç¤°¤\\¡C¨º¤Ö¤k³Ì¦Z¤@¥y¸Ü»¡±o¤jÁn¤F¡A¤@­ÓªZ©x§v¨ì¡§¦ÊÐ`¯«®±°¨¦ÑÃðÀYªº¤k¤I¡¨¤L­Ó¦r¡AÁ@àÕ³oµu¤p½G«d¡B°©ÀY¨S¤L¨â­«ªº¤zÃ§¦ÑÀY¡A¤S¾îµÛ²´¤@±½´¡¦bÆU¤f¨ºªK¶À©³¶Âµ·½uÂ¸µÛ¤@¤Ç´¡¯Í­¸°¨ªºÃðºX¡A»ó¤¤­ó¤F¤@Án¡A¤ß·Q¡G¡§¦ÊÐ`¯«®±¡H§j±o¦n¤jªºÉa¤I¡I¡¨\r\n",
      "<BR>\r\n",
      "¡@¡@­ì¨Ó³o¦ÑªÌ©m°¨¡A¦W¦æªÅ¡A¦¿´ò¤W¥~¸¹¥s§@¡§¦ÊÐ`¯«®±¡¨¡C¨º¤Ö¤k¬O¥Lªº¿W¥Í·R¤k°¨¬Kªá¡C³o¦W¦r³zµÛ¦³¨Ç¤I«UÉa¡A¥i¬O¦¿´ò¤WªºªZ¤H¡A¤]¥u¯àµ¹©h®Q¨ú­Ó¤°¤\\¬K°Úªá°Úªº¦W¦r¡C¸ò¦o¤@°_°½¬Ý¤H®a½mÃðªºº~¤l©m®}¡A³æ¦W¤@­Ó¿þ¦r¡A¬O°¨¦æªÅªº®{§Ì¡C\r\n",
      "<BR>\r\n",
      "¡@¡@®}¿þÃÛ¦b¤õ°ï®Ç¯N¤õ¡A¨£¨ºªZ©x¤£¦í¥Î²´¿gµÛ®v©f¡A¤£¥Ñ±o¤ßÀY¦³Éa¡A¦V¥L«ã¥ØÀü¤F¤@²´¡C¨ºªZ©x­è¦n¦^¹LÀY¨Ó¡AÉO¥L¥Ø¥úµn®É´N¹ï¤W¤F¡A¤ß·Q§A³o¤p¤l¾î¬Ü«ã¥Ø¤z¤\\¡A¤]¬O´c¬½¬½¦aÀü¤F¥L¤@²´¡C®}¿þ¥»´N¬OÅRÆE¤õÃzªºµÊÉa¡A²´¨£¹ï¤èµLÂ§¡A·í¤Uªê°_¤FÁy¡A¥Ø¤£Âà·ú¦aÀüµÛ¨ºªZ©x¡C\r\n",
      "<BR>\r\n",
      "¡@¡@¨ºªZ©x¬ù²ö¤T¤Q¨Ó·³¡A¨­°ª»H¼e¡A¤@Áyºë®«¤§¦â¡C¥L«¢«¢¤@¯º¡A¦V¥ªÃäªº¦P¦ñ¹D¡G¡§§AÁ@³o¤p¤l¤æÂû¤I¦üªº¡A¬O§A°½¤F¥L±C®QÁÙ¬O«ç¦a¡H¡¨¨º¨â­ÓªZ©x¹ïµÛ®}¿þ«¢«¢¤j¯º¡C\r\n",
      "<BR>\r\n",
      "¡@¡@®}¿þ¤j«ã¡AÀN¦a¯¸°_¨Ó¡A³Ü¹D¡G¡§§A»¡¤°¤\\¡H¡¨¨ºªZ©x¯º§u§u¦a¹D¡G¡§§Ú»¡¡A¤p¤l­ü¡A§Ú»¡¿ù°Õ¡A§Ú¸ò§A½ß¤£¬O¡C¡¨®}¿þ©Ê¤lª½¡A§v¨ì¤H®a½ß¤£¬O¡A¤]´Nºâ¤F¡A¥¿­n§¤¤U¡A¨º¤H¯º¹D¡G¡§§Úª¾¹D¤H®a¤£¬O°½¤F§A±C®Q¡A­ã¬O°½¤F§A©f¤l¡C¡¨\r\n",
      "<BR>\r\n",
      "¡@¡@®}¿þ¤@ÅD¦Ó°_¡A«K­n¥·¤W¥h°Ê¤â¡A°¨¦æªÅ³Ü¹D¡G¡§¿þ¤I¡A§¤¤U¡C¡¨®}¿þ¤@´j¡AÁy¤ÕµÈ±o³q¬õ¡A¹D¡G¡§®v¤÷¡A§A¡K¡K§A¨S§v¨£¡H¡¨°¨¦æªÅ²H²H¦a¹D¡G¡§¤H®a©x¦Ñ·Ý­Ì¡A·R»¡¤L¥y¯º¸Ü¤I¡A¤S¤z§A¤°¤\\¨Æ¤F¡H¡¨®}¿þ¹ï®v¤÷ªº¸Ü¦V¨Ó¥b¥y¤£´±¹H©í¡A¬½¬½ÀüµÛ¨º­ÓªZ©x¡A«oºCºC§¤¤F¤U¨Ó¡C¨º¤T­ÓªZ©x¤S¬O¤@°}¤j¯º¡A§ó¬O¸vµL§Ò¼ª¦aÁ@µÛ°¨¬Kªá¡A¥Ø¥ú¤¤ºÉ¬O²]¨¸¤§·N¡C\r\n",
      "<BR>\r\n",
      "¡@¡@°¨¬Kªá¨£³o¤T¤HµLÂ§¡A­n«Ýµo§@¡A«oª¾¯R¯R¯À¨Ó¤£ªÖ±o¸o©x©²¡A´M«ä«ç¥Í·Q­Óªk¤I¡A¸ò³o¤T­Ó¯ä©x¤I¥´¤@³õ¬[¡C¬ðµM¹p¥ú¤@°{¡A·Ó±oº¡ÆU¥ú«G¡A±µµÛ¤@­ÓµJ¹p¡A¾_±o¦U¤H¦Õ¦·¶ä¶äµoÅT¡A³oÅRÆE«K¹³¬O¥´¦b³oÆU¤W¤@¯ë¡C¤Ñ¤W´N¦ü¶}¤F¯Ê¤f¡A«B¤ô¤j¤ù¤j¤ù¦a¼â±N¤U¨Ó¡C\r\n",
      "<BR>\r\n",
      "¡@¡@«BÁn¤¤¥u§v±oªù¤f¤@¤H»¡¹D¡G¡§³o«B¹ê¦b¤j±o«Ü¤F¡A¥u±o­É¥ú¦bÄ_ÉÜÁ×¤@Á×¡C¡¨ÉÜ¤W¤@¦W¨k¤²»¡¹D¡G¡§ÆU¤W¦³¤õ¡A¤j·Ý½Ð¶i§a¡C¡¨\r\n",
      "<BR>\r\n",
      "¡@¡@ÆUªù±À¶}¡A¶i¨Ó¤F¤@¨k¤@¤k¡A¨kªºªø¨­¥É¥ß¡AÉa¦t°a©ù¡A­I¤W­tµÛ¤@­Ó¥]»q¡A¤T¤Q¤C¤K·³¦~¬ö¡C¤kªº¬ù²ö¤G¤Q¤G¤T·³¡A½§¥úÐ`³·¡A¬Ü¥Ø¦pµe¡A³º¬O¤@­Óµ´¦âÄR¤H¡C°¨¬Kªá¥»¨Óºâ±o¬O­Ó¬ü¤k¡A¦ý³oÄR¤H¤@¨ì¡A¥ß®É´N¤ñ¤F¤U¥h¡C¨â¤H¨S¬ï«B¦ç¡A¨º¤Ö°ü¨­¤W©ÜµÛ¨k¤lªº¥~¦ç¡A¤wµM¥þ¨­ºÉÀã¡C¨º¨k¤lÄâµÛ¤Ö°üªº¤â¡A¨â¤H¯«ºA¿Ë±K¡A¦ü¬O¤@¹ï·s±B¤Ò°ü¡C¨º¨k¤l§ä¤F¤@®¹³Á§ý¡A¦b¦a¤UçE¥­¤F¡A§ßµÛ¤Ö°ü§¤¤U¡AÅã±o¤Q¤Àªº·Å¬XÊ^¶K¡C³o¤G¤H¦ç¹¢³£«ÜµØ¶Q¡A¤Ö°üÀY¤W´¡µÛ¤@ªKÆ^¯]ªº¶Àª÷»ñÀY³¦¡A¬Ý¨º¬Ã¯]¤L¦³¤p«üÀY¤j¤p¡A¥ú·Æ´ý¶ê¡A¬Æ¬O¬Ã¶Q¡C°¨¦æªÅ¤ß¤¤·t·t¯Ç¨u¡G¡§³o¤@±a¹D¤W¬Æ¤£¤Ó¥­¡A±j®{¥X¨S¡A³o¤@¹ï¤Ò°ü«D´I§Y¶Q¬°¦ó¤£±a¤@¦W¨Í±q¡A¨â­Ó¤I©t©t³æ³æ¦aÓã¹D¡H¡¨ÄÇ¬O¥L¦b¦¿´ò¤W²V¤F¤@¥@¡A«o¤]²q¤£³z³o¤G¤Hªº¨Ó¸ô¡C\r\n",
      "<BR>\r\n",
      "¡@¡@°¨¬Kªá¨£¨º¤Ö°ü¯«±¡©e¹y¡AÂù¥Ø¬õ¸~¡A¦Û¬O³~¤¤¹J¤W¤j«B¡A¤Q¤À¨¯­W¡A³o¯ë¬ï¤FÀã¦ç¯N¤õ¡AÀãÉa¹G¨ìÊ^¤º¡A«D¥Í¤@³õ¤j¯f¤£¥i¡A·í¤U¥´¶}¦ç½c¡A¨ú¥X¤@®M¦Û¤vªº¦çªA¡A¨«ªñ¥h§CÁn»¡¹D¡G¡§®Q¤l¡A§Ú³o®M²Ê¥¬¦çªA¡A§A´«¤@´«¡A«Ý§A¯M¤z¦ç­m¡A¦A´«¦^§a¡C¡¨¨º¤Ö°ü¦n¥Í·P¿E¡A¦V¦o¤@¯º¡A¯¸°_¨­¨Ó¡A¥Ø¥ú¤¤¦ü¥G¦b¦V¤V¤Ò¸ß°Ý¡C¨º¨k¤lÂIÂIÀY¡A¤]¦V°¨¬Kªá¤@¯º¥ÜÁÂ¡C¨º¤Ö°ü©Ô¤F°¨¬Kªáªº¤â¡A¨â­Ó¤k¤l¨ì¦ZÆU¥h­É©Ð´«¦ç¡C\r\n",
      "<BR>\r\n",
      "¡@¡@¤T­ÓªZ©x¤¬¬Û¤@±æ¡AÁy¤W²{¥X¯SÉÝ¯«¦â¡A¤ß¤¤³£¦b·Q¹³¨º¤Ö°ü´«¦ç¤§®É¡A©wµM¬ü¤£¥i¨¥¡CÓì¤~©M®}¿þ¤æ¤fªº¨º­ÓªZ©x³Ì¬O¤jÁx¡A§CÁn¹D¡G¡§§ÚÁ@Á@¥h¡C¡¨¥t¤@­Ó¯º¹D¡G¡§¦Ñ¦ó¡A§O­J¾x¡C¡¨¨º©m¦óªºªZ©x¯w¯w²´·ú¡A¯¸°_¨­¨Ó¡A¸ó¥X¤L¨B¡A¤@Âà©À¡A±q¦a¤U¬B°_¸y¤M¡A¬E¦b¨­¤W¡C\r\n",
      "<BR>\r\n",
      "¡@¡@®}¿þ¨ü¤F¥Lªº²Û°d¡D¤ß¤¤¤@ª½Éa¼«¡A¨£¥L¨«¦V¦Z°|¡AÂàÀY¦V®v¤÷±æ¤F¤@²´¡A¥u¨£°¨¦æªÅ³¬µÛ²´·ú¦b¾i¯«¡A¤S¨£±­·¨¨â¦ìÃðÀY¡B¤­­Ó½ë¤l¤â©M¤Q¦h¦W¸}¤Ò¦u¦bÃð¨®¤§®Ç¡AÄY¦æ§Ù³Æ¡A¨M¤£­P¥X¤F¶Ã¤l¡A¤_¬O¸òÀH¦b¨ºªZ©x¨­¦Z¡C\r\n",
      "<BR>\r\n",
      "¡@¡@¨ºªZ©x§v¨ì­I¦Z¸}¨BÅT¡AÂà¹LÀY¨Ó¡A¨£¬O®}¿þ¡A«¨¼L¤@¯º¹D¡G¡§¤p¤l¡A§A¦n¡I¡¨®}¿þ¹D¡G¡§¯ä©x¤I¡A§A¦n¡C¡¨¨ºªZ©x¯º¹D¡G¡§·Q®Á´~¡A¬O¤£¬O¡H¡¨®}¿þ¹D¡G¡§¬O°Ú¡C§Ú®v¤÷¤£³\\¥´§A¡C«¥­Ì®¨®¨¦a¥´¤@¬[¡A¦n¤£¦n¡H¡¨¨ºªZ©x¦Û«îªZÃÀ¤F±o¡A¨S±N³o·«¤p¤lÁ@¦b²´¨½¡A¥u¬O¨£¥LÃð¦æ¤H¦h¡A¤v¤è¥u¦³¤T¤H¡A­Y¬O¸s¼Þ¡A©w­n¦YÁ«¡A³o·«¤p¤l­n®¨®¨¥´¬[¡A¨º¬O¦A¦n¤]¨S¦³¡A«K¯ºµÛÂIÀY¹D¡G¡§¦n°Ú¡A«¥­Ì¨«±o»·¨Ç¡C­Yµ¹§A®v¤÷§v¨£¤F¡A³o¬[´N¥´¤£¦¨¡C¡¨\r\n",
      "<BR>\r\n",
      "¡@¡@¨â¤H¬ï¹L¤Ñ¤«¡A­n´M­Ó¨S¤Hªº©Ò¦b°Ê¤â¡A©¿¨£¦^´Y¤WÂà¥X¤@­Ó¤H¨Ó¡C¨º¤H¨­¬ïº÷³T¡A¬Ü²M¥Ø¨q¡A¥¿¬OÓì¤~½mÃðªº¤Ö¦~¡C®}¿þ¤ß¤¤¤@°Ê¡G¡§­É¥LªºªZÆU¥´¬[³Ì¦n¤£¹L¡C¡¨¤_¬O¤W«e¤@©ê®±¡A»¡¹D¡G¡§¥Sªø½Ð¤F¡C¡¨¨º¤Ö¦~ÁÙ¤F¤@´¥¡A»¡¹D¡G¡§¹F©x¦³¦ó§h©J¡H¡¨®}¿þ«üµÛªZ©x¹D¡G¡§¦b¤U¸ò³o­ÓÁ`·Ý¦³ÂI¤p¹L¸`¡A·Q­É¥Sªøªº½mªZÆU¤@¥Î¡C¡¨¨º¤Ö¦~¦n¥Í©_©Ç¡A¤ß¹D¡G¡§§A«çª¾§Ú®a¦³½mªZÆU¡H¡¨¦ý¾ÇªZ¤§¤H¡A§v¨ì®Ç¤H­n¤ñªZ¥´¬[¡A¥i¤ñ¤°¤\\³£Åw³ß¡A·í§Yµª¹D¡G¡§¦nÌå¡A¦nÌå¡I¡¨·í¤U»â¤F¤G¤H¨«¶i½mªZÆU¡C\r\n",
      "<BR>\r\n",
      "¡@¡@³o®É¦Ñ±C±C©MÉÜ¤Bµ¥³£¤w´²¥h¡A½mªZÆU¤W§óµL®Ç¤H¡C¨ºªZ©x¨£¥|¾À­x¾¹¬[¤W¤Mºj¼C´u¤@À³­Ñ¥þ¡A¦¹¥~¨F¥]¡B½b¹v¡B¥ÛÂê¡B¥Û¹ª©ñ±oº¡¦a¡A¦è­º¦a¤UÁÙ¦wµÛ¤C¤Q¤G®Ú±öªá¼Î¡A·t·tÂIÀY¡A¤ß·Q¡G¡§­ì¨Ó³o¤@®a¤H·|ªZ¡A¥u©È¥\\¤ÒÁÙ¤£¿ù¡C¡¨¤_¬O¦V¨º¤Ö¦~¤@©ê®±¡A»¡¹D¡G¡§¦b¤U¨Ó¶QÉÜÁ×«B¡AÁÙ¨S½Ð±Ð¥D¤H°ª©m¤j¦W¡C¡¨¨º¤Ö¦~¦£§YÁÙÂ§¡A»¡¹D¡G¡§¤p¤H©m°Ó¡A¦WÄ_¾_¡C¨â¦ì°ª©m¤j¦W¡H¡¨®}¿þ·mµÛ¹D¡G¡§§Ú¥s®}¿þ¡A§Ú®v¤÷¬O­¸°¨Ãð§½Á`ÃðÀY¡A¦ÊÐ`¯«®±°¨¦æªÅ¡C¡¨»¡µÛ¦VªZ©xÀü¤F¤@²´¡A¤ß¹D¡G¡§§A§v¤F§Ú®v¤÷ªº¦WÀY¡A¥iª¾¹D¼F®`¤F¶Ü¡H¡¨\r\n",
      "<BR>\r\n",
      "¡@¡@°ÓÄ_¾_«ý¤â¹D¡G¡§¤[¥õ¡A¤[¥õ¡C½Ð±Ð³o¤@¦ì¡C¡¨¨ºªZ©x¹D¡G¡§¦b¤U¬O±s«e¨Í½Ã¦ó«ä»¨¡C¡¨°ÓÄ_¾_¹D¡G¡§­ì¨Ó¬O¤@¦ì¨Í½Ã¤j¤H¡C¤p¤H¯À»D¨Ê®v¦³¤j¤º¤Q¤K°ª¤â¡A·Q¨Ó¦ó¤j¤H³£¬Oª¾¥æ¡C¡¨¦ó«ä»¨¹D¡G¡§¨º¤j¥b¤]¬Û¼ôªº¡C¡¨¨ä¹ê¬Ó«Ò¨­Ãäªº¨Í½Ã¦@¤À¥|µ¥¡A¨Í½Ã¯Z»â¡A¤°ªø¡A¤@¡B¤G¡B¤Tµ¥¤ÎÂÅ²Þ¨Í½Ã¡A³£¥Ñ¥¿¶À¡BÆ^¶À¡B¥¿¥Õ¤º¤TºXªº©v«Ç¿Ë¶Q¤l§Ì¥R¥ô¡Cº~¨Í½ÃÄÝ¤_²Ä¥|µ¥¡A³o¦ó«ä»¨¦b¨Í½Ã³B¤¤¥u¬O³Ì¥½µ¥ªºÂÅ²Þº~¨Í½Ã¡A©Ò¿×¤j¤º¤Q¤K°ª¤â¡A¨º¬O¥LÃÑ±o¤H®a¡A¤H®a´N¤£ÃÑ±o¥L¤F¡C\r\n",
      "<BR>\r\n",
      "¡@¡@®}¿þ¤jÁn¹D¡G¡§°Ó¤½¤l¡A§A´Nµ¹°µ­Ó¤½ÃÒ¡C§Ú¸ò³o©m¦óªº¤½¤½¥­¥­¥´¤@¬[¡A¤£ºÞ¬O½Ö¿é½ÖÄ¹¡A³£¤£³\\¦V®Ç¤H»¡°_¡C¡¨¥L¬O¥Í©È®v¤÷ª¾¹D¤F³d½|¡C¦ó«ä»¨«¢«¢¯º¹D¡G¡§Ð`¤F§A³o·«¤p¤l¤£¨¬¬°ªZ¡AÁÙ­È±o¦V®Ç¤H§j¤jÉaªº¤\\¡H·«¤p¤l¡A¤W°Ú¡C¡¨¤@Ñ»ªø³T¡A©Ô°_©ê¨¤¡A¦b¸y±a¤¤¶ë¦n¡C®}¿þ²æ¤Uªø³T¡A±N¿ë¤l½L¦bÀY³»¡AÂ\\­Ó¡§¹ï®±¡¨¡AÂù¨¬¦}Ãl¡AÂù¤â´¤®±¬Û¹ï¡A­Ë¬O¯«©wÉa¶¢¡C\r\n",
      "<BR>\r\n",
      "¡@¡@¦ó«ä»¨¨£¥L³o«º¦¡¬O¡§¬d®±¡¨ªù¤H©M¤H°Ê¤âªº°_¤â¦¡¡A¤w©ñ¤U¤F¤@¤j¥b¤ß¡A¤ß¹D¡G¡§¤°¤\\¦ÊÐ`¯«®±¡I³o¬d®±¤T·³¤p«Ä¤I¤]·|¡A¦³¤°¤\\§Æ¨u¡H¡¨­ì¨Ó¡§¼æ¡B¬d¡Bªá¡B¬x¡¨¡A¦VºÙ¥_®±¥|¤j®a¡A«ü¼æ»L¡B¬d®±¡Bªá®±¡B¬xªù¥|¬£®±³N¦Ó¨¥¡A¦b¥_¤è¬y¶ÇÌå¼s¡A¥ô¦ó½m®±¤§¤H³£²¤ª¾¤@¤G¡Aºâ±o¬O®±³N¤¤ªº¤Jªù¥\\¤Ò¡C¦ó«ä»¨¨£¹ï¤â®±ªk¥­±`¡A¦V°ÓÄ_¾_¤@¯º¡A»¡¹D¡G¡§Äm¤¡¡I¡¨¤@©Û¡§¤W¨B³¥°¨¤ÀÃO¡¨¡A¦V®}¿þ¥´¤F¹L¥h¡A¥L¨Ïªº¬O¤ÓÌå®±¡C¨ä®É¤ÓÌåªùªºªZ¥\\Án¶Õ¬Æ²±¡A¤H¤H§¡ª¾¬OÌå¼F®`ªº¤º®a®±ªk¡C\r\n",
      "<BR>\r\n",
      "¡@¡@®}¿þ¤£´±«åºC¡A¥ª¸}¦V¦Z½ñ¥X¡A¤W¨­Âà¦¨§¤½L¦¡¡A¥k¤â«ö¡B¥ª¤â¼º¡A¤@©Û¡§¦Z¸q¨B¼º´x¡¨¥X¤âÌå¬O§Ö±¶¡C¦ó«ä»¨¨£¨Ó©Û«l¹D¤£®z¡A¦£¨Ï¤@©Û¡§Âà¨­©êªêÂk¤s¡¨¡AÁ×¶}¤F³o¤@¼º¡C®}¿þ¨Ï¤@©Û¡§¤}¨B¬[¥´¡¨¡A¥k®±©I¦a¤@ÁnÀ»¥X¡Aª½¥·¹ï¤è­±ªù¡C¦ó«ä»¨¤£¤ÎÁ×Åý¡A¨Ï¤@©Û¡§¦p«Ê¦ü³¬¡¨¡AÂù´x¤@¹ï¡C¤G¤H®±´x¬Û¥æ¡A¦ó«ä»¨¥u·P¤âµÃÁôÁô¥Í¯k¡A¤ß¹D¡G¡§³o¤p¤lÆZ¤O­Ë¤j¡C¡¨\r\n",
      "<BR>\r\n",
      "¡@¡@ÀK®É¤§¶¡¡A¤G¤H¦U®i®±ªk¡A©î¤F¤Q§E©Û¡C°ÓÄ_¾_¯¸µÛ®ÇÆ[¡A¨£®}¿þ¸}¨B¨IÃ­¡A¥X®±¦³¤O¡A¦ó«ä»¨«o¬O¨­§ÎÄÆ©¿¡AÅãµM»´¥\\»á¦³®Ú°ò¡C\r\n",
      "<BR>\r\n",
      "¡@¡@¤æ¨ì¶o³B¡A¦ó«ä»¨«¢«¢¤@¯º¡A¤@´xÀ»¤¤®}¿þªÓÀY¡C®}¿þ­¸¸}½ð¥h¡A¦ó«ä»¨°¼¨­°{Á×¡A¤@©Û¡§¥É¤k¬ï±ô¡¨¡A©çªº¤@Án¡A¤SÀ»¤¤®}¿þ¤âÁu¡C®}¿þ§ó¤£²z·|¡A±Á®±«æ§ð¡A¬ðµMª½¥X¤@Á|¡A¤@©Û¡§¤}¨B¼A¥´¡¨¡A¯yªº¤@ÅT¡A¥´¤¤¹ï¤è¯Ý¤f¡C³o¤@®±µÛ¤OÌå¨I¡A¦ó«ä»¨¸}¨BäWî¾¡A¦V¦Z°h¤F¤L¨B¡A²×¤_¤@¥æ§¤­Ë¡C¥u§v®ÇÃä¤@­Ó¤k¤lÁn­µ¼bÁn¥s¹D¡G¡§¦n¡I¡¨\r\n",
      "<BR>\r\n",
      "¡@¡@°ÓÄ_¾_¦^¹LÀY¥h¡A¥u¨£¨â­Ó¤k¤l¯¸¦bÆU¤f¡A¤@¬O¤Ö°ü¡A¥t¤@­Ó«o¬O­Ó»Ó¤k¡C¥L¥ý«e¾®¯«Æ[¤æ¡A¤£ª¾¨­¦Z¦³¤H¡C­ì¨Ó°¨¬Kªá©M¨º¤Ö°ü´«¤F¦çªA¸g¹L¦¹³B¡A§v¨ì©I¥w¤ñªZ¤§Án¡A¦bÆU¤f¤@±æ¡A³º¬O®v¥S©M¨ºªZ©x¥´¬[¡A³o®É¨£®v¥S±oÐ`¡A¤£¥Ñ±o¥XÁn³Üªö¡C\r\n",
      "<BR>\r\n",
      "¡@¡@¦ó«ä»¨µ¹³o¤@®±¥´±o¦n¤£¯kµh¡A¦b¤k¤l­±«e¥áÁy¥X¤¡¡A§ó¬O¦Ñ²Û¦¨«ã¡A·í§Y¤@ÅD¦Ó°_¡A­¼µÛ¸õÅD¤§¶Õ¡A¤w©â¸y¤M¦b¤â¡A¤W¨Bª½¼A¡C®}¿þ²@¤£¬ÈÄß¡A¤´¥H¡§¬d®±¡¨ªÅ¤â©M¥L¬Û¤æ¡A¥u¬O§Ò¼ª¹ï¤è§L¾¹¾W§Q¡A¤x¬O°{Á×¦h¡A¶i§ð¤Ö¤F¡C°¨¬Kªá¨£³oªZ©xÁy¤W¯«±¡¬½´c¡A¦}«D´M±`¥´¬[¡A¤w¬O«÷©R¤@¯ë¡A¤£¥Ñ±o¦³¨Ç¾á¤ß¡C¨º¤Ö°ü§è§è¦oªº¦ç³S¡A¹D¡G¡§«¥­Ì¨«§a¡I§Ú³Ì«ë¤H°Ê¤M¤l¥X®±ÀY¡C¡¨\r\n",
      "<BR>\r\n",
      "¡@¡@·í¦¹±¡¶Õ¡A°¨¬Kªá¨º¨½ªÖ¨«¡A¥u¹D¡G¡§¦A¬Ý¤@·|¤I¡C¡¨¨º¤Ö°ü¬ÜÀY¤@½K¡A³º¦Û¨«¤F¡C\r\n",
      "<BR>\r\n",
      "¡@¡@°ÓÄ_¾_¾®¯«¬ÝµÛ¨ºªZ©xªº¤M¶Õ¡A¤S¯d¤ß®}¿þ°{Á×©M¤W¨B·m§ð¤§ªk¡A¤â¤W·t¦©¤@ªKª÷Ãð¡A­Y¨ºªZ©x¥Î¤M¶Ë¤H¡A¥L´N­n¦ù¤â¬Û±Ï¡C¦ý¨£®}¿þÂù¥Øºòºò¨n¦í¤M¾W¡A¤M¾W¦VªF¡A¥L²´·ú¸ò¨ìªF¡A¤M¾W«d¦V¦è¡A²´·ú¤]¸ò¨ì¦è¡C²´¨£ªï­±¤@¤M¬å¨Ó¡A¥L¨­¤l²¤°{¡A­¸¸}¦V¼Ä¤H¤âµÃ¤W½ð¥h¡C¦ó«ä»¨¦^¤M«d¨¬¡A®}¿þªøÁu«æ¦ù¡A¯yªº¤@ÅT¡A¤@®±¥¿¤¤¥L»ó±ç¡C¦ó«ä»¨¤jµh¡A¤â¸}²¤½w¡A®}¿þ¥ª¤â´§¥X¡A§ì¦í¥L¥kµÃ¤@®³¤@§á¡A±N¸y¤M¹Ü¤F¤U¨Ó¡C\r\n",
      "<BR>\r\n",
      "¡@¡@¦ó«ä»¨©È¥L¶¶¶Õ´§¤M«d¨Ó¡A¦£¦V¦ZÅD¡AÁ|¤â©¹Áy¤W¤@©Ù¡Aº¡¤â¬O¦å¡C®}¿þ±N¸y¤M©¹¦a¤U¤@ºL¡A»¡¹D¡G¡§§AÁÙ´±½MµÛ²´·ú½|¤H¡H¡¨¦ó«ä»¨º¡Áy²ÛºF¡A¤£´±§@Án¡C\r\n",
      "<BR>\r\n",
      "¡@¡@°ÓÄ_¾_¦ù¤â¤@©Ô®}¿þ¦ZÃÌ¡A¨Ï­Ó²´¦â¡C®}¿þ©|¥¼·|·N¡A°ÓÄ_¾_¤w¤jÁn»¡¹D¡G¡§Âù¤è¤£¤ÀÐ`±Ñ¡C¦n°Õ¡A¤j®aªZ¥\\¤@¯ë°ª©ú¡A¤p§Ì¨ØªA±oºò¡K¡K¡¨®}¿þ«æ¹D¡G¡§«ç¡K¡K«ç¬O¤£¤ÀÐ`±Ñ¡H¡¨°ÓÄ_¾_¹D¡G¡§¨â¦ìªZ¥\\¦U¦³¿W¨ì¤§³B¡C®}¥Sªº¬d®±¯Â¼ô¡C¦ó¤j¤Hªº¤ÓÌå®±©M¤ÓÌå¤M§ó¬O¼F®`¤§Ìå¡C®}¥S¡A§A¤@®É¹®©¯¡A¨ä¹êÁ¿¯u¥\\¤Ò¡AÁÙ±oºâ¦ó¤j¤H¡C¡¨¤@­±»¡¡A¤@­±¨ú¥X¤â©¬¡AÀ°¦ó«ä»¨©Ù¥h»ó¦å¡C®}¿þÁÙ­n¦Aª§¡A°¨¬Kªá¹D¡G¡§®v­ô¡A§O²z¥L¡C«¥­Ì¥X¥h¡C¡¨\r\n",
      "<BR>\r\n",
      "¡@¡@®}¿þ¥´¤F¦ó«ä»¨¨â®±¡A¤@¤f´cÉa¤w¸g¥X¤F¡A¦ý°ÓÄ_¾_»¡¸Ü§t½k¡A©ú©ú³RÅ@¹ï¤è¡A­Ë¦ü¦Û¤v¿é¤F¡A¶V·Q¶V«ã¡A¬½¬½±æ¤F¥L¤@²´¡AÀHµÛ®v©f¥X¥h¡C¨«¨ì¤Ñ¤«¡A¤ÑªÅÅF¶©¶©¤@¤ù¹pÁn¹L¥h¡A¹pÁn¤¤§¨µÛ°ÓÄ_¾_¡B¦ó«ä»¨ªº¤j¯º¤§Án¡AÅãµM³o¤G¤H¦b­I¦Z¯º¥L¡C\r\n",
      "<BR>\r\n",
      "¡@¡@¥LÁö¥´¬[ÀòÐ`¡A¦ý¶V·Q¶V¬O¤£©Á¡AÉa¹ª¹ª¦a§¤¦b¤õ®Ç¡C¥u¨£®v¤÷Âù¥Ø¦ü¶}¦ü³¬¡AºÎ·N¬Æ¿@¡C¹L¤F¤@·|¡A¦ó«ä»¨¨«¤F¥X¨Ó¡A¤£ª¾¸ò¨º¨â­ÓªZ©x»¡¨Ç¤°¤\\µTÁ¶¨¥»y¡A¤T¤H¤@»ô«¢«¢¤j¯º¡A¤£®É±×¥Ø¿g¨º¬ü»ª¤Ö°ü¡C\r\n",
      "<BR>\r\n",
      "¡@¡@°¨¦æªÅºCºC¯¸°_¡A¦ù¤F­ÓÃi¸y¡A¨«¨ìÃð¨®®ÇÃäÀËµø¡A©¿µM¥s¹D¡G¡§¿þ¤I¡A¹L¨Ó¡A§AÁ@³o¤I«ç¤\\°Õ¡H¡¨°¨¦æªÅ°¼¹L¨­¤l¡A­±¦VÀð¾À¡A¦ù¤â¾ã²zÃð¨®¡A§CÁn¹D¡G¡§¤£ªø¶iªºªF¦è¡A§A¨º©Û¡¥¹Ô¨B¿å»L¡¦«ç¤\\¿å°¾¤F¡H§_«h­þ¥Î¸ò¥LÄñ¤æ³o¤\\¤[¡H¡¨®}¿þÀ~¤F¤@¸õ¡AÅ¸Án¹D¡G¡§§A¡K¡K§A¦Ñ¤H®a³£Á@¨£°Õ¡H¡¨°¨¦æªÅ¹D¡G¡§­ó¡A§A²ö·Q¦b®v¤÷­±«e·o°­¡C¥L¨Ï¨º©Û¡¥´£¨B°ª±´°¨¡¦®É¡A§A¤z¶Ü¤£¨Ï¡¥¤}¨BÂù±À´x¡¦¡Hªï­±ª½À»¡A¦­´NÐ`¤F¡C§A´N¬OÁx¤p©È¦º¡C¡¨®}¿þ¦^·QÓì¤~¬Û¤æ¤§®É¡Aªì®É¤£ª¾¼Ä¤Hµê¹ê¡AªGµM¦³¨Ç®`©È¡A¦³¤L©Û¨Ï±o¤Ó¹LÃ­­«¤F¨Ç¡C¬Ý¨Ó®v¤÷¸Ë§@¤£ª¾¡A¨ä¹ê¬O¸ú¦bµ¡¥~Æ[¬Ý¡C\r\n",
      "<BR>\r\n",
      "¡@¡@°¨¦æªÅ¤S¹D¡G¡§§Ö¶i¥hÁÂÁÂ¨º©m°Óªº§a¡C¤H®a¦~¬ö¤ñ§A»´¡A¥i¦³¦hºë©ú¯à¤z¡C¡¨®}¿þ¤j¬°¸ÒÉÝ¡A¹D¡G¡§®v¤÷¡AÁÂ¤°¤\\¡H³o©m°Óªº°¾¤ß¡A¤£¬O¦n¤H¡C¡¨°¨¦æªÅ§N¯º¹D¡G¡§¬O°Ú¡A¥L¬O°¾¤ß©O¡C¥i¬O¥L°¾¤ßºûÅ@§A®}¤j·Ý­þ¡C¡¨®}¿þº¡¤ß­JÒ\\¡A©Ã©Ã¦a±æµÛ®v¤÷¡C°¨¦æªÅ§CÁn¹D¡G¡§§A¥´ªº¬O¤°¤\\¤H¡H¥L¬O±s«e¨Í½Ã¡C«¥­Ì©O¡A¨º¬O¾Ì¤H®a½à¤f¶º¦Yªº¨«Ãðªº¡C©x¦Ñ·Ý·í¯u¸ò§A¬°°_Ãø¨Ó¡A«¥­ÌÁÙ¤£¬O¦Y¤£¤F°ÂµÛ¨«¤\\¡H¨º¤Ö¦~Å@¦í¤F¥L­±¤l¡A¥s§A³o·«¤p¤l¤Ö¤F¤@¼Î¦Z±w¡C¡¨\r\n",
      "<BR>\r\n",
      "¡@¡@®}¿þ«éµM¤j®©¡A³sºÙ¡G¡§¬O¡A¬O¡I¡¨©b¨ì¦Z°|½mªZÆU¤¤¡A¥u¨£°ÓÄ_¾_©ï¤â½ð»L¡A¥¿¦b½m¤@©Û¡§¬d®±¡¨¤¤ªº¡§¤}¨B¼A¥´¡¨¡A¥¿¬O®}¿þÓì¤~¥Î¥HÀ»¤¤¦ó«ä»¨¨º¤@¤â¡C¥L¨£®}¿þ¶i¨Ó¡AÁy¤W¤@¬õ¡A«æ¦£¦¬®±¡C\r\n",
      "<BR>\r\n",
      "¡@¡@®}¿þ©ê®±¹D¡G¡§°Ó¤½¤l¡A§Ú®v¤÷¥s§Ú¸ò§A¹DÁÂ¨Ó°Õ¡C§Ú°_ªì¤£©ú¥Õ§A¬O¦n·N¡A¤ß¨½ÁÙ©Ç§A©O¡C¡¨°ÓÄ_¾_¹D¡G¡§®}¤j­ô¡A§AªZ¥\\Ð`¹L¨º­Ó¨Í½Ã¦ó¤î¤Q­¿¡H¤p§Ì¨ØªA±oºò¡C¡¨®}¿þ§v¥LºÙÃÙ¦Û¤v¡A¬Æ¬O°ª¿³¡A·í§Y¸ò¥L½Í¤F°_¨Ó¡A°Ý¹D¡G¡§§A½mªº¬O¨º¤@ªù¥\\¤Ò¡H¡¨°ÓÄ_¾_¹D¡G¡§¤p§Ìªì¾Ç¡A¤°¤\\¤]¨S¾Ç·|¡A½Í¤£¤W¬O¨º¤@ªù¨º¤@¬£¡CÓì¤~¨£®}¤j­ô¥Î³o¤@©Û¥´¥L¡A¬O¤£¬O³o¼Ë¡H¡¨»¡µÛ¥k¨¬½ñ¥X¡A¥k®±¼A¥´¡A¥ª¤â¤ß¦V¤W¦«¦í¥kÁu¡C\r\n",
      "<BR>\r\n",
      "¡@¡@®}¿þ­è¤~¥H¦¹©Û¨úÐ`¡A¨£¥L¤ñ¦E¦Û¤vªº±o·N¤§§@¡A¦ÛµM¿³°ªªö¯P¡A»¡¹D¡G¡§³o¤@©Û¦³¨â¥y¤f³Z¡A¥s§@¡¥³°®üªïªù¤T¤£ÅU¡A¼A®±¬D¥´¤£®e¼e¡¦¡C¡¨³o¨â¥y¶¶¤f»¡¥X¡A©¿µM·Q°_¡A³o¬O®vªù©Ò¶Ç¤ßªk¡A«ç¯à­J¶Ã»¡ÉO¥~¤Hª¾¾å¡A¦£Âà¤f¹D¡G¡§§A¤ñ±o«Ü¹ï¡A´N¬O³o©Û¡C¡¨\r\n",
      "<BR>\r\n",
      "¡@¡@°ÓÄ_¾_¹D¡G¡§¤°¤\\¥s§@¡¥³°®üªïªù¤T¤£ÅU¡¦©O¡H¡¨®}¿þ¹D¡G¡§³o­Ó¡K¡K§Ú¥i¤]§Ñ¤F¡C¡¨¥L¤£µ½¼»ÁÀ¡A³o¤@¥y¸Ü¥X¤f¡AÁy¤]¬õ¤F¡C°ÓÄ_¾_ª¾¥L¤£ªÖ»¡¡A¤]´N¤£¦A¦h°Ý¡A¥u¬OµÛ·Nµ²¯Ç¡A±N¥L±·±o¥þ¨­»´ÄÆÄÆªº¦p¦b¤ªÃú¡C\r\n",
      "<BR>\r\n",
      "¡@¡@®}¿þ¹D¡G¡§°Ó¦Ñ§Ì¡A«¥­Ì¤]§O¾xµê¤å¡C§A¨Ï¤@®M®±¸}µ¹§ÚÁ@Á@¡A­Y¬O¦³¤°¤\\¤£¨ìªº¦a¤è¡A§Ú¸ò§A»¡»¡¡A¤]¤£ªP¤F¤µ¤éµ²¥æ¤@³õ¡C¡¨°ÓÄ_¾_¤j³ß¡A¹D¡G¡§¨º¦A¦n¤]¨S¦³¤F¡C¡¨·í¤U©Ô¶}¬[¤l¡A¦b³õ¤¤¥´°_®±¨Ó¡A¦ý¨£¥L¡§ÀY½ëÃ·¬E¤@±øÃ@¡A¤G½ë¤Q¦rÂ¶¤T¦y¡¨¡A¨Ïªº¬O¤Q¤G¸ô¼æ»L¡C\r\n",
      "<BR>\r\n",
      "¡@¡@³o¸ô®±¸}¨Ï±o­Ë¬O¯Â¼ô¡A¦ý¥X®±¤£¥¿¡A¸}¨B¯Bµê¡AÁöµM³T³S¥Í­·¡A«º¦¡µØÄR¡A­Y¬OÉO¤H°Ê¤â¡A«o¥bÂIºÞ¤£±o¨Æ¡C¥u§â®}¿þ¬Ý±o·t·t·nÀY¡Aµ¥¥L¥´§¹¡§¤Q¤G½ëµR¤û±æ¤ëÂà¦^ÁÙ¡¨¡A§Ô¤£¦í¼Û¤F¤fÉa¡A»¡¹D¡G¡§¥S§Ì¡A²ö©Ç§Úª½¨¥¡A±Ð§AªZÃÀªº®v¤÷¬O¯Ô»~¤F§A°Õ¡C¡¨¥¿­n©¹¤U¸ÑÄÀ¡A©¿¨£°¨¬Kªá¦bÆU¤f¤@±´ÀY¡A¥s¹D¡G¡§®v­ô¡A¯R¥s§A¡C¡¨\r\n",
      "<BR>\r\n",
      "¡@¡@®}¿þ¦£¦V°ÓÄ_¾_§iÃã¡A¦^¨ìÆU¤W¡C¥u¨£¤õ°ï®Ç¤S¦h¤F¨â­ÓÁ×«B¤§¤H¡C¤@­Ó¬O¨S¤F¥kÁuªº¿WÁu¤H¡A¤@±øÌåªøªº¤M¬Í±q¥k¬Ü°_±×¹L»ó¤l¡A¤@ª½©µ¦ù¨ì¥ªÃä¼L¨¤¡A¦b¤õ¥ú·ÓÄ£¤UÅã±o­±¥ØÌå¬O¥i©Æ¡F¥t¤@­Ó¬O­Ó¤Q¤T¥|·³ªº¨k«Ä¡A¶À¶À½G½G¡C¨â¤H¦ç­m³£«ÜÄ°Á¹¡C\r\n",
      "<BR>\r\n",
      "¡@¡@®}¿þ¦V¨â¤H±æ¤F¤@²´¡A¤]¤£¦b·N¡A¨«¨ì°¨¦æªÅ­±«e¡A¥s¤FÁn¡G¡§®v¤÷¡I¡¨°¨¦æªÅÁy¤@¨I¡A§CÁn¹D¡G¡§¥h¤F³o¤\\¤[¡A¤S¦b½æ§ËªZÃÀ¤F¡A¬O¤£¬O¡H¡¨®}¿þ¹D¡G¡§§Ì¤l¤£´±¡C³o¨½©m°Óªº¥D¤HÃðªk¤£¿ù¡A¨ºª¾®±¸}¤@ÂI¤I¤]¤£¦¨¡C¡¨°¨¦æªÅ¹D¡G¡§¶Ì¤p¤l¡A§Aµ¹¤H®a­Þ°Õ¡C¾Ì§A³oÂI¥\\¤Ò¡A¨â­Ó¤]¤£¬O¤H®aªº¹ï¤â¡C¡¨®}¿þ¤@¯º¡A¹D¡G¡§¨º©È¤£¨£±o¡C¥L®v¤÷±Ðªº¤Q¤G¸ô¼æ»L¡AºÉ¬O¦n¬Ý¤£ºÞ¥Î¡C¡¨°¨¦æªÅ¹D¡G¡§§Aª¾¥L®v¤÷¬O½Ö¡H¡¨\r\n",
      "<BR>\r\n",
      "¡@¡@®}¿þ¤ß¤¤·t©_¡G¡§§Ú®v¤÷¨S¸ò¨º©m°Óªº¨£¹L­±¡A¤S¨S¨£¥L½m¹L®±¸}¡A«ç¤\\³s¥L®v¤÷¬O½Ö¤]ª¾¹D¤F¡H¡¨·í¤Uµª¹D¡G¡§§Ì¤l¤£ª¾¡A·Q¨Ó¬O­Ó¤£¤¤¥Îªº²V²V¡C¡¨°¨¦æªÅ§N¯º¤@Án¡A§C¨IµÛÁn­µ¡A»¡¹D¡G¡§¤£¤¤¥Îªº²V²V¡I­ó¡A¤Q¤­¦~«e¡A§A®v¤÷µ¹¤H¬å¹L¤@¤M¡A¼A¹L¤@´x¡A¾i¤F¤T¦~¶Ë¤è±o±dÎ`¡C¨º¤H¬O½Ö¡H¡¨®}¿þ¤@Õa¡A»¡¹D¡G¡§¤K¨ö¤M°Ó¼C»ï¡C¡¨°¨¦æªÅ§CÁn¹D¡G¡§¥bÂI¤I¤]¤£¿ù¡C¨º°Ó¼C»ï¬O¤sªFªZ©w¿¤¤H¡A³o¨½¥i¥¿¬OªZ©w¿¤¡A¥D¤H®a©m°Ó¡C«¥­Ì­J¶Ã¶i¨ÓÁ×«B¡Aªì®É¦}¨S¯d¤ß¡A§AÁ@¡A¥¿±ç¤WÃ¸µÛ¤°¤\\¡H¡¨\r\n",
      "<BR>\r\n",
      "¡@¡@®}¿þ©ï°_ÀY¨Ó¡A¥u¨£¥¿±ç¤Wª÷º£º£µÛ¤@­Ó¤K¨ö¹Ï§Î¡A¤£¥Ñ±o¤j¦Y¤@Õa¡A¦£¹D¡G¡§®v¤÷¡A§Ö§Û®a¥ë¡A«¥­Ì¼²¨ì¤³®aºÛ¨½¨Ó°Õ¡C¡¨°¨¦æªÅ²H²H¦a¹D¡G¡§­Ë¤£¥Î¦£¡C°Ó¼C»ï¦­µ¹¤H±þ¤F¡I¡¨®}¿þ´¿§v®v¤÷»¡¹L·í¦~¤j±Ñ¦b¤@¤H¤â¨½¡A¨º´N¬O¤sªF¤j»¨¤K¨ö¤M°Ó¼C»ï¡A¥u¦]³o¬O®vªùªº©_®¢¤j°d¡A®v¤÷¦Z¨Ó¤£´£¡A¤]´N±q¦¹¤£´±¦h°Ý¤@¥y¡A«o¤£ª¾°Ó¼C»ï­ì¨Ó¤x¦º¡A§CÁn¹D¡G¡§¬O§A¦Ñ¤H®a¦Z¨Ó³ø¤F¤³¡H¡¨°¨¦æªÅ­ó¤F¤@Án¡A¹D¡G¡§°Ó¼C»ïªºªZ¥\\¡A§Ú¦A½m¤@½ú¤l¤]Óã¤£¤W¡A¾Ì§Ú³oÂIª±ÃÀ¤I¡A­þ±þ±o¤F¥L¡H¡¨®}¿þ¤j©_¡A°Ý¹D¡G¡§¨º¤\\¬O½Ö±þ¤F¥L¡H¡¨°¨¦æªÅ¹D¡G¡§¨º¤Ö¦~¥Îª÷Ãð¥´¤ìµP¤Wªº¤H§Î¡A°Ó¼C»ï´N¬Oµ¹³o¨â­Ó¤H±þªº¡C¡¨\r\n",
      "<BR>\r\n",
      "¡@¡@®}¿þ¸C¤j¤F²´·ú¡A¹D¡G¡§­J¤@¤M©M­]¤H»ñ¡H¡¨\r\n",
      "<BR>\r\n",
      "¡@¡@®}¿þ¥­¯À¹ï®v¤÷¨ØªA±o¤­Ê^§ë¦a¡A¥H¬°·í¥@¤§¶¡¡A»¡¨ìªZ¥\\¡AÌå¤Ö¦³¤H¯à±j±o¹L¦ÊÐ`¯«®±°¨¦ÑÃðÀY¤F¡A°Zª¾³o®É§v¨ì®v¤÷¨¥¹D¡A«D¦ý¤K¨ö¤M°Ó¼C»ïªZ¥\\»·Ð`¤_¥L¡A­J¤@¤MÉO­]¤H»ñªº¥\\¤Ò¤S¦b°Ó¼C»ï¤§¤W¡A¤£¥Ñ±o¤j¬°Õa¸Ò¡A§CÁn°Ý¹D¡G¡§¨º­J¤@¤MÉO­]¤H»ñ¬O¦óµ¥¼Ëªº¤Hª«¡H¡¨°¨¦æªÅ¹D¡G¡§­J¤@¤MªºªZ¥\\±j§Ú¤Q­¿¡A¥u¥i±¤¦b¤Q¦h¦~«e¦º¤F¡C¡¨®}¿þµÎ¤F¤@¤fÉa¡A¹D¡G¡§·Q¬O¯f¦ºªº¤F¡H¡¨°¨¦æªÅ¹D¡G¡§µ¹¤H±þ¦ºªº¡C¡¨®}¿þ¸C¤j¤F²´·ú¡A¹D¡G¡§­J¤@¤M³o¤\\¼F®`¡A¦³½Ö±þ±o¤F¥L¡H¡¨°¨¦æªÅ¹D¡G¡§¥´¹M¤Ñ¤UµL¼Ä¤âª÷­±¦ò­]¤H»ñ¡C¡¨³o¡§¥´¹M¤Ñ¤UµL¼Ä¤âª÷­±¦ò­]¤H»ñ¡¨¤Q¤T­Ó¦r¤@¤fÉa»¡±N¥X¨Ó¡AÁn­µÁö§C¡A«o¬O¤j¨ã«ÂÄY¡C®}¿þ¯Ý¤f¤@¨I¡A¥¿«Ý»¡¸Ü¡A²r§v±oªù¥~ÁôÁô°¨¿áÁnÅT¡A¤j«B¤¤¤Q§E¤Ç°¨«æ©b¦Ó¨Ó¡C\r\n",
      "<BR>\r\n",
      "¡@¡@¨º­±¥Ø­^«Tªº«C¦~ÉO¨º¬ü»ª¤Ö°ü§v¨ì°¨¿áÁn­µ¡A¤¬±æ¤@²´¡A¦ü¦b±j¦ÛÂí©w¡A¦ýÁy¤W²×¨sÅS¥X¤FÕa´q¤§¦â¡C¨º«C¦~©ÔµÛ¤Ö°üªº¤â¡A®¿°Ê§¤¦ì¡A¦ü¬O§B¤õ°ïª¥¼ö¡A²¾»·¤F¨Ç¡C\r\n",
      "<BR>\r\n",
      "¡@¡@¤Q¦h¤Ç°¨©b¨ìÉÜ«e¡A¦²µM¦Ó¤î¡C¦ý§v±o¼ÆÁn©I­ï¡A¤C¤K¤Ç°¨Â¶¨ì¤FÉÜ¦Z¡C\r\n",
      "<BR>\r\n",
      "¡@¡@°¨¦æªÅ¤@§v­ïÁn¡AÁy¤WÅÜ¦â¡A§CÁn¹D¡G¡§©wµÛÂI¤I¡C¡¨®}¿þÌå¬O¿³¾Ä¡AÁn­µµoÅ¸¡A°Ý¹D¡G¡§¨º¸Ü¤I¨Ó¤F¡H¡¨°¨¦æªÅ¤£¦A¦^µª¡A¤jÁn³Ü¹D¡G¡§¤j¥ë¤I§Û®a¥ë¡AÅ@Ãð¡I¡¨³o¥y¸Ü¤@³Ü¡AÃð¦æ²³¤Hµn®É¤j¶Ã¡Aª¾¹D¦³§TÃðªº¶Â¹D±j¤H¨ì¨Ó¡A·í§YÅD°_¡C±­·¨¨â¦WÃðÀY©M¤­¦W½ë¤l¤â«ü´§¨®¤Ò¡A±N¤Q§E½øÃð¨®³ò¦¨¤@°ï¡C°¨¬Kªá¤Ï¦ÓÁy¦³³ß¦â¡A©Þ¥X¬h¸­¤M¡A¹D¡G¡§¯R¡A¬O­þ¤@¸ôªº¡H¡¨°¨¦æªÅ½K¬Ü¹D¡G¡§ÁÙ¤£ª¾¹D¡C¡¨±µµÛ¦Û¨¥¦Û»y¡G¡§³o¤@¸ôªB¤Í¦n©Ç¡A¹D¤W¤]¤£½ò½L¤l¡A´N³o¤\\»¡¨ì«K¨ì¡C¡¨\r\n",
      "<BR>\r\n",
      "¡@¡@¤@¨¥¤è½}¡A¥u§v±o³òÀð¤W¦«¦«¦«±µ³sÁnÅT¡A¤K¦W¤jº~¤@¦â¶Â¦ç¥´§ê¡A¤â°õ§L¤b¡A¤@¦r±Æ¶}¦a¯¸¦bÀðÀY¡C°¨¬Kªá´­°_¥kÁu¡A´N·Q¤@ªK³S½b®g¥X¡C°¨¦æªÅÁy¦â¾®­«¡A§CÁn³Ü¹D¡G¡§§O­J¨Ó¡IÁ@§Ú²´¦â¦æ¨Æ¡C¡¨¤K¦W¶Â¦ç¤jº~±æµÛÆU¤W²³¤H¡A¤@¨¥¤£µo¡C\r\n",
      "<BR>\r\n",
      "¡@¡@¯yªº¤@Án¡A¤jªù±À¶}¡A¶i¨Ó¤@­Óº~¤l¡A¨­¬ïÄ_ÂÅ¦â½v³T¡A¦çªA¬Æ¬OµØÄR¡A¦ý­±»ª©eº¾¡AÁYÀYÁY¸£¡AÉO¤@¨­¦çªAÌå¤£¬ÛºÙ¡C³o¤H©ïÀY±æ¤F±æ¤Ñ¡A¦ý¨£¤j«B¶É¬Ö¦Ó¤U¡A¼K¦a¤@Án¯º¡A¨¬¦y¤@ÂI¡A°¿¦a¬ï¹L¤F°|¤l¡A¯¸¦bÆU¤f¡C³o¤@¤U­¸ÅD¨­§Î§ÖÌå¡A¤j«BÁö±K¡A«o¥u¦b¥LªÓÀY¥´Àã¤F¼ÆÂI¡C®}¿þÉO°¨¬Kªá¹ï¦¹¤H¥»¨Ó¤£¥H¬°·N¡A¬ðµM¨£¥LÅS¤F³o¤â»´¥\\¡A³o¤~¥Í§Ò¼ª¤§¤ß¡A¦V°¨¦æªÅ±æ¤F¤@²´¡C\r\n",
      "<BR>\r\n",
      "¡@¡@°¨¦æªÅ¥k¤â´¤µÛ·Ï³U¡A«ý¤â»¡¹D¡G¡§½Ð®¤¦Ñº~²´©å¡A¨S´¿«ô·|¡CªB¤Í´L©m¤j¦W¡AÄ_¹ë·²°¨¦ó³B¡H¡¨\r\n",
      "<BR>\r\n",
      "¡@¡@°Ó®a³ù¤Ö¥D¤H°ÓÄ_¾_§v¨ì°¨¿áÁnÅT¡A·í§Y·tÂÃª÷Ãð¡A¸yÄa§Q¤M¡A¨Ó¨ìÆU«e¡C¥u¨£¨ºµs»í¤âÀ¹ºÑ¥É§Ù«ü¡Aªø³T¤W°{Ä£µÛ¤L²É¶Àª÷¦©¤l¡A¥ª¤â®³µÛ¤@­Ó»B»A»ó·Ï³ý¡A¤£±a§L¾¹¡A¯«±¡¥´§ê¡A´N¦p¬O­Ó¼Éµo¤á´I°Ó¡C¥u§v¥L»¡¹D¡G¡§¦b¤U©mÀF¦W°ò¡A¦Ñ­^¶¯¦Û¬O¦ÊÐ`¯«®±°¨¦æªÅ¤F¡H¡¨\r\n",
      "<BR>\r\n",
      "¡@¡@°¨¦æªÅ©ê®±¹D¡G¡§¤£´±¡A³o¥~¸¹¬O¦¿´òªB¤Íµ¹¦b¤UÁy¤W¶Kª÷¡C®ö±oµê¦W¡A¤£¨¬¬E¾¦¡C¡¨¤ß¤¤·t¦¤¡G¡§ÀF°ò¡H¨º¬O¤°¤\\¤H¡H¨S§v¹L¦¿´ò¤W¦³³o¸¹¤Hª«¡C¡¨\r\n",
      "<BR>\r\n",
      "¡@¡@ÀF°ò«¢«¢¤@¯º¡A«üµÛ¯¸¦bÀðÀYªº¤@¦C¶Â¦çº~¤l¡A»¡¹D¡G¡§§Ì¥S­Ì¾j¤F¤L¤Ñ¨{¤l¡A·Q½Ð°¨¦Ñ­^¶¯½à¤f¶º¦Y¡C¡¨°¨¦æªÅ¹D¡G¡§ÀF¹ë¥D¨¥­«¤F¡C¿þ¤I¡A¨ú¤­¤Q¨â»È¤l¡A½ÐÀF¹ë¥D½à½ç§Ì¥S¡C¡¨¥L³o¬O«öµÛ¦¿´ò³W¯x¦æ¨Æ¡A¦ýÁ@¹ï¤èªº¯«±¡Án¶Õ¡F¨M«D¤­¤Q¨â»È¤l©Ò¯à¥´µo¡C\r\n",
      "<BR>\r\n",
      "¡@¡@ªGµMÀF°ò¥õ¤Ñ«¢«¢¤j¯º¡A»¡¹D¡G¡§°¨¦Ñ­^¶¯«OÃð¡A¤@«O´N¬O¤T¤QÉE¨â¡C©mÀFªº²´¬ÉÁö¤p¡A°Ï°Ï¤­¤Q¨â¡A­ËÁÙ¤£¦b²´¤º¡C¡¨°¨¦æªÅ¤ß¤¤¹¿©B¡G¡§¦¹¤H«H®§­ËÆF¡A«ç¤\\¥´§v±o²M²M·¡·¡¡Aª¾¹D§Ú«O¤F¤T¤QÉE¨âÃð»È¡H¡¨¬ÜÀY¤@½K¡A¤´«ö¦¿´ò³W¯x»¡¹D¡G¡§·Q°¨¬Y¦³¤°¤\\¥»¨Æ¡A¥þ¾Ì¹D¤WªB¤Íµ¹Áy½}¤F¡CÀF¹ë¥D¤µ¤éÁö¬Oªì¨£¡A«¥­ÌªFÃä¤£·|¦èÃä·|¡A°¨¬Y¦³©¯¡A¤µ¤é¤S¥æ¤@¦ìªB¤Í¡C¤£ª¾ÀF¹ë¥D¦³¤°¤\\§h©J¡H¡¨ÀF°ò¹D¡G¡§§h©J¬O¤£´±·íªº¡A¥u¬O¦b¤U¥Í¨Ó¨£°]²´¶}¡A¤T¤QÉEÃð»È¥´±q»ó¤l¤U¹L¡A¤£¨ú¦³¶Ë³±¼w¡C¦ý°¨¦ÑÃðÀY¬JµM¶}¤fªB¤Í¡A³¬¤fªB¤Í¡A³o¼Ë§a¡A¦b¤U¥u¨ú¤@¥b¡A¤G¤@²K§@¤­¡A´N­É¤Q¤­ÉE¨â»È¤lªá®tªá®t¦n¤F¡C¡¨¤]¤£«Ý°¨¦æªÅµª¸Ü¡A¥ª¤â¤@´§¡AÀðÀY¤K¦W¤jº~¤@¤@ÅD¤U¡A©b¨ìÆU¤f¡C¦³¤H°Ý¹D¡G¡§¤@»ô¨ú¤F¡H¡¨¾[°ò¹D¡G¡§¤£¡A®³¤@¥b¡A¯d¤@¥b¡I¦³«Ë¤j®a©Ô¡A¦³¶º¤j®a¦Y¡I¡¨²³¤jº~ÅFµMµªÀ³¡A´N©¹Ãð¨®¨«¥h\r\n",
      "<BR>\r\n",
      "¡@¡@°¨¦æªÅ«kµM¤j«ã¡A¨£¨º¨Ç¤jº~±qÀðÀYÅD¤U®É¨­¤â§bº¢¡A¦}µL¤@­Ó°ª¤â¦b¤º¡A¤wµL¾á¼~¤§¤ß¡A²H²H»¡¹D¡G¡§ÀF¹ë¥D¬O¤£ªÖ¯d¤@ÂI§E¦a¤F¡H¡¨ÀF°ò´jµM¹D¡G¡§«ç¤\\¤£¯d§E¦a¡H§Ú¤£¬O»¡¨ú¤@¥b¡A¯d¤@¥b¡H­ô¤I­Ç¦³°Ó¦³¶q¡A¤½¥­¥æ©ö\r\n",
      "<BR>\r\n",
      "¡@¡@®}¿þ¦A¤]§Ô­@¤£¦í¡A·m¤W¨â¨B¡A¦ù¤â«üµÛÀF°ò¡A¤jÁn»¡¹D¡G¡§Á«§A¦b¶Â¹D¤W¦æ¨«¡A¨S§v¹L­¸°¨Ãð§½ªº«Â¦W¤\\¡H¡¨ÀF°ò¹D¡G¡§§Úªº¤p¾i·@°ü¤I§v¨£¹L¡A¥L¶ýªº¡A¦Ñ¤l¥i¬O²Ä¤@¦¸§v¨£¡C¡¨¨­§Î¤@·E¡A©¿¦a´Û¨ìÆU¥k¡A©Þ¤U´¡¦b¨®¬[¤Wªº­¸°¨ÃðºX¡A±NºX§ý¤@§é¨â¬q¡AÂY¦b¦a¤U¡AÀH§Y¦ù¸}¦bºX¤W¤@½ñ\r\n",
      "<BR>\r\n",
      "¡@¡@³o¥ó¨Æ·í¯u¬O¥Ç¤F¦¿´ò¤j§Ò¡F§TÃðªº¨Æ±¡±`¦³¡A«oÌå¤Ö¦³¦p¦¹°µ¨ìµ´ªº¡A¦p«DÂù¤è¦³¸Ñ¤£¶}ªº¦º¤³¡A¨º¬O¨M¤ß¥H©Ê©R¬Û«÷¤F¡CÃð¦æ¤H²³¤@¨£¤§¤U¡Aµn®É¤j¼M\r\n",
      "<BR>\r\n",
      "¡@¡@®}¿þ§ó¤£¥´¸Ü¡A¨R¤W¥h¤@©Û¡§½ñ¨BÀ»´x¡¨¡A¥ª´x¦V¥L¯Ý¤f²rÀ»¹L¥h¡CÀF°ò°¼¨­°{Á×¡A»¡¹D¡G¡§¤p¤l¡AÁ¿¥´¤\\¡H¡¨¥ª´x¤@¨I¡A«æ§ì¥Lªº¤âµÃ¡C®}¿þÅÜ¡§¦Z´¡¨BÂ\\´x¡¨¡A¥ª¤â¦V¦Z¤Ä¬E¡A¥k´x¤@´§¡A¦V¤WÂ\\Á|¡A³wÀ»¼Ä¤H¤UÃE¡CÀF°òÀY¤@°¾¡A¥k®±ª½À»¤U¨Ó¡C³o¤@®±¨Ó¸ôÌå©Ç¡A®}¿þ«æ¦£Â\\ÀYÅý¶}¡A¯yªº¤@Án¡AªÓÀY¤w¤¤¤F¤@®±¡A¦ýÄ±®±¤O¨I­«¡A¥u¾_±o¯Ý­IÁôÁô§@µh¡C®}¿þ¸}¨B·n·E¡AÀI¨ÇºL­Ë¡A©¯¥L¨­±j¤O§§¡A¤U½L°¨¨B¤ã±oÌåÃ­¡A¦£ÅÜ¡§¤²»L¬ï´x¡¨¡A¨­¤l¤@¸G¡A¥k»L©}½¥ÃÛ¤U¡A¥ª´x¬ï¥X¡A¨º¬O¨ø¤O¤Ï§ð¡A¡§¬d®±¡¨ªº°ª©ú©Û¼Æ\r\n",
      "<BR>\r\n",
      "¡@¡@ÀF°ò¦}¤£²z·|¡A·L·L¤@¯º¡A¥ª»L¤Ï¹_¡A¦V¦Z­Ë½ð¡C³o¤@»L¨Ó±o§ó¬O¥j©Ç¡C®}¿þ¤jÀb¡A«æ¦£Â«¤WÅDÁ×¡CÀF°ò¥k®±ª½À»¡A³Ü¹D¡G¡§®¥³ßµo°]¡I¡¨¯yªº¤@ÅT¡A¥¿¤¤®}¿þ¯Ý¤f¡C³o¤@®±¦n¥Í¼F®`¡A®}¿þ¥õ¤Ñ¤@¥æ¶^­Ë¡A¦b¦a¤U³s¥´¤F¤L­Óºu¡A«zªº¤@Án¦R¥X¤@¤fÂA¦å¡AÌåµw®Ôªº¤@­Ó¤p¥ë¤l¡A³ºµ¹³o¤@®±¥´±o¯¸¤£°_¨­¡C¸sµsÅFµM³Üªö¡A¥s¹D¡G¡§³o¤@®±°÷³o¤p¤l®Áªº\r\n",
      "<BR>\r\n",
      "¡@¡@Ãð¦æ¤¤¤H¨£ÀF°ò¥X¤â¦p¦¹¬½»¶¡A§¡¬O¤SÕa¤S«ã¡C°¨¬Kªá¦ù¤â¥h§ß®v­ô¡A«æ±o­n­ú¡A³s°Ý¡G¡§«ç¤\\°Õ¡H¡¨°¨¦æªÅ¤@¥Í¨«¦¿´ò¡A¤£ª¾¨£¹L¦h¤Ö¤j­·¤j®ö¡A¦ý³oµs»í¨Ïªº¬O¤°¤\\®±¸}¡A«o¥bÂI¤]»¡¤£¥X¨Ó¡C¤T­Ó¨Í½Ã¤]¦b§CÁnÄ³½×¡G¡§ÂI¤l¬O¨º¤@¬£ªº¡H¡¨¡§Á@¤£¥X¨Ó¡A¦³ÂI¹³¤­¦æ®±¡C¡¨¡§¤£¡A¤­¦æ®±¨S¨º¼Ë¨¸ªù\r\n",
      "<BR>\r\n",
      "¡@¡@°¨¦æªÅ¨«¤W¨â¨B¡A©ê®±¹D¡G¡§ÀF¹ë¥DªGµM¦nªZÃÀ¡A¦hÁÂ±Ð°V¤F¤p®{¡A¤]¦nÅý¥Lª¾¹D¦¿´ò¤WºÉ¦h¯à¤H¡C¡¨ÀF°ò¯º¹D¡G¡§§Ú³o¤L¤U¤T¸}¿ßºâ¤°¤\\ª±·N¤I¡Aµ¹§A°¨­^¶¯´£¾c¥Ö¡B­Ë«K³ý¤]ÁÙ®Á¤£¤WÃä¤I¡C¥ú´Ò§Oªº¤£·|¡A´N·|³o­Ó¡C³o´N½Ð±Ð§A°¨¦Ñ­^¶¯ªº¦ÊÐ`¯«®±¡C¡¨°¨¦æªÅ¨£¥Lº¡Áyªo¥ú¡A»¡¸Ü³h¼L·Æ¦Þ¡A¤£§é¤£¦©¬O­Ó¼â¥ÖµL¿à¡A«ç¦a¤S½m´N¤F³o¼Ë¤@¨­©ÇÉÝªZ¥\\¡A¹ê¬O©_©Ç¡A¤ß¤¤¥´©w¤F¥D·N¡A¼È¥B¥u¦u¤£§ð¡A«Ý»{²M¥Lªº®±¸ô¦A»¡¡A·í¤U¾®¯«±×¥ß¡AÂù¤âµê´¤\r\n",
      "<BR>\r\n",
      "¡@¡@¤T¦W¨Í½Ã¡B°ÓÄ_¾_¡BÃð¦æ²³¤H¤@»ô¾®¯«Æ[¤æ¡A³£ª¾³o¤@³õª§¤æ¤£¦ýÃö¨tµÛ¤T¤QÉEÃð»Èªº¦w¦M¡A¤]¬O°¨¦æªÅ¨­®a©Ê©R¡B¤@¥Í«Â±æ¤§©Ò¨t¡C¤jÆU¤¤¤H¤HµÂÀR¡A¥u§v±o¤õ°ï¤¤®ã¬´Ãzµõ¡Aµo¥X»´»´ªº¥²¤R¤§Án¡C°|¤l¤¤¤j«B¦pª`¡A³ºµL¤À¥b°±®§¤§·N¡C¨ºµØªA¬Û¤½¦Û©M¤Ö°ü¦}ªÓ§CÁn»¡¸Ü¡A¹ï°¨ÀFªºª§¤æ²@¨S¯d¤ß\r\n",
      "<BR>\r\n",
      "¡@¡@ÀF°ò±qÊä¤¤¨ú¥X¤@­Óª÷¥úÀéÄêªº¶Àª÷»ó·Ï³ý¡A§l¤F¤@¤f»ó·Ï¡A¥L¤]ª¾°¨¦æªÅ¬O­Ó«l¼Ä¡A±NÄ|¤l¦bÀY³»½L¤F­Ó°é¡A¥s¹D¡G¡§¥ú´Ò¯ª¤W¤£¿n¼w¡A¦Y¶º´N±o¾a«÷©R¡I¥L¥¤¥¤ªº³o´N«÷°Ú¡I¡¨©¿¦aÚq¨­ª½¤W¡A¥ª®±²r¥X¡A¦V°¨¦æªÅÀ»¥h¡C°¨¦æªÅ«Ý¥L®±ÀYÖÃ¯Ý¥b¤Ø¡A¤@­Ó¡§¥ÕÅb«G¯Í¡¨¡A¨­¤l¤w¦V¥ªÂà¦¨¤}½b¨B¡A¨âÁu¦P¦Z¦¨¹_¤â¡A©Iªº¤@Án»´ÅT¡A­Ë´§¥X¨Ó¡A¥­Á|¤ÏÀ»¡A¨Ïªº¤´¬O¤ÖªL¬£¤¤Ìå¬°´M±`ªº¡§¬d®±¡¨¡A¦ý¬[¦¡¾®Ã­¡A¥X¤â©ï»L¤§»Ú¡A¬Æ¬O¦Ñ½m¬½»¶\r\n",
      "<BR>\r\n",
      "¡@¡@¨º¬Û¤½¹ïÃð«ÈÉO±j¤Hªºª§¤æ¥»¨Ó¦}¤£¦b·N¡A°¸µM±×²´¤@¿h¤§¤U¡A¥¿¨£¨ìÀF°ò¤@¨¬¤Ï½ð¡A©Û¦¡»á¬°©_¯S¡A¤£¥Ñ±o¯d¯«Æ[¬Ý¡C¨º¬ü°ü¥s¹D¡G¡§Âk¹A¡AÂk¹A¡C¡¨¨º¬Û¤½ÀH¤fº©À³¡A¥Ø¥ú«o³eª`¦b¤G¤Hªº«÷¤æ¤§¤W¡C¨º¬ü°ü¦ù¤â·n¤F·n¥LªÓ»H¡A»¡¹D¡G¡§¤@­ÓÁV¦Ñ¤I¡A¤@­Ó¼â¥Ö²V²V¥´¬[¡A·í¯u´N³o¤\\¦n¬Ý¡C¡¨¨º¬Û¤½§v¦o¸Ü¤¤¤j¦³¤£®®¤§·N¡A¦£ÂàÀY¯º¹D¡G¡§³o¼â¥Öªº®±¸}«Ü¬O¥j©Ç¡C¡¨¨º¬ü°ü¼Û¹D¡G¡§­ü¡A§A­Ì¨k¤H¡A¤Ñ¤U³Ì­nºòªº¨Æ¤I´N¬O±þ¤H¥´¬[¡C¡¨¨º¬Û¤½¯º¹D¡G¡§§A¤£³\\§Ú¬Ý¡A§Ú´N¤£¬Ý¡C¨º§A¦VµÛ§Ú¡AÅý§Ú§â§A¬üÄRªºÁy³J¤IÁ@­Ó¹¡¡C¡¨¨º¬ü°ü§C§C¤@¯º¡AÌå¬O¼b´A¡AªG¯u©ï°_¤FÀY±æ¥L¡C¨â¤H¥|¥Ø¥æ§ë¡AÁy¤W³£¥Rº¡¤F¬X±¡»e·N\r\n",
      "<BR>\r\n",
      "¡@¡@³o®É°¨¦æªÅÉO¨ºµs»í«o¤w¤æ±o¦p¤õ¦p²þ¡A¬Æ¬O¿E¯P¡C°¨¦æªÅªº¤@¸ô¬d®±³ô³ô¥´§¹¡A¤´¬O¥e¤£¨ì¥bÂI¤W­·¡A¨ºÀF°òªº®±¸}¨Ó¨Ó¥h¥h¥u¦³¤Q¤L©Û¡A©Î¦ù®±ª½À»¡A©Î¹_»L¤Ï½ð¡A©Î¨I¨y¾à®³¡A©Î¼A´x§¨»L¡C¤T¦WªZ©x¬Ý¤F¤@°}¡A¦­¹îÄ±¥L©Û¼Æ¦³­­¡A¦ý°¨¦æªÅ©~µM¾Ô¥L¤£¤U¡A³£Ä±¦n¯º\r\n",
      "<BR>\r\n",
      "¡@¡@²´¨£°¨¦æªÅ¨Ï¤@©Û¡§°¨ÀÉ±À®±¡¨¡A¸ó»L¦¨ÃM°¨¶Õ¡A¥k¤â©â¦^¡A¥ª¤â¦V«e²r±À¡C¦ó«ä»¨¥s¹D¡G¡§¨I¨y¾à®³¡C¡¨ªGµM¤£¥X©Ò®Æ¡CÀF°ò¤â¨y¤@¨I¡A´N¬I¾à®³¤â§ì¥L¤âµÃ¡C°¨¦æªÅ«æ¦£ÅÜ©Û¡A¤âÁuÁY¦^¡A·L·LÂà¨­¡C¦ó«ä»¨¯º¹D¡G¡§¹_»L¤Ï½ð¡I¡¨ÀF°òªGµM¹_°_¥k»L¡A¦V¦Z¤Ï½ð¡C°¨¦æªÅªºªZ¥\\°ª¥X¦ó«ä»¨¤£ª¾¦h¤Ö¡A¦ó«ä»¨¬J¤w¨Æ¥ýÁ@¥X¡A¥L°Z¦³®Æ¤£¨ì¤§²z¡H¦ý»¡¤]©_©Ç¡A©úª¾¹ï¤â­n¹_»L¤Ï½ð¡A³ºµMµLªk¥H¥ñµÛ¯}¸Ñ\r\n",
      "<BR>\r\n",
      "¡@¡@°¨¦æªÅ¸¹ºÙ¡§¦ÊÐ`¯«®±¡¨¡A¤ÖªL¬£¦U¸ô®±³N¡A¥þ³¡Äê¼ô¤_¯Ý¡A²´¨£¬d®±©`¦ó¤£±o¹ï¤è¡A©Û¼Æ¤@ÅÜ¡A¬ðµM§Ö¥´§Ö½ð¡A®±¶Õ¦p­·¡A®ÇÆ[ªÌµn®É¥Ø¬°¤§¯t¡A¥L¨Ïªº¬O¤@¸ô¡§¿P«C®±¡¨\r\n",
      "<BR>\r\n",
      "¡@¡@¨º¿P«C¬O§º´Â±ç¤sªy¤W¦nº~¡A·í¦~¬Û¥·¤§§Þ¡A¤Ñ¤UµL¹ï¡C³o¤@¸ô®±ªk¶Ç±N¤U¨Ó¡AÁ¿¨sÁaÅD°_¥ñ¡A½L©í¬D¥´¡A¥þ¬O¶i¤â©Û¼Æ¡C°¨¦æªÅ¦~¬öÁö¦Ñ¡A¨­¤â¤´¬OÁB±¶ÉÝ±`¡AÂ«°ª¥ñ§C¡A©{¦p¯W¿ß¬Û¦ü¡CÀF°ò²´¨£¼Ä¤HÅÜ©Û¡A³º¬O²@¤£²z·|¡A¤´ÂÂ¬O¨º¤Q¤L©Û¤S²Â©å¤SÃø¬Ýªº®±¸}Â½¨ÓÎ`¥h¦a¨Ï¥Î\r\n",
      "<BR>\r\n",
      "¡@¡@°ÓÄ_¾_¡B®}¿þ¡B°¨¬Kªá¡A¥H¤Î±­ÃðÀY¡B·¨ÃðÀY¨£³oµs»íªºªZ¥\\¦p¦¹¥j©Ç¡A³£¬O¸ÒÉÝÉE¤À¡C¨C­Ó¤H¨ì³o®É³£¤w®Æ¨ì¥L¤U¤@©Û¬O¦ù®±ª½À»¡AÁÙ¬O¼A´x§¨»L¡A¤£¸TÀHµÛ¦ó«ä»¨¥s¤F¥X¨Ó¡A¦ý°¨¦æªÅ³ºµM©l²×©`¦ó¥L¤£±o¡C¥u¨£°¨¦ÑÃðÀY¡§¤W¨B¶i¨yºQ¨­®±¡¨¡A¡§ªï­±·m§Ö¥´¤T®±¡¨¡A¡§¥ª¥k¸ó¥´¡¨¡A¡§¤Ï¨­µôÁè¡¨¡A¡§½ð»L¼º³±¤Q¦r®±¡¨¡A¤@©Û±µ¤@©Û¡A®±¸}¤§§Ö¡AµS¦pªù¥~ªº¨g­·¼É«B¤@¯ë¡C¦ýÀF°ò¥u¬O¤@©Û¤ò¤â¤ò¸}ªº¦ùÁuª½À»¡A´N±N¥L©Ò¦³¥©§®ªº©Û¦¡ºÉ¼Æ¯}¸Ñ¤F\r\n",
      "<BR>\r\n",
      "¡@¡@¨º¿WÁu¤H©M¶À½G¤p«Ä¤@ª½ÁY¦b«Î¨¤¤§¤¤¡AÁ@µÛ°¨¦æªÅ©MÀF°ò¤ñªZ¡C¿WÁu¤H§CÁn¹D¡G¡§¤p·Ý¡A§A¥J²ÓÁ@¨º­Óµs»í¡A­nÁ@±o¥J²Ó¡A¤dÉE§O§Ñ¤F¥Lªº¬Û»ª¡C¡¨¤p«Ä¹D¡G¡§¤z¶Ü°Ú¡H¤z¶Ü­nÁ@¥L¡H¡¨¿WÁu¤H¹D¡G¡§§A°OµÛ³o¤H¡A¥Ã»·§O§Ñ°O¤F¡C¡¨¤p«Ä¹D¡G¡§¥L¬O­Ó¤j§¥¤H¤\\¡H¡¨¿WÁu¤H«r¤ú¤Á¾¦¦a¹D¡G¡§³±®t¶§¿ù¡A±Ð«¥­Ì¦b³o¨½¼²¨£¤F¥L¡C§AÁ@²M·¡¤F¡A¥i§OÅý¥Lª¾Ä±\r\n",
      "<BR>\r\n",
      "¡@¡@¹L¤F¤@·|¡A¿WÁu¤H¤S¹D¡G¡§§AÁ`»¡¥\\¤Ò½m±o¤£¹ï¡A§A¥J²ÓÁ@µÛ¥L¡A³\\´N½m¹ï¤F¡C¡¨¤p«Ä¹D¡G¡§¤z¶Ü§r¡H¡¨¿WÁu¤H²´¤¤·L¦³²\\¥ú¡A§CÁn¹D¡G¡§²{¦bÁÙ¤£¯à»¡¡Aµ¥§A¦~¬ö¤j¤F¡AªZÃÀ½m¦n¤F¡A§Ú­ì­ì¥»¥»¦a»¡µ¹§A§v¡C¡¨¤p«Ä¬ÝÀF°ò®±¥´¸}½ð¡A«º¦¡Ìå¨äÃø¬Ý¡A¦ýÁôÁô¦ü¦³©Ò®©¡A©¿¦a¤j¥s¤@Án¡G¡§¥|¨û¡I¡¨¿WÁu¤H¦£¹D¡G¡§§O¤jÁnÄWÄW¡C¡¨¤p«Ä¶â¤F¤@ÁnµªÀ³¡A§CÁn¹D¡G¡§³o­Ó¤Hªº®±¸}§Ú¦³¨ÇÀ´°Õ¡C¡¨¿WÁu¤H¹D¡G¡§¤£¿ù¡A§A¦n¦nÁ@µÛ¡C§A¨º¥»®±¸g¤MÃÐ¡A«e­±¯Ê¤F¨â­¶¡A©Ò¥H§AÁ`¬O»¡Á@¤£À´¡C¨º¯Ê¤Fªº¨â­¶¡A´N¦b³oÀF°ò¨­¤W\r\n",
      "<BR>\r\n",
      "¡@¡@¤p«Ä¦Y¤F¤@Õa¡A¶À¶À½G½Gªº¤pÁy³J¤I¤W²{¥X¤@¨Ç¬õ·w¡A¥Ø¤£ÂàÀþ¦a±æµÛÀF°ò¡A¤S°Ý¡G¡§«ç¤\\·|¦b¥L¨­¤W¡H¡¨¿WÁu¤H¹D¡G¡§±N¨Ó¦Û·|¸ò§A»¡¡C³o®a¥ë¥»¨Ó¤£·|¤°¤\\ªZ¥\\¡A¦ý±o¤F¨â­¶®±¸g¡A¾Ç·|¤F¤Q¤L©Û´Ý¯Ê¤£¥þªº®±ªk¡A©~µM¯à¸ò²Ä¤@¬yªº®±®v¥´¦¨¥­¤â¡C§A·Q·Q¡A¨º®±¸g¤MÃÐ¦@¦³¤T¦Ê¦h­¶¡Aµ¥§A±N¨Ó¾Ç·|¤F¡A¾Ç¥þ¤F¡A¯à¦³¦h¤jªº¥»¨Æ¡C¡¨¨º¤p«Ä§v¤F¬Æ¬O¿E°Ê¡A²´·ú¤¤°{Ä£µÛ¿³¾Äªº¥ú¨~\r\n",
      "<BR>\r\n",
      "¡@¡@³õ¤¤Áö¬O¨â¤H¤ñªZ¡A¦ý¥i¬Ýªº«o¥u¦³¤@¤H¡CÀF°ò¨Ó¨Ó¥h¥h³o¤Q¤L©Û¡A¤j®a¹ê¦b³£¬Ý±o¿°¤F¡C°¨¦æªÅªº®±©Û«o¬OÅÜ¤Û¦Ê¥X\r\n",
      "<BR>\r\n",
      "¡@¡@¤@®M¡§¿P«C®±¡¨©`¦ó¤£¤F¹ï¤è¡A©¿µM®±ªk¤SÅÜ¡A¨Ï¥X¤@®M¡§¾|´¼²`¾K¶^¡¨¡A¦ý¨£¥L¦pºÆ¦pÅö¡A¦ü¾K¦ü¨g¡A©¿¦Óª×­Ë¡A©¿¦ÓÅD°_¡A¡§Ã¹º~±×ª×¡¨¡A¡§¥P¤H´÷¬Ú¡¨¡A³o¸ô®±ªk¦ü¥G¬O¶Ã¥´¶Ã½ð¤@¯ë¡A¨ä¹ê¬Oºë±m¤§Ìå¡C³o®ÉÀF°ò¨º¤Q¤L©Û²Â®±«oº¥º¥¤£ºÞ¨Æ¤F¡A¹ï¤è®±¸}¨Ó¸ô¤]¬Ý¤£©ú¥Õ¡A¤£¥Ñ±o¤ß¤UµÛ·W¡C²r§v±o°¨¦æªÅ³Ü¤@Án¡G¡§µÛ¡I¡¨¤@¸}¡§ÃU³½Â½¨­ÅÍµ·»L¡¨¡A¥¿¦n½ð¦b¥Lªº¸y¶¡¡CÀF°òµh±oÅs¤U¤F¸y\r\n",
      "<BR>\r\n",
      "¡@¡@°¨¦æªÅª¾¹D¹ï¤è¥\\¤Ò¤F±o¡A³o¤@¸}Áö¤¤­n®`¡A¥u©È¤´µMÃø¥H¨Ï¥L¨­±a­«¶Ë¡C­Y¬O¥­±`¤ñªZ¸û¶q¡AÐ`¤F³o¤@»L¦ÛµM¥i¥H¦¬¤â¡A¦ý³oµfª§¤æÃö³s¤T¤QÉE¨âÃð»È¡A«ç®e±o¼Ä¤H³Ý®§¤ù¨è¡H­Y¬Oª§ºÝ­«°_¡A¤]¥¼¥²©w¯à¦AÐ`¡A·í¤U±o²z¤£Åý¤H¡AÁa¨­¤W«e¡A¤@»L¡§©ä¤l¸}¡¨¡A¤S©¹¥L¦Z¤ß½ð¥h\r\n",
      "<BR>\r\n",
      "¡@¡@¸sµs»ôÁn¤j¼M¡CÀF°ò©¿¦a¤@¸}¹_»L¤Ï½ð¡A¨Ó¶ÕÅÜ¤ÛµL¤è¡A°¨¦æªÅÁöµM¾\\¾ú¤¥´I¡A¤@®É³º¨£¤£¤Î¦¹¡A³Q¥L³o¤@»L½ð¦b¤p¸¡¤§¤W¡A¥õ¤Ñ¤@¥æª½ºL¥X¥h¡C°¨¬KªáÉO®}¿þÂùÂù·m¤W§ß°_¡C¦ý¨£¥L­±¦p¥Õ¯È¡A³sÁn«y¹Â¡A¥u»¡¡G¡§«÷¦ºÅ@Ãð¡I¡¨®}¿þÉO°¨¬Kªá¦U«ù³æ¤M¡AÅ@¦b°¨¦æªÅ¨â®Ç¡CÀF°ò¸y¨½¤]µh±o¼F®`¡A¥k¤â´§¤F¤L¤U¡A¨â¦W¶Â¦ç¤jº~¨«¤F¤W¨Ó¡CÀF°ò¥s¹D¡G¡§¨úÃð§a¡IÁÙµ¥¤°¤\\¡H¡¨¸sµs¦U¥X§L¤b¡A»ô¦VÃð«È±þ¥h¡C°¨¬Kªá¡B®}¿þ¡B±­ÃðÀY¡B·¨ÃðÀY¤j©Iªï¼Ä\r\n",
      "<BR>\r\n",
      "¡@¡@¸sµs¤H¦h¡A°£ÀF°ò¥~ÁöµL°ª¤â¡A¦ý°¨¬KªáÉO®}¿þ­n¤À¤ß·Ó®Æ¤÷¿Ë¡Aµ¹¸sµs¨â¤U¨½¤@§ð¡A±¡¶Õµn¨£¦M«æ¡C°ÓÄ_¾_©Þ¥X³æ¤M¡A¥s¹D¡G¡§¤T¦ì¨Í½Ã¤j¤H¡A«¥­Ì°Ê¤â§a¡I¡¨¦ó«ä»¨¹D¡G¡§¦n¡AÓã¨«±jµs¦A»¡¡C¡¨¥|­Ó¥Í¤O­x¥[¤J¾Ô¹Î\r\n",
      "<BR>\r\n",
      "¡@¡@°ÓÄ_¾_¨£°¨¬Kªáµ¹¨â¦Wµs¸é¥Î§L¾¹«Ê¦í¤F¡Aº¥º¥¬I®i¤£¶}¤â¸}¡A·í§Y·m±N¤W¥h¡A³Ü¹D¡G¡§¨k¤lº~´Û«V©h®Q¡AÁÙ¬O¨â­Ó¤æ¤@­Ó¡A¤£®`Ä¼¤\\¡H¡¨¨êªº¤@¤M¡A©¹¨º°ª­Ó¤Iªºµs¸éÀY¤W¬å¥h¡C¨º¤H¦^Ã@©Û¬[¡A¤L­Ó¦^¦X¡A°ÓÄ_¾_¤M¤¤§¨´x¡A¥ª¤â¤@´x©Ù¦b¥L¯Ý¤f¡A±N¥LÀ»±oª½áè¥X¥h¡C°¨¬Kªá³Ý®§¹D¡G¡§¦æ¤F¡A³o¤@­ÓÅý§Ú¨Ó®Æ²z¡C¡¨°ÓÄ_¾_¤@¯º°h¶}¡A³w¥hÀ°§U®}¿þ¡A¤T¤M¨â´x¡A¤S¥´µo¤F¤@¦Wµs¸é¡C®}¿þ·P¿E¤§§E¡A¬Æ¬O´Ü¨Ø®v¤÷²´¥ú¡A³o¤Ö¦~ªºªZ¥\\ªG¦b¦Û¤v¤§¤W\r\n",
      "<BR>\r\n",
      "¡@¡@³o¤\\¤@¨Ó¡AÆU¤W±¡¶ÕÅÜ´«¡A¸sµs¯É¯É±Ñ°h¡A·mµÛ©¹ªù¤f©b¥X¡C²r§v±o¤@¤H²MÁnªø¼S¡A¥s¹D¡G¡§¤j®a¦í¤â¡A§Ú¦³¸Ü»¡¡C¡¨²³¤H¤æ±o¬Æºò¡AµL¤H²z·|¡C°ÓÄ_¾_¬ð¨£¤H¼v¤@®Ì¡A¤@¤H¦ù´x¦b­±«e¤@·n¡A·í§YÁ|¤M«d¥h¡A¨º¤H¥k¤â¤@¹_¤@±a¡A¤w±N¥L³æ¤M¹Ü¤U¡A©¹¦a¤U¤@ºL¡C°ÓÄ_¾_¤jÕa¡A«æ¦£ÅD¦Z¡AÁ@¨º¤H®É¡A«o¬O¨ºªA¹¢µØ¶Qªº¬Û¤½\r\n",
      "<BR>\r\n",
      "¡@¡@¨º¬Û¤½¤j½ñ¨B¨«¤J¤HÂO¡AÂù¤â¹_®³©ç¥´¡A¥u§v¥m¥m·í·í¡AÅTÁn¤£µ´¡A§L¤b¸¨¤F¤@¦a¡A­ì¨Ó³£³Q¥L¬I®i¤p¾à®³¤âªk¡A¹Ü¹L¨Ó©ß¤U¡C¸sµsÉO²³Ãð«ÈÕaÀb¤§¤U¡A¦U¦ÛÅD¶}¡A§b§b¦a±æµÛ¥L¡CÀF°ò¤@´j¡A©¿µM°O°_¤F¤Q§E¦~¤§¨Æ¡A¥s¹D¡G¡§¥Ð¬Û¤½¡I¬O§A¡H¡¨¨º¬Û¤½·Q¤£°_¥L¬O½Ö¡A©_¹D¡G¡§§A»{±o§Ú¡H¡¨ÀF°ò¯º¹D¡G¡§¤Q¤T¦~«e¦b·É¦{©²¡A¤pªº´¿ªA¨Í¹L§A¦Ñ¡C¡¨¨º¬Û¤½§CÀY¤@·Q¡A«éµM°O°_¡A»¡¹D¡G¡§¬O¤F¡A§A´N¬O¨º­Ó¶^¥´Âå¥Í¡C«ç¤\\¾Ç·|¤F¤@¨­ªZ¥\\¡A°µ°_¹ë¥D¨Ó°Õ¡H¡¨ÀF°ò¤W«e½Ð¤F­Ó¦w¡A»¡¹D¡G¡§¥þ¾Ì§A¦Ñ®â°ö¡C¡¨­ì¨Ó³o¬Û¤½¥´§ê¤§¤H¡A¥¿¬O¤ÑÀsªù¥_©v´xªù¤H¥ÐÂk¹A\r\n",
      "<BR>\r\n",
      "¡@¡@Ãð¦æ¤H²³²´¨£¤w¥iÅX°h¸sµs¡A­þª¾³o¥Ð¬Û¤½¤£¦ýªZ¥\\±jÌå¡AÁÙÉOµs»í¬OÂÂ¥æ¡A³o¤@¤U¥iÁV¿|¤wÌå¡C°¨¦æªÅ§CÁnÅñ©J¡A¥s¤j¥ë¤IÅ@¦íÃð¨®¡AÁ@¥L²´¦â¦æ¨Æ\r\n",
      "<BR>\r\n",
      "¡@¡@¥ÐÂk¹AÂù¥Ø¦Û¥ª¦Ü¥k¦b²³¤HÁy¤W¾î±½¤@¹M¡AµM¦Z¤S¦Û¥k¦Ü¥ª¦a¾î±½¹L¨Ó¡A¦A¦V¤Ñ¤«¤¤¶É¬Ö¦Ó¤Uªº¤j«B±æ¤F¤@²´¡A²´¥ú²×¤_°±¦bÃð¨®¤§¤W¡A»¡¹D¡G¡§ÀF¥S¡A¤µ¤éªº¶R½æ§A¥i¬O½ß©w°Õ¡C¡¨ÀF°ò³­¯º¹D¡G¡§§A¦Ñ¤H®a§O¨£©Ç¡A¤]¬O§Ì¥S­Ì¤Ö¤f¶º¦Y¡A¨«§ëµL¸ô¡A³o¤~¤z°_³o¨S¥»¿ú¶R½æ¨Ó¡C§Ú­Ì©w·í§ï¹L¦Û·s¡A¤£´±§Ñ¤F¥Ð¬Û¤½¤µ¤éªº®¦¼w¡C¡¨¥ÐÂk¹A«¢«¢¤j¯º¡A»¡¹D¡G¡§«ç¤\\¸ò§Ú¾x°_µê¤å¨Ó°Õ¡H¦ÑÀF¡A§A®³¤­ÉE¨âÃð»È¡A°÷¤£°÷¨Ï¤F¡H¡¨ÀF°ò¤@©Ã¡A³­¯º¹D¡G¡§§A¦Ñ¤H®a¶}ª±¯º°Õ¡C¡¨¥ÐÂk¹A¹D¡G¡§¶}¤°¤\\ª±¯º¡H³o¨½¤T¤QÉEÃð»È¡A§Ú¨ú¤@¥b¤Q¤­ÉE¡A§E¤Uªº§A¨ú¤­ÉE¡AÁÙ¦³¤QÉE¨â§A»¡«ç¤\\¤À¡H¡¨ÀF°ò³ß¥X±æ¥~¡A¦£¹D¡G¡§§A¦Ñ¤H®a¤@¦}¨ú¥h´N¬O¤F¡AÁÙ¤À¤°¤\\¡H¡¨¥ÐÂk¹A·nÀY¹D¡G¡§¨º¤£¦¨¸Ü¡A³o­þ¨½ÁÙ¦³¦¿´ò¸qÉa¡HÓì¤~§Ú­Ì¶i¨ÓÁ×«B¡A§Ú¡K§Ú¡K§Ú®Q¤l¦çªAÀã¤F¡K¡K¡¨¨º¬ü°ü§v¥L»¡¡§§Ú®Q¤l¡¨¤T¦r¡AÁy¤W¤@¬õ¡A¯«ºA·L²{§×©Ë¡A¦V¥ÐÂk¹A·L·L¤@¯º¡C¥ÐÂk¹A³ø¥H¤@¯º¡AÄ~Äò»¡¹D¡G¡§Ãð¦æ³o¦ì©h®Q­É¦çªAµ¹¦o¡A³o¤@µf±¡¤À¤£¯à¤£³ø¡A«¥­Ìµ¹°¨©h®Q¯d¤­ÉE¨â¡CÁÙ¦³¡A³o¨½¤T¦ì¨Í½Ã¤j¤H¦b¦¹¡A±`¨¥¹D¨£ªÌ¦³¥÷¡A¨C¤H¤À¤@ÉE¨â¡C§E¤U¤GÉE¡A´N°eµ¹¦¹¶¡¥D¤H¡C§A»¡§Ú³o¼Ë¤Àªk¤½¤£¤½¹D¡H¡¨ÀF°ò³s³s¹ª´x¡A¤j¥s¡G¡§¤½¹D¤§Ìå¡A¤½¹D¤§Ìå¡A§Ú¦­»¡§A¥Ð¬Û¤½¬O¤Ñ¤U²Ä¤@µ¥ºB´nªº¤j­^¶¯\r\n",
      "<BR>\r\n",
      "¡@¡@°¨¦æªÅ¡B®}¿þ¡B°¨¬Kªáµ¥§v¥ÐÂk¹A¨Ô¨Ô¦Ó½Í¡A®Ç­YµL¤H¡A­Ë¦ü³o¤T¤QÉE¨â»È¤w¬O¥LÅn¤¤¤§ª«¤@¯ë¡C°¨¦æªÅ¨­¨ü­«¶Ë¡A³o¤\\¤@Éa¡A§ó¬OÀI±ý·w¥h¡C®}¿þ²´±æ®v¤÷¡A¥u°Ý¡G¡§«ç¤\\¿ì¡H«ç¤\\¿ì¡H¡¨°¨¬Kªá«ã¹D¡G¡§¤°¤\\«ç¤\\¿ì¡H¡¨Ås¸y¬B°_¦a¤Uªº³æ¤M¡A¥s¹D¡G¡§©m¥Ðªº¡A§A·í§Ú­Ì¬O¦º¤HÁÙ¬O¬¡¤H¡H¡¨»¡µÛ´­°_³æ¤M¡A³w©¹¥ÐÂk¹A¥·¥h\r\n",
      "<BR>\r\n",
      "¡@¡@¥ÐÂk¹A¯º¹D¡G¡§§A§O¹G§Ú°Ê¤â¡A§Ú®Q¤l¥i­n³Ü¾L¡C¡¨¨º¬ü°üÔu¤F¤@¤f¡A¯º½|¡G¡§³h¼L¡I¡¨¦ý¦ü¹ï¥Lªº»´Á¡¤f§k¬Æ¬°³ß·R¡C°¨¬Kªá§v¥L¨¥»yµLÂ§¡A§ó¬O´o«ã¡A¤W¨B¤@¤M¡AÄd¸y¾î¬å¡C¥ÐÂk¹A¯º¹D¡G¡§­ü³é¡A¤£¦n¡A§Ú®Q¤l¥i¤£³\\§Ú¸ò¤k¤H¥´¬[¡C¡¨¤â«ü¦b¦o¤M­I¤W¤@À»¡A°¨¬Kªá®³®º¤£¦í¡A²æ¤â¼»¤M¡C¥ÐÂk¹A¤âªk§ÖÌå¡A¥k¤â·m¹L¤M¬`¡A¥ª¤â¤w®³¦í¦o¤âµÃ¡AÁ|°_¤M¨Ó¡A§@¶Õ­n©¹¦oÀYÀV¤¤¬å¤U¡A¤f¤¤«o¼Û¹D¡G¡§¦ü³o¯ë¦pªá¦p¤ë»ª¡A«ç¥s§Ú¤£§@±¤¥ÉÌ°­»¤H¡I¡¨°ÓÄ_¾_©M®}¿þ¨£¥LÀ¸§Ë°¨¬Kªá¡AÂùÂù·m¥X¡C°ÓÄ_¾_¥k¤â¤@´­¡A¤@ªKª÷Ãð¨ú¥L¥ª¥Ø¡C®}¿þ«æ¤F¡A¨Ó¤£¤Î¬B¨ú¦a¤U§L¤b¡A­¸¸}´N½ð¥L¦Z¤ß¡C¥ÐÂk¹A°¿¦a¦^¨­¡AºM¤M¾à®³¡A§ì¦í¥Lªº¨¬½ï¡A©¹¤W¤@´£¡C®}¿þ¨­¤l­ËÂà¡A¥u·P»L¤W¤@°}¼@µh¡A¥¢Án¤j¥s¡A­ì¨Ó¨ºªKª÷Ãð¥´¶i¤F¥L¥k»L¡C¥ÐÂk¹A´§¤â¤@§Ý¡A®}¿þªº¨­¤lµS¦p¤@¬`±½©ª¯ë¾î±½¥X¥h¡A¥¿¼²¦b¦b°¨¬Kªá»L¤W¡A¨â¤H¶^¦b¤@°_¡C²³¤H¨£¥LÀ¸­A¤G¤H¡A¦p§ËÀ¦¤I¡A¨º¨½ÁÙ´±¤W«e¡H¥ÐÂk¹A¹D¡G¡§ÀF¥S¡A§A§âÃð»È´N·ÓÓì¤~§Ú»¡ªº¨º¤\\¤À¤F¡A®M¤@½ø¤j¨®µ¹§Ú¡A§Ú­Ì¨â¤f¤l¨­¦³«æ¨Æ¡A¶·±o«_«BÓã¸ô¡C¡¨ÀF°ò¤j³ß¡A³sÁnµªÀ³¡C¸sµs±qÃð¨®¤¤¨ú¥X»ÈÀT¡A¤­ÉE¨âªº°ï¦¨¤@°ï¡A¤TÉE¨â¡B¤GÉE¨â¤S¦U§@¤@°ï¡A¤À§O°ï¦b¦a¤U¡A¦V²³¨®¤Ò³Ü¹D¡G¡§¨Ä¨Ä¦aÓã¸ô\r\n",
      "<BR>\r\n",
      "¡@¡@¥_¹D¤W¦³­Ó³W¯x¡AºñªL»¨«È§TÃð·m»È¡A«o¤£¶Ë®`¨®¤Ò¡A¬Æ¦Ü¸}¤O°s¿ú¤]¨Ì±`¨Ò·Óµ¹¡A¦ý­Y¨®¤Ò¤£§vÅñ©J¡A¦ÛµM¤S§@§O½×¡C²³¨®¤Ò¨£¤F³oµ¥±¡¶Õ¡A¨º´±¤£¨Ì¡A«_µÛ¤j«B¡A±N»È¨®¤@½ø½ø±À¥X¥h\r\n",
      "<BR>\r\n",
      "¡@¡@°¨¦æªÅ¨£»È¨®¥X¥h¤@½ø¡A¤ß¨½´Nµo¤@°}¯k¡A¥u¨£¤@½øÅ[¨®Óã¨ì®x«e¡A¥ÐÂk¹A§ßµÛ®Q¤l«K­n¤W¨®¡C¥u­nÅ[¨®¤@¦æ¡A°¨¦æªÅ´N¬O¨­±Ñ¦Wµõ¡A¤@¥@¨¯­W¥I¤_¬y¤ô¤F¡C¥LÅ¸ÄÞÄÞ¦a¯¸°_¨­¨Ó¡A¬ðµMÁa°_¡A¥s¹D¡G¡§§Ú©M§A«÷¤F¡I¡¨Âù¤âµS¦pÅK¹_¡A²r©¹¥ÐÂk¹AÁy¤W§ì¥h¡C¨º¬ü°ü¬Æ¬O®`©È¡AÀ~±o¥s¤F¤@Án¡C¥ÐÂk¹A°¼¨­¥X´x¡AÀ»¦V¥LªÓÀY¡C°¨¦æªÅ­Y¬O¥¼¨ü­«¶Ë¡A³o¤@´x¦ÛµM¥´¥L¤£µÛ¡A¦ý¦¹®É¥þ¨­µ¬°©¤£§v¨Ï³ê¡A²´¨£´x¨ì¡A³ºµM¤£¯à°{Á×¡A¯yªº¤@Án¡A¨­¤l­¸°_¡A¦V°|¤l¤¤¶^¤F¥X¥h\r\n",
      "<BR>\r\n",
      "¡@¡@²r§v±o¤@¤H¶Ú¤l§C¨I¡A¼K¼K¼K¤T¤U§N¯º\r\n",
      "<BR>\r\n",
      "¡@¡@³o¤TÁn§N¯º¶Ç¶iÆU¨Ó¡A¥ÐÂk¹A©M¨º¬ü°üµn®É«K¦p§v¨£¤F¥@¤W³Ì¥i©ÈªºÁn­µ¤@¯ë¡A¤G¤H­±¦p¥Õ¯È¡A¨­¤lµoÅ¸¡C¥ÐÂk¹A¥Î¤O¤@±À¡A±N¨º¬ü°ü±À¤J¨®¤¤¡A­¸¨­¦Ó°_¡A¸ó¤W¤FÅ[­I¡AÂù»L«æ§¨¡A´§Ã@¶ÊÅ[§Ö¨«¡C¨ºª¾¥L³s³s´§Ã@¡A³oÅ[¤l¥u¸ó¥X¨â¨B¡A¬ðµM°±¦í¡A¦A¤]¤£¯à¦V«e¥b¤Ø\r\n",
      "<BR>\r\n",
      "¡@¡@²³¤H¯¸¦bÆU¤f¡A±q¤ô©©¤@¯ëªº¤j«B¤¤±æ±N¥X¥h¡C¥u¨£¤@­Ó¤S°ª¤S½Gªº¤jº~¡A¥ª¤â©êµÛ¤@­Ó¥]»q¡A¥k¤â©Ô¦í¤F¤j¨®ªº¨®ÁÕ¡C¨ºÅ[¤lµ¹¥ÐÂk¹A¶Ê±o«æ¤F¡A§CÀY¤}¸y¡A¥|¿á¤@»ôµo«l¡A¦ý¤jº~©ÔµÛ¨®ÁÕ¡A¤j¨®³º¦ü°v¨c¦b¦a¤U¤@¯ë¡A°Ê¤]¤£°Ê¡C¦¹¤H¯«¤O¡A¹ê¨¬Õa¤H\r\n",
      "<BR>\r\n",
      "¡@¡@¨º¤jº~¤S§N¯º¤F¤@Án¡C¥ÐÂk¹A©|¦Û¿ðºÃ¡A¨®¤¤ªº¬ü°ü«o¤w¸ó¥X¨®¨Ó¡A¦V¨º¤jº~Á@¤]¤£Á@¡A©ùµM¨«¶iÆU¥h¡C¥ÐÂk¹AºCºC¸ó¤UÅ[­I¡A¤]¸òµÛ¶iÆU¡C¥L¥þ¨­³Q«B²O±oÀã³z¡A«o¦üµ·²@¤£Ä±¡A¥Ø¥ú§bº¢¡A¥¢»î¸¨¾z¤@¯ë¡C¨º¬ü°ü©Û¤â¥s¥L¹L¥h¡A§¤¦b¦oªº¨­®Ç\r\n",
      "<BR>\r\n",
      "¡@¡@¨º°ª½G¤jº~¤j½ñ¨B¶iÆU¡A§¤¦b¤õ°ï¤§®Ç¡A¦V®Ç¤H¤@²´¤£Á@¡A¥´¶}¥]»q¡A­ì¨Ó¨½­±¬O­Ó¨â·³¤jªº¤k«Ä¡C¨º¤jº~©È§N§¥¤F«Ä¤l¡A©êµÛ¦o¦b¤õÃä¯N¤õ¡C¨º¤k«Ä¥¿¦Û¨I¨IºÎ¼ô¡A¶ê¶êªº²´®Ç«o¬EµÛ¨âÁû²\\¯]\r\n",
      "<BR>\r\n",
      "¡@¡@°¨¬Kªá¡B®}¿þ©M°ÓÄ_¾_¤T¤H§ßµÛ°¨¦æªÅ°_¨Ó¡A¨£¥ÐÂk¹A¹ï¨º°ª½G¤jº~¦p¦¹®`©È¡A³£¬O¤SÕa¤S³ß¡C°¨¬Kªá¹D¡G¡§¯R¡A§A¶Ë³BÁÙ¦n¤\\¡H³o¡K³o¤H¬O½Ö¡H¡¨°¨¦æªÅ¹D¡G¡§¥L¡K¥L¬O¡K¥´¹M¤Ñ¤UµL¼Ä¤â¡Kª÷¡Kª÷­±¦ò­]¤H»ñ¡K¡¨¤@¥y¸Ü­è»¡§¹¡A¤wµh±o·w¤F¹L¥h\r\n",
      "<BR>\r\n",
      "¡@¡@¤jÆU¤§¤W¡A­¸°¨Ãð§½ªºÃðÀY©M½ë¤l¤â¶°¦bªF­º¡AÀF°òÉO¸sµs¶°¦b¦è­º¡A¤T¦W¨Í½ÃÉO°ÓÄ_¾_¯¸¦b´È¤l¤§¦Z¡A¦U¤H¥Ø¥ú³£Á@µÛ­]¤H»ñ¡B¥ÐÂk¹AÉO¬ü°ü¤T¤H\r\n",
      "<BR>\r\n",
      "¡@¡@­]¤H»ñ¾®µøÊä¤¤ªº¥®¤k¡AÁy¤W·RÌ°¾î·¸¡A¥Rº¡µÛ·O·R©M¬X±¡¡A²³¤H­Y¤£¬OÓì¤~¨£¨ì¥L¤@¤â§ì¦í¤j¨®¡A³s°·Å[¤]µLªk©Ô°ÊªºÕa¤H¯«¤O¡A¯uÃø¬Û«H¦¹¤H¨­­tµ´¥@ªZ¥\\\r\n",
      "<BR>\r\n",
      "¡@¡@¨º¬ü°ü¯«ºA¦Û­Y¡A§b§b±æµÛ¤õ°ï¡A¼L¨¤Ãä¬EµÛ¤@µ·§N¯º¡A¥u¦³Ìå²Ó¤ß¤§¤H¡A¤~Á@±o¦o¼L®B·L·LÅ¸°Ê¡AÅã±o¤ß¨½¬Æ¬O¤£¦w\r\n",
      "<BR>\r\n",
      "¡@¡@¥ÐÂk¹AÁy¦p¥Õ¯È¡A¬ÝµÛ°|¤l¤¤ªº¤j«B¤T­Ó¤Hªº¥Ø¥úÁ@µÛ¤T³B¡A½Ö¤]¤£Á@½Ö¤@²´¡A¦U¦Û¦w¦wÀRÀR¦a§¤µÛ¡A¤@¨¥¤£µo¡C\r\n",
      "\r\n",
      "<hr color=\"#EE9B73\" size=\"1\" width=\"94%\">\r\n",
      "</TD>\r\n",
      "<TD CLASS=\"tt3\" VALIGN=\"bottom\" width=\"8%\"  bgcolor=\"#F1F1F3\"><strong><A HREF=\"002.htm\" >¦Z¤@­¶</A><BR>\r\n",
      "<A HREF=\"index.html\" >«e¤@­¶</A><BR><A HREF=\"index.html\" >¦^¥Ø¿ý</A><BR>\r\n",
      "</strong>\r\n",
      "</TD></TR></table>\r\n",
      "<center><table WIDTH=\"720\" >\r\n",
      "<tr ALIGN=CENTER>\r\n",
      "<td WIDTH=\"100%\">\r\n",
      "<center><table BORDER=0 CELLSPACING=0 CELLPADDING=0 >\r\n",
      "<tr>\r\n",
      "<td><script src=\"../../../../ad/btext01.js\"></script>\r\n",
      "</td><td>\r\n",
      "<IFRAME src=\"../../../../ad/pg01.htm\" MARGINHEIGHT=0 MARGINWIDTH=0 frameborder=0 width=0 height=0 scrolling=no></IFRAME>\r\n",
      "</td>\r\n",
      "</tr>\r\n",
      "</table></center>\r\n",
      "</td>\r\n",
      "</tr>\r\n",
      "</table></center>\r\n",
      "</html>\n"
     ]
    }
   ],
   "source": [
    "print(book1)"
   ]
  },
  {
   "cell_type": "code",
   "execution_count": null,
   "metadata": {},
   "outputs": [],
   "source": []
  },
  {
   "cell_type": "code",
   "execution_count": null,
   "metadata": {},
   "outputs": [],
   "source": []
  },
  {
   "cell_type": "code",
   "execution_count": null,
   "metadata": {},
   "outputs": [],
   "source": []
  },
  {
   "cell_type": "markdown",
   "metadata": {},
   "source": [
    "# 補充練習2"
   ]
  },
  {
   "cell_type": "code",
   "execution_count": 51,
   "metadata": {},
   "outputs": [],
   "source": [
    "x = ['星期一','星期二','星期三']"
   ]
  },
  {
   "cell_type": "code",
   "execution_count": 52,
   "metadata": {},
   "outputs": [
    {
     "data": {
      "text/plain": [
       "list"
      ]
     },
     "execution_count": 52,
     "metadata": {},
     "output_type": "execute_result"
    }
   ],
   "source": [
    "type(x)"
   ]
  },
  {
   "cell_type": "code",
   "execution_count": 53,
   "metadata": {},
   "outputs": [],
   "source": [
    "r = ('劉德華','張學友','黎明','郭富城')"
   ]
  },
  {
   "cell_type": "code",
   "execution_count": 54,
   "metadata": {},
   "outputs": [
    {
     "data": {
      "text/plain": [
       "tuple"
      ]
     },
     "execution_count": 54,
     "metadata": {},
     "output_type": "execute_result"
    }
   ],
   "source": [
    "type(r)"
   ]
  },
  {
   "cell_type": "code",
   "execution_count": 55,
   "metadata": {},
   "outputs": [],
   "source": [
    "x[0] = '星期一我要去吃冰'"
   ]
  },
  {
   "cell_type": "code",
   "execution_count": 56,
   "metadata": {},
   "outputs": [
    {
     "data": {
      "text/plain": [
       "['星期一我要去吃冰', '星期二', '星期三']"
      ]
     },
     "execution_count": 56,
     "metadata": {},
     "output_type": "execute_result"
    }
   ],
   "source": [
    "x"
   ]
  },
  {
   "cell_type": "code",
   "execution_count": 57,
   "metadata": {},
   "outputs": [
    {
     "ename": "TypeError",
     "evalue": "'tuple' object does not support item assignment",
     "output_type": "error",
     "traceback": [
      "\u001b[1;31m---------------------------------------------------------------------------\u001b[0m",
      "\u001b[1;31mTypeError\u001b[0m                                 Traceback (most recent call last)",
      "\u001b[1;32m<ipython-input-57-77b750984836>\u001b[0m in \u001b[0;36m<module>\u001b[1;34m()\u001b[0m\n\u001b[1;32m----> 1\u001b[1;33m \u001b[0mr\u001b[0m\u001b[1;33m[\u001b[0m\u001b[1;36m0\u001b[0m\u001b[1;33m]\u001b[0m \u001b[1;33m=\u001b[0m \u001b[1;34m'梁朝偉'\u001b[0m\u001b[1;33m\u001b[0m\u001b[0m\n\u001b[0m",
      "\u001b[1;31mTypeError\u001b[0m: 'tuple' object does not support item assignment"
     ]
    }
   ],
   "source": [
    "r[0] = '梁朝偉'"
   ]
  },
  {
   "cell_type": "code",
   "execution_count": 58,
   "metadata": {},
   "outputs": [],
   "source": [
    "x1 = list()"
   ]
  },
  {
   "cell_type": "code",
   "execution_count": 59,
   "metadata": {},
   "outputs": [
    {
     "data": {
      "text/plain": [
       "['你', '好', '西', '班', '牙', '文']"
      ]
     },
     "execution_count": 59,
     "metadata": {},
     "output_type": "execute_result"
    }
   ],
   "source": [
    "list('你好西班牙文')"
   ]
  },
  {
   "cell_type": "code",
   "execution_count": 60,
   "metadata": {},
   "outputs": [
    {
     "data": {
      "text/plain": [
       "['S', 'p', 'a', 'n', 'i', 's', 'h']"
      ]
     },
     "execution_count": 60,
     "metadata": {},
     "output_type": "execute_result"
    }
   ],
   "source": [
    "list('Spanish')"
   ]
  },
  {
   "cell_type": "code",
   "execution_count": 62,
   "metadata": {},
   "outputs": [],
   "source": [
    "r1 = list(r)"
   ]
  },
  {
   "cell_type": "code",
   "execution_count": 63,
   "metadata": {},
   "outputs": [
    {
     "data": {
      "text/plain": [
       "['星期一我要去吃冰', '星期二', '星期三']"
      ]
     },
     "execution_count": 63,
     "metadata": {},
     "output_type": "execute_result"
    }
   ],
   "source": [
    "x"
   ]
  },
  {
   "cell_type": "code",
   "execution_count": 65,
   "metadata": {},
   "outputs": [
    {
     "data": {
      "text/plain": [
       "'星期三'"
      ]
     },
     "execution_count": 65,
     "metadata": {},
     "output_type": "execute_result"
    }
   ],
   "source": [
    "x[-1]"
   ]
  },
  {
   "cell_type": "code",
   "execution_count": 66,
   "metadata": {},
   "outputs": [],
   "source": [
    "a = [[[1,'James',2,'彭同學'],'新竹高中'],'全世界最後一名']"
   ]
  },
  {
   "cell_type": "code",
   "execution_count": 67,
   "metadata": {},
   "outputs": [
    {
     "data": {
      "text/plain": [
       "'彭同學'"
      ]
     },
     "execution_count": 67,
     "metadata": {},
     "output_type": "execute_result"
    }
   ],
   "source": [
    "a[0][0][3]"
   ]
  },
  {
   "cell_type": "code",
   "execution_count": 68,
   "metadata": {},
   "outputs": [],
   "source": [
    "areas = ['加州','紐約州','賓夕法尼亞州']"
   ]
  },
  {
   "cell_type": "code",
   "execution_count": 69,
   "metadata": {},
   "outputs": [],
   "source": [
    "areas.extend(x)"
   ]
  },
  {
   "cell_type": "code",
   "execution_count": 70,
   "metadata": {},
   "outputs": [
    {
     "data": {
      "text/plain": [
       "['加州', '紐約州', '賓夕法尼亞州', '星期一我要去吃冰', '星期二', '星期三']"
      ]
     },
     "execution_count": 70,
     "metadata": {},
     "output_type": "execute_result"
    }
   ],
   "source": [
    "areas"
   ]
  },
  {
   "cell_type": "code",
   "execution_count": 72,
   "metadata": {},
   "outputs": [],
   "source": [
    "areas = ['加州','紐約州','賓夕法尼亞州']\n",
    "x = ['星期一','星期二','星期三']\n",
    "areas +=x"
   ]
  },
  {
   "cell_type": "code",
   "execution_count": 73,
   "metadata": {},
   "outputs": [],
   "source": [
    "areas.append(x)"
   ]
  },
  {
   "cell_type": "code",
   "execution_count": 74,
   "metadata": {},
   "outputs": [
    {
     "data": {
      "text/plain": [
       "['加州', '紐約州', '賓夕法尼亞州', '星期一', '星期二', '星期三', ['星期一', '星期二', '星期三']]"
      ]
     },
     "execution_count": 74,
     "metadata": {},
     "output_type": "execute_result"
    }
   ],
   "source": [
    "areas"
   ]
  },
  {
   "cell_type": "code",
   "execution_count": 75,
   "metadata": {},
   "outputs": [],
   "source": [
    "areas = [['加州','紐約州','賓夕法尼亞州']]"
   ]
  },
  {
   "cell_type": "code",
   "execution_count": 76,
   "metadata": {},
   "outputs": [],
   "source": [
    "areas.append(x)"
   ]
  },
  {
   "cell_type": "code",
   "execution_count": 77,
   "metadata": {},
   "outputs": [
    {
     "data": {
      "text/plain": [
       "[['加州', '紐約州', '賓夕法尼亞州'], ['星期一', '星期二', '星期三']]"
      ]
     },
     "execution_count": 77,
     "metadata": {},
     "output_type": "execute_result"
    }
   ],
   "source": [
    "areas"
   ]
  },
  {
   "cell_type": "code",
   "execution_count": 78,
   "metadata": {},
   "outputs": [
    {
     "ename": "IndexError",
     "evalue": "list index out of range",
     "output_type": "error",
     "traceback": [
      "\u001b[1;31m---------------------------------------------------------------------------\u001b[0m",
      "\u001b[1;31mIndexError\u001b[0m                                Traceback (most recent call last)",
      "\u001b[1;32m<ipython-input-78-eeb3e8cbece9>\u001b[0m in \u001b[0;36m<module>\u001b[1;34m()\u001b[0m\n\u001b[1;32m----> 1\u001b[1;33m \u001b[0mareas\u001b[0m\u001b[1;33m[\u001b[0m\u001b[1;36m2\u001b[0m\u001b[1;33m]\u001b[0m\u001b[1;33m\u001b[0m\u001b[0m\n\u001b[0m",
      "\u001b[1;31mIndexError\u001b[0m: list index out of range"
     ]
    }
   ],
   "source": [
    "areas[2]"
   ]
  },
  {
   "cell_type": "code",
   "execution_count": 79,
   "metadata": {},
   "outputs": [],
   "source": [
    "areas.insert([1][0],'星期日')"
   ]
  },
  {
   "cell_type": "code",
   "execution_count": 80,
   "metadata": {},
   "outputs": [
    {
     "data": {
      "text/plain": [
       "[['加州', '紐約州', '賓夕法尼亞州'], '星期日', ['星期一', '星期二', '星期三']]"
      ]
     },
     "execution_count": 80,
     "metadata": {},
     "output_type": "execute_result"
    }
   ],
   "source": [
    "areas"
   ]
  },
  {
   "cell_type": "code",
   "execution_count": 81,
   "metadata": {},
   "outputs": [],
   "source": [
    "areas = ['加州','紐約州','賓夕法尼亞州']\n",
    "x = ['星期一','星期二','星期三']\n",
    "areas +=x"
   ]
  },
  {
   "cell_type": "code",
   "execution_count": 82,
   "metadata": {},
   "outputs": [
    {
     "data": {
      "text/plain": [
       "'紐約州'"
      ]
     },
     "execution_count": 82,
     "metadata": {},
     "output_type": "execute_result"
    }
   ],
   "source": [
    "areas.pop(1)"
   ]
  },
  {
   "cell_type": "code",
   "execution_count": 83,
   "metadata": {},
   "outputs": [
    {
     "data": {
      "text/plain": [
       "0"
      ]
     },
     "execution_count": 83,
     "metadata": {},
     "output_type": "execute_result"
    }
   ],
   "source": [
    "areas.index(\"加州\")"
   ]
  },
  {
   "cell_type": "code",
   "execution_count": 84,
   "metadata": {},
   "outputs": [
    {
     "data": {
      "text/plain": [
       "False"
      ]
     },
     "execution_count": 84,
     "metadata": {},
     "output_type": "execute_result"
    }
   ],
   "source": [
    "'文山區' in areas"
   ]
  },
  {
   "cell_type": "code",
   "execution_count": 85,
   "metadata": {},
   "outputs": [
    {
     "data": {
      "text/plain": [
       "True"
      ]
     },
     "execution_count": 85,
     "metadata": {},
     "output_type": "execute_result"
    }
   ],
   "source": [
    "'賓夕法尼亞州' in areas"
   ]
  },
  {
   "cell_type": "code",
   "execution_count": 86,
   "metadata": {},
   "outputs": [
    {
     "data": {
      "text/plain": [
       "1"
      ]
     },
     "execution_count": 86,
     "metadata": {},
     "output_type": "execute_result"
    }
   ],
   "source": [
    "areas.count('星期一')"
   ]
  },
  {
   "cell_type": "code",
   "execution_count": 87,
   "metadata": {},
   "outputs": [
    {
     "data": {
      "text/plain": [
       "5"
      ]
     },
     "execution_count": 87,
     "metadata": {},
     "output_type": "execute_result"
    }
   ],
   "source": [
    "len(areas)"
   ]
  },
  {
   "cell_type": "code",
   "execution_count": 88,
   "metadata": {},
   "outputs": [],
   "source": [
    "x = ['Book','Movie','Music']\n",
    "x.sort()"
   ]
  },
  {
   "cell_type": "code",
   "execution_count": 89,
   "metadata": {},
   "outputs": [
    {
     "data": {
      "text/plain": [
       "['Book', 'Movie', 'Music']"
      ]
     },
     "execution_count": 89,
     "metadata": {},
     "output_type": "execute_result"
    }
   ],
   "source": [
    "x"
   ]
  },
  {
   "cell_type": "code",
   "execution_count": 92,
   "metadata": {},
   "outputs": [
    {
     "data": {
      "text/plain": [
       "[2, 100, 2000]"
      ]
     },
     "execution_count": 92,
     "metadata": {},
     "output_type": "execute_result"
    }
   ],
   "source": [
    "x = [100,2,2000]\n",
    "x.sort()\n",
    "x"
   ]
  },
  {
   "cell_type": "code",
   "execution_count": 93,
   "metadata": {},
   "outputs": [
    {
     "data": {
      "text/plain": [
       "[2000, 100, 2]"
      ]
     },
     "execution_count": 93,
     "metadata": {},
     "output_type": "execute_result"
    }
   ],
   "source": [
    "x.sort(reverse = True)\n",
    "x"
   ]
  },
  {
   "cell_type": "code",
   "execution_count": 94,
   "metadata": {},
   "outputs": [
    {
     "data": {
      "text/plain": [
       "[2, 100, 2000]"
      ]
     },
     "execution_count": 94,
     "metadata": {},
     "output_type": "execute_result"
    }
   ],
   "source": [
    "sorted(x)"
   ]
  },
  {
   "cell_type": "code",
   "execution_count": 95,
   "metadata": {},
   "outputs": [
    {
     "data": {
      "text/plain": [
       "[2000, 100, 2]"
      ]
     },
     "execution_count": 95,
     "metadata": {},
     "output_type": "execute_result"
    }
   ],
   "source": [
    "x"
   ]
  },
  {
   "cell_type": "code",
   "execution_count": 96,
   "metadata": {},
   "outputs": [],
   "source": [
    "a = [1,2,3]"
   ]
  },
  {
   "cell_type": "code",
   "execution_count": 97,
   "metadata": {},
   "outputs": [],
   "source": [
    "b =a"
   ]
  },
  {
   "cell_type": "code",
   "execution_count": 98,
   "metadata": {},
   "outputs": [],
   "source": [
    "a[0] = 'Book'"
   ]
  },
  {
   "cell_type": "code",
   "execution_count": 99,
   "metadata": {},
   "outputs": [
    {
     "data": {
      "text/plain": [
       "['Book', 2, 3]"
      ]
     },
     "execution_count": 99,
     "metadata": {},
     "output_type": "execute_result"
    }
   ],
   "source": [
    "b"
   ]
  },
  {
   "cell_type": "code",
   "execution_count": 101,
   "metadata": {},
   "outputs": [],
   "source": [
    "a = [1,2,3]\n",
    "b = a.copy()"
   ]
  },
  {
   "cell_type": "code",
   "execution_count": 102,
   "metadata": {},
   "outputs": [],
   "source": [
    "a[0] = 'Apple'"
   ]
  },
  {
   "cell_type": "code",
   "execution_count": 103,
   "metadata": {},
   "outputs": [
    {
     "data": {
      "text/plain": [
       "[1, 2, 3]"
      ]
     },
     "execution_count": 103,
     "metadata": {},
     "output_type": "execute_result"
    }
   ],
   "source": [
    "b"
   ]
  },
  {
   "cell_type": "code",
   "execution_count": 104,
   "metadata": {},
   "outputs": [],
   "source": [
    "r = ('梁朝偉','劉青雲','任達華')"
   ]
  },
  {
   "cell_type": "code",
   "execution_count": 105,
   "metadata": {},
   "outputs": [],
   "source": [
    "a,b,c = r"
   ]
  },
  {
   "cell_type": "code",
   "execution_count": 107,
   "metadata": {},
   "outputs": [
    {
     "data": {
      "text/plain": [
       "'梁朝偉'"
      ]
     },
     "execution_count": 107,
     "metadata": {},
     "output_type": "execute_result"
    }
   ],
   "source": [
    "a"
   ]
  },
  {
   "cell_type": "code",
   "execution_count": 108,
   "metadata": {},
   "outputs": [
    {
     "data": {
      "text/plain": [
       "'劉青雲'"
      ]
     },
     "execution_count": 108,
     "metadata": {},
     "output_type": "execute_result"
    }
   ],
   "source": [
    "b"
   ]
  },
  {
   "cell_type": "code",
   "execution_count": 109,
   "metadata": {},
   "outputs": [
    {
     "data": {
      "text/plain": [
       "'任達華'"
      ]
     },
     "execution_count": 109,
     "metadata": {},
     "output_type": "execute_result"
    }
   ],
   "source": [
    "c"
   ]
  },
  {
   "cell_type": "code",
   "execution_count": 112,
   "metadata": {},
   "outputs": [],
   "source": [
    "p = '女朋友!!!!!'\n",
    "test_p = '我需要@@@@@'"
   ]
  },
  {
   "cell_type": "code",
   "execution_count": 113,
   "metadata": {},
   "outputs": [],
   "source": [
    "p,test_p = test_p,p"
   ]
  },
  {
   "cell_type": "code",
   "execution_count": 114,
   "metadata": {},
   "outputs": [
    {
     "data": {
      "text/plain": [
       "'我需要@@@@@'"
      ]
     },
     "execution_count": 114,
     "metadata": {},
     "output_type": "execute_result"
    }
   ],
   "source": [
    "p"
   ]
  },
  {
   "cell_type": "code",
   "execution_count": 115,
   "metadata": {},
   "outputs": [
    {
     "data": {
      "text/plain": [
       "'女朋友!!!!!'"
      ]
     },
     "execution_count": 115,
     "metadata": {},
     "output_type": "execute_result"
    }
   ],
   "source": [
    "test_p"
   ]
  }
 ],
 "metadata": {
  "kernelspec": {
   "display_name": "Python 3",
   "language": "python",
   "name": "python3"
  },
  "language_info": {
   "codemirror_mode": {
    "name": "ipython",
    "version": 3
   },
   "file_extension": ".py",
   "mimetype": "text/x-python",
   "name": "python",
   "nbconvert_exporter": "python",
   "pygments_lexer": "ipython3",
   "version": "3.6.4"
  }
 },
 "nbformat": 4,
 "nbformat_minor": 2
}
