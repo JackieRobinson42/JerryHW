{
 "cells": [
  {
   "cell_type": "markdown",
   "metadata": {},
   "source": [
    "# 作業1"
   ]
  },
  {
   "cell_type": "code",
   "execution_count": 7,
   "metadata": {},
   "outputs": [
    {
     "name": "stdout",
     "output_type": "stream",
     "text": [
      "請輸入數字:9453\n"
     ]
    }
   ],
   "source": [
    "x = input('請輸入數字:')"
   ]
  },
  {
   "cell_type": "code",
   "execution_count": 8,
   "metadata": {},
   "outputs": [
    {
     "name": "stdout",
     "output_type": "stream",
     "text": [
      "請輸入數字:9453\n"
     ]
    },
    {
     "data": {
      "text/plain": [
       "True"
      ]
     },
     "execution_count": 8,
     "metadata": {},
     "output_type": "execute_result"
    }
   ],
   "source": [
    "x == input('請輸入數字:')"
   ]
  },
  {
   "cell_type": "code",
   "execution_count": 6,
   "metadata": {},
   "outputs": [
    {
     "name": "stdout",
     "output_type": "stream",
     "text": [
      "請輸入數字:9453\n",
      "請輸入數字:9453\n"
     ]
    },
    {
     "data": {
      "text/plain": [
       "True"
      ]
     },
     "execution_count": 6,
     "metadata": {},
     "output_type": "execute_result"
    }
   ],
   "source": [
    "x1 = input('請輸入數字:');y1 = input('請輸入數字:')\n",
    "x1==y1"
   ]
  },
  {
   "cell_type": "markdown",
   "metadata": {},
   "source": [
    "# 作業2"
   ]
  },
  {
   "cell_type": "code",
   "execution_count": 1,
   "metadata": {},
   "outputs": [
    {
     "name": "stdout",
     "output_type": "stream",
     "text": [
      "猜猜看神奇海螺的數字:[按q離開海洋]:2\n",
      "沒猜到ㄟ！有夠笨\n",
      "猜猜看神奇海螺的數字:[按q離開海洋]:3\n",
      "沒猜到ㄟ！有夠笨\n",
      "猜猜看神奇海螺的數字:[按q離開海洋]:8\n",
      "終於....猜到了\n"
     ]
    }
   ],
   "source": [
    "while True:\n",
    "    number = input(\"猜猜看神奇海螺的數字:[按q離開海洋]:\")\n",
    "    if number == 'q':\n",
    "        break\n",
    "    elif number == '8':\n",
    "        print(\"終於....猜到了\")\n",
    "        break\n",
    "    else:\n",
    "        print(\"沒猜到ㄟ！有夠笨\")\n",
    "        continue"
   ]
  },
  {
   "cell_type": "markdown",
   "metadata": {},
   "source": [
    "# 作業3"
   ]
  },
  {
   "cell_type": "code",
   "execution_count": 33,
   "metadata": {},
   "outputs": [
    {
     "name": "stdout",
     "output_type": "stream",
     "text": [
      "1 * 1 = 1 \n",
      "\n",
      "1 * 2 = 2 \n",
      "\n",
      "1 * 3 = 3 \n",
      "\n",
      "1 * 4 = 4 \n",
      "\n",
      "1 * 5 = 5 \n",
      "\n",
      "1 * 6 = 6 \n",
      "\n",
      "1 * 7 = 7 \n",
      "\n",
      "1 * 8 = 8 \n",
      "\n",
      "1 * 9 = 9 \n",
      "\n",
      "2 * 1 = 2 \n",
      "\n",
      "2 * 2 = 4 \n",
      "\n",
      "2 * 3 = 6 \n",
      "\n",
      "2 * 4 = 8 \n",
      "\n",
      "2 * 5 = 10 \n",
      "\n",
      "2 * 6 = 12 \n",
      "\n",
      "2 * 7 = 14 \n",
      "\n",
      "2 * 8 = 16 \n",
      "\n",
      "2 * 9 = 18 \n",
      "\n",
      "3 * 1 = 3 \n",
      "\n",
      "3 * 2 = 6 \n",
      "\n",
      "3 * 3 = 9 \n",
      "\n",
      "3 * 4 = 12 \n",
      "\n",
      "3 * 5 = 15 \n",
      "\n",
      "3 * 6 = 18 \n",
      "\n",
      "3 * 7 = 21 \n",
      "\n",
      "3 * 8 = 24 \n",
      "\n",
      "3 * 9 = 27 \n",
      "\n",
      "4 * 1 = 4 \n",
      "\n",
      "4 * 2 = 8 \n",
      "\n",
      "4 * 3 = 12 \n",
      "\n",
      "4 * 4 = 16 \n",
      "\n",
      "4 * 5 = 20 \n",
      "\n",
      "4 * 6 = 24 \n",
      "\n",
      "4 * 7 = 28 \n",
      "\n",
      "4 * 8 = 32 \n",
      "\n",
      "4 * 9 = 36 \n",
      "\n",
      "5 * 1 = 5 \n",
      "\n",
      "5 * 2 = 10 \n",
      "\n",
      "5 * 3 = 15 \n",
      "\n",
      "5 * 4 = 20 \n",
      "\n",
      "5 * 5 = 25 \n",
      "\n",
      "5 * 6 = 30 \n",
      "\n",
      "5 * 7 = 35 \n",
      "\n",
      "5 * 8 = 40 \n",
      "\n",
      "5 * 9 = 45 \n",
      "\n",
      "6 * 1 = 6 \n",
      "\n",
      "6 * 2 = 12 \n",
      "\n",
      "6 * 3 = 18 \n",
      "\n",
      "6 * 4 = 24 \n",
      "\n",
      "6 * 5 = 30 \n",
      "\n",
      "6 * 6 = 36 \n",
      "\n",
      "6 * 7 = 42 \n",
      "\n",
      "6 * 8 = 48 \n",
      "\n",
      "6 * 9 = 54 \n",
      "\n",
      "7 * 1 = 7 \n",
      "\n",
      "7 * 2 = 14 \n",
      "\n",
      "7 * 3 = 21 \n",
      "\n",
      "7 * 4 = 28 \n",
      "\n",
      "7 * 5 = 35 \n",
      "\n",
      "7 * 6 = 42 \n",
      "\n",
      "7 * 7 = 49 \n",
      "\n",
      "7 * 8 = 56 \n",
      "\n",
      "7 * 9 = 63 \n",
      "\n",
      "8 * 1 = 8 \n",
      "\n",
      "8 * 2 = 16 \n",
      "\n",
      "8 * 3 = 24 \n",
      "\n",
      "8 * 4 = 32 \n",
      "\n",
      "8 * 5 = 40 \n",
      "\n",
      "8 * 6 = 48 \n",
      "\n",
      "8 * 7 = 56 \n",
      "\n",
      "8 * 8 = 64 \n",
      "\n",
      "8 * 9 = 72 \n",
      "\n",
      "9 * 1 = 9 \n",
      "\n",
      "9 * 2 = 18 \n",
      "\n",
      "9 * 3 = 27 \n",
      "\n",
      "9 * 4 = 36 \n",
      "\n",
      "9 * 5 = 45 \n",
      "\n",
      "9 * 6 = 54 \n",
      "\n",
      "9 * 7 = 63 \n",
      "\n",
      "9 * 8 = 72 \n",
      "\n",
      "9 * 9 = 81 \n",
      "\n"
     ]
    }
   ],
   "source": [
    "for x in range(1,10):\n",
    "    for y in range(1,10):\n",
    "        print(x,'*',y,'=',x * y,'\\n')"
   ]
  },
  {
   "cell_type": "markdown",
   "metadata": {},
   "source": [
    "# 作業4"
   ]
  },
  {
   "cell_type": "code",
   "execution_count": 29,
   "metadata": {},
   "outputs": [],
   "source": [
    "a_list=[]\n",
    "for number in range(1,6):\n",
    "    if number % 2==1:\n",
    "        a_list.append(number)"
   ]
  },
  {
   "cell_type": "code",
   "execution_count": 30,
   "metadata": {},
   "outputs": [
    {
     "data": {
      "text/plain": [
       "[1, 3, 5]"
      ]
     },
     "execution_count": 30,
     "metadata": {},
     "output_type": "execute_result"
    }
   ],
   "source": [
    "a_list"
   ]
  },
  {
   "cell_type": "markdown",
   "metadata": {},
   "source": [
    "# 作業5(Comprehentions寫99乘法表)"
   ]
  },
  {
   "cell_type": "code",
   "execution_count": 46,
   "metadata": {},
   "outputs": [
    {
     "name": "stdout",
     "output_type": "stream",
     "text": [
      "1 * 1 = 1\n",
      "1 * 2 = 2\n",
      "1 * 3 = 3\n",
      "1 * 4 = 4\n",
      "1 * 5 = 5\n",
      "1 * 6 = 6\n",
      "1 * 7 = 7\n",
      "1 * 8 = 8\n",
      "1 * 9 = 9\n",
      "2 * 1 = 2\n",
      "2 * 2 = 4\n",
      "2 * 3 = 6\n",
      "2 * 4 = 8\n",
      "2 * 5 = 10\n",
      "2 * 6 = 12\n",
      "2 * 7 = 14\n",
      "2 * 8 = 16\n",
      "2 * 9 = 18\n",
      "3 * 1 = 3\n",
      "3 * 2 = 6\n",
      "3 * 3 = 9\n",
      "3 * 4 = 12\n",
      "3 * 5 = 15\n",
      "3 * 6 = 18\n",
      "3 * 7 = 21\n",
      "3 * 8 = 24\n",
      "3 * 9 = 27\n",
      "4 * 1 = 4\n",
      "4 * 2 = 8\n",
      "4 * 3 = 12\n",
      "4 * 4 = 16\n",
      "4 * 5 = 20\n",
      "4 * 6 = 24\n",
      "4 * 7 = 28\n",
      "4 * 8 = 32\n",
      "4 * 9 = 36\n",
      "5 * 1 = 5\n",
      "5 * 2 = 10\n",
      "5 * 3 = 15\n",
      "5 * 4 = 20\n",
      "5 * 5 = 25\n",
      "5 * 6 = 30\n",
      "5 * 7 = 35\n",
      "5 * 8 = 40\n",
      "5 * 9 = 45\n",
      "6 * 1 = 6\n",
      "6 * 2 = 12\n",
      "6 * 3 = 18\n",
      "6 * 4 = 24\n",
      "6 * 5 = 30\n",
      "6 * 6 = 36\n",
      "6 * 7 = 42\n",
      "6 * 8 = 48\n",
      "6 * 9 = 54\n",
      "7 * 1 = 7\n",
      "7 * 2 = 14\n",
      "7 * 3 = 21\n",
      "7 * 4 = 28\n",
      "7 * 5 = 35\n",
      "7 * 6 = 42\n",
      "7 * 7 = 49\n",
      "7 * 8 = 56\n",
      "7 * 9 = 63\n",
      "8 * 1 = 8\n",
      "8 * 2 = 16\n",
      "8 * 3 = 24\n",
      "8 * 4 = 32\n",
      "8 * 5 = 40\n",
      "8 * 6 = 48\n",
      "8 * 7 = 56\n",
      "8 * 8 = 64\n",
      "8 * 9 = 72\n",
      "9 * 1 = 9\n",
      "9 * 2 = 18\n",
      "9 * 3 = 27\n",
      "9 * 4 = 36\n",
      "9 * 5 = 45\n",
      "9 * 6 = 54\n",
      "9 * 7 = 63\n",
      "9 * 8 = 72\n",
      "9 * 9 = 81\n"
     ]
    }
   ],
   "source": [
    "rows = range(1,10)\n",
    "columns = range(1,10)\n",
    "for row in rows:\n",
    "    for column in columns:\n",
    "        print(row,'*',column,'=',row*column)"
   ]
  },
  {
   "cell_type": "markdown",
   "metadata": {},
   "source": [
    "# 作業6(鋼鐵人return)"
   ]
  },
  {
   "cell_type": "code",
   "execution_count": 40,
   "metadata": {},
   "outputs": [],
   "source": [
    "def iron_man(iron_man_color):\n",
    "    if iron_man_color == \"紅色\":\n",
    "        return(\"鋼鐵人盔甲是紅色的\")\n",
    "    elif iron_man_color == \"綠色\":\n",
    "        return(\"鋼鐵人其實可以參考浩克的顏色\")\n",
    "    elif iron_man_color == \"藍色\":\n",
    "        return(\"鋼鐵人變成藍色小精靈也不錯\")\n",
    "    else:\n",
    "        return(\"好像沒這種顏色\",iron_man_color)"
   ]
  },
  {
   "cell_type": "code",
   "execution_count": 41,
   "metadata": {},
   "outputs": [
    {
     "data": {
      "text/plain": [
       "'鋼鐵人盔甲是紅色的'"
      ]
     },
     "execution_count": 41,
     "metadata": {},
     "output_type": "execute_result"
    }
   ],
   "source": [
    "iron_man('紅色')"
   ]
  },
  {
   "cell_type": "code",
   "execution_count": 43,
   "metadata": {},
   "outputs": [
    {
     "data": {
      "text/plain": [
       "('好像沒這種顏色', '金色')"
      ]
     },
     "execution_count": 43,
     "metadata": {},
     "output_type": "execute_result"
    }
   ],
   "source": [
    "iron_man(\"金色\")"
   ]
  },
  {
   "cell_type": "markdown",
   "metadata": {},
   "source": [
    "# 作業7(用*引數有加分)"
   ]
  },
  {
   "cell_type": "code",
   "execution_count": 2,
   "metadata": {},
   "outputs": [
    {
     "name": "stdout",
     "output_type": "stream",
     "text": [
      "請輸入第一個數字:4\n",
      "請輸入第二個數字:2\n",
      "請輸入運算子:-\n",
      "2\n"
     ]
    }
   ],
   "source": [
    "arg1 = input(\"請輸入第一個數字:\")\n",
    "arg2 = input(\"請輸入第二個數字:\")\n",
    "operator = input(\"請輸入運算子:\")\n",
    "\n",
    "def Calculator(arg1,arg2,operator):\n",
    "    if operator == '+':\n",
    "        print (int(arg1) + int(arg2))\n",
    "    if operator == '-':\n",
    "        print (int(arg1) - int(arg2))\n",
    "    if operator == '*':\n",
    "        print (int(arg1) * int(arg2))\n",
    "    if operator == '/':\n",
    "        print (int(arg1) / int(arg2))\n",
    "        \n",
    "Calculator(arg1,arg2,operator)\n"
   ]
  },
  {
   "cell_type": "code",
   "execution_count": null,
   "metadata": {},
   "outputs": [],
   "source": []
  }
 ],
 "metadata": {
  "kernelspec": {
   "display_name": "Python 3",
   "language": "python",
   "name": "python3"
  },
  "language_info": {
   "codemirror_mode": {
    "name": "ipython",
    "version": 3
   },
   "file_extension": ".py",
   "mimetype": "text/x-python",
   "name": "python",
   "nbconvert_exporter": "python",
   "pygments_lexer": "ipython3",
   "version": "3.6.4"
  }
 },
 "nbformat": 4,
 "nbformat_minor": 2
}
