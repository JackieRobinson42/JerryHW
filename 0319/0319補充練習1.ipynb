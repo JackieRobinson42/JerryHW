{
 "cells": [
  {
   "cell_type": "code",
   "execution_count": 3,
   "metadata": {},
   "outputs": [],
   "source": [
    "class_ntust1 = {\n",
    "    \n",
    "    \"member1\":\"芝加哥\",\n",
    "    \"member2\":\"底特律\",\n",
    "    \"member3\":\"休士頓\",\n",
    "}"
   ]
  },
  {
   "cell_type": "code",
   "execution_count": 5,
   "metadata": {},
   "outputs": [],
   "source": [
    "class_ntust2 = {\n",
    "    \n",
    "    \"member4\":\"芝加哥1\",\n",
    "    \"member5\":\"底特律2\",\n",
    "    \"member6\":\"休士頓3\",\n",
    "}"
   ]
  },
  {
   "cell_type": "code",
   "execution_count": 6,
   "metadata": {},
   "outputs": [],
   "source": [
    "class_ntust1.update(class_ntust2)"
   ]
  },
  {
   "cell_type": "code",
   "execution_count": 7,
   "metadata": {},
   "outputs": [
    {
     "data": {
      "text/plain": [
       "{'member1': '芝加哥',\n",
       " 'member2': '底特律',\n",
       " 'member3': '休士頓',\n",
       " 'member4': '芝加哥1',\n",
       " 'member5': '底特律2',\n",
       " 'member6': '休士頓3'}"
      ]
     },
     "execution_count": 7,
     "metadata": {},
     "output_type": "execute_result"
    }
   ],
   "source": [
    "class_ntust1"
   ]
  },
  {
   "cell_type": "code",
   "execution_count": 9,
   "metadata": {},
   "outputs": [],
   "source": [
    "del class_ntust1['member1']"
   ]
  },
  {
   "cell_type": "code",
   "execution_count": 10,
   "metadata": {},
   "outputs": [
    {
     "data": {
      "text/plain": [
       "{'member2': '底特律',\n",
       " 'member3': '休士頓',\n",
       " 'member4': '芝加哥1',\n",
       " 'member5': '底特律2',\n",
       " 'member6': '休士頓3'}"
      ]
     },
     "execution_count": 10,
     "metadata": {},
     "output_type": "execute_result"
    }
   ],
   "source": [
    "class_ntust1"
   ]
  }
 ],
 "metadata": {
  "kernelspec": {
   "display_name": "Python 3",
   "language": "python",
   "name": "python3"
  },
  "language_info": {
   "codemirror_mode": {
    "name": "ipython",
    "version": 3
   },
   "file_extension": ".py",
   "mimetype": "text/x-python",
   "name": "python",
   "nbconvert_exporter": "python",
   "pygments_lexer": "ipython3",
   "version": "3.6.4"
  }
 },
 "nbformat": 4,
 "nbformat_minor": 2
}
